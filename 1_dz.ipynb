{
 "cells": [
  {
   "cell_type": "markdown",
   "id": "0dee24c0-e9bf-427b-9b04-43e4c8220228",
   "metadata": {
    "id": "0dee24c0-e9bf-427b-9b04-43e4c8220228"
   },
   "source": [
    "# Домашнее задание"
   ]
  },
  {
   "cell_type": "code",
   "execution_count": 23,
   "id": "54cfb5e1",
   "metadata": {},
   "outputs": [],
   "source": [
    "import pandas as pd\n",
    "import numpy as np\n",
    "from sklearn.linear_model import LinearRegression\n",
    "from sklearn.metrics import mean_squared_error, r2_score\n",
    "from sklearn.preprocessing import StandardScaler"
   ]
  },
  {
   "cell_type": "markdown",
   "id": "feafcfd9-2d32-4682-bcd0-07a0c9bbd32c",
   "metadata": {
    "id": "feafcfd9-2d32-4682-bcd0-07a0c9bbd32c"
   },
   "source": [
    "Математический анализ\n",
    "69 баллов"
   ]
  },
  {
   "cell_type": "markdown",
   "id": "b2345ed9-1018-4084-9636-7e7b92bd6c64",
   "metadata": {
    "id": "b2345ed9-1018-4084-9636-7e7b92bd6c64"
   },
   "source": [
    "**Задача 1** (14 баллов)\n",
    "\n",
    "Найдите экстремумы функции:"
   ]
  },
  {
   "cell_type": "markdown",
   "id": "e25e75bf-9d1e-4511-8846-8bfe99ae17f8",
   "metadata": {
    "id": "e25e75bf-9d1e-4511-8846-8bfe99ae17f8"
   },
   "source": [
    "$$\n",
    "f(x, y, z)=2 x^3+2 x y+2 x z+y^2+z^2+2 y-8 .\n",
    "$$"
   ]
  },
  {
   "cell_type": "code",
   "execution_count": 24,
   "id": "af008f91",
   "metadata": {},
   "outputs": [
    {
     "name": "stdout",
     "output_type": "stream",
     "text": [
      "10\n"
     ]
    }
   ],
   "source": [
    "from sympy import FiniteSet, Union\n",
    "l1 = set(['bennet@xyz.com',\n",
    "'darcy@abc.com',\n",
    "\"margaret@xyz.com\",\n",
    "\"pa@hhh.com\",\n",
    "'marimari@xyz.com',\n",
    "'mallika@yahoo.com',\n",
    "'abc@xyz.com',\n",
    "'0071235@gmail.ru']) \n",
    "l2 = set(['marimari@xyz.com',\n",
    "'darcy@abc.com',\n",
    "'0071235@gmail.ru',\n",
    "'darcy@abc.com',\n",
    "'petr44@xyz.com',\n",
    "'katrin@ya.com']) \n",
    "\n",
    "print(len(l1 | l2))"
   ]
  },
  {
   "cell_type": "code",
   "execution_count": 25,
   "id": "8895d7a9",
   "metadata": {},
   "outputs": [],
   "source": [
    "import sympy as sp"
   ]
  },
  {
   "cell_type": "markdown",
   "id": "ce92b07d-f19e-4f72-ab80-d04d0bae9984",
   "metadata": {
    "id": "ce92b07d-f19e-4f72-ab80-d04d0bae9984"
   },
   "source": [
    "Распишите подробное решение."
   ]
  },
  {
   "cell_type": "code",
   "execution_count": 26,
   "id": "0eddb54d-58f6-47ed-bef4-cb262d500cbe",
   "metadata": {
    "id": "0eddb54d-58f6-47ed-bef4-cb262d500cbe"
   },
   "outputs": [
    {
     "name": "stdout",
     "output_type": "stream",
     "text": [
      "Частные производные:\n",
      "   2            \n",
      "6⋅x  + 2⋅y + 2⋅z\n",
      "2⋅x + 2⋅y + 2\n",
      "2⋅x + 2⋅z\n",
      "\n",
      "Система уравнений:\n",
      "   2                \n",
      "6⋅x  + 2⋅y + 2⋅z = 0\n",
      "2⋅x + 2⋅y + 2 = 0\n",
      "2⋅x + 2⋅z = 0\n",
      "\n",
      "Решение системы уравнений:\n",
      "{x: -1/3, y: -2/3, z: 1/3}\n",
      "{x: 1, y: -2, z: -1}\n",
      "\n",
      "Матрица Гессе:\n",
      "⎡12⋅x  2  2⎤\n",
      "⎢          ⎥\n",
      "⎢ 2    2  0⎥\n",
      "⎢          ⎥\n",
      "⎣ 2    0  2⎦\n",
      "\n",
      "Анализ точки: {x: -1/3, y: -2/3, z: 1/3}\n",
      "Матрица Гессе в точке:\n",
      "⎡-4  2  2⎤\n",
      "⎢        ⎥\n",
      "⎢2   2  0⎥\n",
      "⎢        ⎥\n",
      "⎣2   0  2⎦\n",
      "Главные миноры: [-4, -12, -32]\n",
      "Седловая точка\n",
      "\n",
      "Анализ точки: {x: 1, y: -2, z: -1}\n",
      "Матрица Гессе в точке:\n",
      "⎡12  2  2⎤\n",
      "⎢        ⎥\n",
      "⎢2   2  0⎥\n",
      "⎢        ⎥\n",
      "⎣2   0  2⎦\n",
      "Главные миноры: [12, 20, 32]\n",
      "Точка минимума\n"
     ]
    }
   ],
   "source": [
    "import sympy as sp\n",
    "\n",
    "# Определяем переменные\n",
    "x, y, z = sp.symbols('x y z')\n",
    "\n",
    "# Определяем функцию\n",
    "f = 2 * x**3 + 2 * x * y + 2 * x * z + y**2 + z**2 + 2 * y - 8\n",
    "\n",
    "# Шаг 1: Вычисление частных производных\n",
    "df_dx = sp.diff(f, x)\n",
    "df_dy = sp.diff(f, y)\n",
    "df_dz = sp.diff(f, z)\n",
    "\n",
    "print(\"Частные производные:\")\n",
    "sp.pprint(df_dx)\n",
    "sp.pprint(df_dy)\n",
    "sp.pprint(df_dz)\n",
    "\n",
    "# Шаг 2: Составление системы уравнений\n",
    "equations = [\n",
    "    sp.Eq(df_dx, 0),\n",
    "    sp.Eq(df_dy, 0),\n",
    "    sp.Eq(df_dz, 0)\n",
    "]\n",
    "\n",
    "print(\"\\nСистема уравнений:\")\n",
    "for eq in equations:\n",
    "    sp.pprint(eq)\n",
    "\n",
    "# Шаг 3: Решение системы уравнений\n",
    "solutions = sp.solve(equations, (x, y, z), dict=True)\n",
    "\n",
    "print(\"\\nРешение системы уравнений:\")\n",
    "for sol in solutions:\n",
    "    sp.pprint(sol)\n",
    "\n",
    "# Шаг 4: Анализ второго порядка (матрица Гессе)\n",
    "hessian = sp.Matrix([\n",
    "    [sp.diff(f, x, x), sp.diff(f, x, y), sp.diff(f, x, z)],\n",
    "    [sp.diff(f, y, x), sp.diff(f, y, y), sp.diff(f, y, z)],\n",
    "    [sp.diff(f, z, x), sp.diff(f, z, y), sp.diff(f, z, z)]\n",
    "])\n",
    "\n",
    "print(\"\\nМатрица Гессе:\")\n",
    "sp.pprint(hessian)\n",
    "\n",
    "# Шаг 5: Определение типа экстремума\n",
    "for sol in solutions:\n",
    "    print(f\"\\nАнализ точки: {sol}\")\n",
    "    H = hessian.subs(sol)\n",
    "    print(\"Матрица Гессе в точке:\")\n",
    "    sp.pprint(H)\n",
    "    \n",
    "    # Вычисление главных миноров\n",
    "    minors = [H[:i, :i].det() for i in range(1, 4)]\n",
    "    print(\"Главные миноры:\", minors)\n",
    "    \n",
    "    # Определение типа экстремума\n",
    "    if all(m > 0 for m in minors):\n",
    "        print(\"Точка минимума\")\n",
    "    elif minors[0] < 0 and minors[1] > 0 and minors[2] < 0:\n",
    "        print(\"Точка максимума\")\n",
    "    else:\n",
    "        print(\"Седловая точка\")"
   ]
  },
  {
   "cell_type": "markdown",
   "id": "b38584b7-0da5-4858-9422-ff5bc2b3854f",
   "metadata": {
    "id": "b38584b7-0da5-4858-9422-ff5bc2b3854f"
   },
   "source": [
    "**Задача 2** (25 баллов)\n",
    "\n",
    "Найдите условные экстремумы функции:"
   ]
  },
  {
   "cell_type": "markdown",
   "id": "b36ed820-965b-484d-baab-b2cafebe7479",
   "metadata": {
    "id": "b36ed820-965b-484d-baab-b2cafebe7479"
   },
   "source": [
    "$$\n",
    "f(x, y)=4 x+8 y, y^2-2 x y+5=0\n",
    "$$"
   ]
  },
  {
   "cell_type": "markdown",
   "id": "2ce1c6f1-d126-4368-a63e-2bbbefffd542",
   "metadata": {
    "id": "2ce1c6f1-d126-4368-a63e-2bbbefffd542"
   },
   "source": [
    "Вычислите результат самостоятельно (вручную) и с помощью Python. Сравните результаты."
   ]
  },
  {
   "cell_type": "markdown",
   "metadata": {},
   "source": [
    "### Метод множителей Лагранжа\n",
    "Для нахождения условных экстремумов используем метод множителей Лагранжа. Определим функцию Лагранжа:\n",
    "$$\n",
    "L(x,y,λ)=f(x,y)−λ⋅g(x,y)\n",
    "$$\n",
    "$$\n",
    "g(x,y)=y^2−2xy+5\n",
    "$$\n",
    "\n",
    "Функция Лагрнажа\n",
    "$$\n",
    "L(x,y,λ)=4x+8y−λ(y^2−2xy+5)\n",
    "$$\n",
    "\n",
    "### Вычисление частных производных\n",
    "Вычислим частные производные функции Лагранжа по x, y и λ и приравняем их к нулю:\n",
    "\n",
    "По \\(x\\):\n",
    "$$\n",
    "\\frac{\\partial L}{\\partial x} = 4 - \\lambda (-2y) = 4 + 2\\lambda y = 0.\n",
    "$$\n",
    "\n",
    "По \\(y\\):\n",
    "$$\n",
    "\\frac{\\partial L}{\\partial y} = 8 - \\lambda (2y - 2x) = 8 - 2\\lambda y + 2\\lambda x = 0.\n",
    "$$\n",
    "\n",
    "По \\(λ):\n",
    "$$\n",
    "\\frac{\\partial L}{\\partial \\lambda} = -(y^2 - 2xy + 5) = 0 \\quad \\Rightarrow \\quad y^2 - 2xy + 5 = 0.\n",
    "$$\n",
    "\n",
    "---\n",
    "\n",
    "### Решение системы уравнений\n",
    "Имеем систему уравнений:\n",
    "$$\n",
    "\\begin{cases}\n",
    "4 + 2\\lambda y = 0, \\\\\n",
    "8 - 2\\lambda y + 2\\lambda x = 0, \\\\\n",
    "y^2 - 2xy + 5 = 0.\n",
    "\\end{cases}\n",
    "$$\n",
    "\n",
    "**Шаг 1. Выразим \\(λ\\) из первого уравнения:**\n",
    "$$\n",
    "4 + 2\\lambda y = 0 \\quad \\Rightarrow \\quad \\lambda = -\\frac{2}{y}.\n",
    "$$\n",
    "\n",
    "**Шаг 2. Подставим \\(λ = -2/y\\) во второе уравнение:**\n",
    "$$\n",
    "8 - 2\\left(-\\frac{2}{y}\\right)y + 2\\left(-\\frac{2}{y}\\right)x = 0,\n",
    "$$\n",
    "$$\n",
    "8 + 4 - 4xy = 0 \\quad \\Rightarrow \\quad 12 - 4xy = 0 \\quad \\Rightarrow \\quad xy = 3.\n",
    "$$\n",
    "\n",
    "**Шаг 3. Подставим \\(x = 3/y\\) в третье уравнение:**\n",
    "$$\n",
    "y^2 - 2\\left(\\frac{3}{y}\\right)y + 5 = 0,\n",
    "$$\n",
    "$$\n",
    "y^2 - 6 + 5 = 0 \\quad \\Rightarrow \\quad y^2 = 1.\n",
    "$$\n",
    "\n",
    "**Шаг 4. Найдем \\(y\\):**\n",
    "$$\n",
    "y = \\pm 1.\n",
    "$$\n",
    "\n",
    "**Соответствующие значения \\(x\\):**\n",
    "- Если \\(y = 1\\), то \\(x = 3\\).\n",
    "- Если \\(y = -1\\), то \\(x = -3\\).\n",
    "\n",
    "---\n",
    "\n",
    "### Проверка экстремумов\n",
    "Вычислим значения функции \\(f(x, y) = 4x + 8y\\) в найденных точках:\n",
    "\n",
    "В точке \\((3, 1)\\):\n",
    "$$\n",
    "f(3, 1) = 4 \\cdot 3 + 8 \\cdot 1 = 12 + 8 = 20.\n",
    "$$\n",
    "\n",
    "В точке \\((-3, -1)\\):\n",
    "$$\n",
    "f(-3, -1) = 4 \\cdot (-3) + 8 \\cdot (-1) = -12 - 8 = -20.\n",
    "$$\n",
    "\n",
    "---\n",
    "\n",
    "### Итоговый результат\n",
    "Максимум функции:\n",
    "$$\n",
    "f(3, 1) = 20.\n",
    "$$\n",
    "\n",
    "Минимум функции:\n",
    "$$\n",
    "f(-3, -1) = -20.\n",
    "$$\n"
   ]
  },
  {
   "cell_type": "code",
   "execution_count": 27,
   "id": "818929f6-c478-49ad-997e-536d3c4f7f33",
   "metadata": {
    "id": "818929f6-c478-49ad-997e-536d3c4f7f33"
   },
   "outputs": [
    {
     "name": "stdout",
     "output_type": "stream",
     "text": [
      "Решения системы уравнений:\n",
      "{l: -2, x: 3, y: 1}\n",
      "{l: 2, x: -3, y: -1}\n",
      "\n",
      "Значения функции в найденных точках:\n",
      "20\n",
      "-20\n"
     ]
    }
   ],
   "source": [
    "import sympy as sp\n",
    "\n",
    "# Определяем переменные\n",
    "x, y, l = sp.symbols('x y l')\n",
    "\n",
    "# Определяем функцию и условие\n",
    "f = 4 * x + 8 * y\n",
    "g = y**2 - 2 * x * y + 5\n",
    "\n",
    "# Функция Лагранжа\n",
    "L = f - l * g\n",
    "\n",
    "# Вычисляем частные производные\n",
    "dL_dx = sp.diff(L, x)\n",
    "dL_dy = sp.diff(L, y)\n",
    "dL_dl = sp.diff(L, l)\n",
    "\n",
    "# Составляем систему уравнений\n",
    "equations = [\n",
    "    sp.Eq(dL_dx, 0),\n",
    "    sp.Eq(dL_dy, 0),\n",
    "    sp.Eq(dL_dl, 0)\n",
    "]\n",
    "\n",
    "# Решаем систему уравнений\n",
    "solutions = sp.solve(equations, (x, y, l), dict=True)\n",
    "\n",
    "# Выводим решения\n",
    "print(\"Решения системы уравнений:\")\n",
    "for sol in solutions:\n",
    "    sp.pprint(sol)\n",
    "\n",
    "# Вычисляем значения функции в найденных точках\n",
    "print(\"\\nЗначения функции в найденных точках:\")\n",
    "for sol in solutions:\n",
    "    value = f.subs(sol)\n",
    "    sp.pprint(value)"
   ]
  },
  {
   "cell_type": "markdown",
   "id": "d99e6ce7",
   "metadata": {},
   "source": [
    "### При сравнении решения вручню и с помощью python не найдено различий, ответы аналогичны"
   ]
  },
  {
   "cell_type": "markdown",
   "id": "818083c3-7318-4669-bb15-5a8a48ef543d",
   "metadata": {
    "id": "818083c3-7318-4669-bb15-5a8a48ef543d"
   },
   "source": [
    "**Задача 3** (30 баллов)\n",
    "\n",
    "Вам предложены данные с информацией о успеваемости студентов:\n",
    "\n",
    "Независимые переменные:\n",
    "* Hours Studied: Общее количество часов, потраченных на учебу каждым студентом.\n",
    "* Previous Scores: Баллы, полученные студентами на предыдущих экзаменах.\n",
    "* Sleep Hours: Среднее количество часов сна студента в сутки.\n",
    "* Sample Question Papers Practiced: Количество пробных экзаменационных работ, с которыми студент занимался.\n",
    "  \n",
    "Целевая переменная:\n",
    "* Performance Index: Показатель общей успеваемости каждого студента. Индекс успеваемости отражает академическую успеваемость студента и округляется до ближайшего целого числа. Индекс варьируется от 10 до 100, при этом более высокие значения свидетельствуют о более высокой успеваемости."
   ]
  },
  {
   "cell_type": "markdown",
   "id": "f65c2300-43b2-4c43-b762-1e20d29ae889",
   "metadata": {
    "id": "f65c2300-43b2-4c43-b762-1e20d29ae889"
   },
   "source": [
    "**Решите задачу линейной регрессии, реализовав градиентный спуск самостоятельно, не используя готовое решение из какой-либо библиотеки.**"
   ]
  },
  {
   "cell_type": "code",
   "execution_count": 44,
   "id": "3900c065-fb9b-45bf-bc1f-a9c9d0ab5c20",
   "metadata": {
    "id": "3900c065-fb9b-45bf-bc1f-a9c9d0ab5c20"
   },
   "outputs": [
    {
     "name": "stdout",
     "output_type": "stream",
     "text": [
      "   Hours Studied  Previous Scores  Sleep Hours  \\\n",
      "0              7               99            9   \n",
      "1              4               82            4   \n",
      "2              8               51            7   \n",
      "3              5               52            5   \n",
      "4              7               75            8   \n",
      "\n",
      "   Sample Question Papers Practiced  Performance Index  \n",
      "0                                 1               91.0  \n",
      "1                                 2               65.0  \n",
      "2                                 2               45.0  \n",
      "3                                 2               36.0  \n",
      "4                                 5               66.0  \n",
      "       Hours Studied  Previous Scores   Sleep Hours  \\\n",
      "count   10000.000000     10000.000000  10000.000000   \n",
      "mean        4.992900        69.445700      6.530600   \n",
      "std         2.589309        17.343152      1.695863   \n",
      "min         1.000000        40.000000      4.000000   \n",
      "25%         3.000000        54.000000      5.000000   \n",
      "50%         5.000000        69.000000      7.000000   \n",
      "75%         7.000000        85.000000      8.000000   \n",
      "max         9.000000        99.000000      9.000000   \n",
      "\n",
      "       Sample Question Papers Practiced  Performance Index  \n",
      "count                      10000.000000       10000.000000  \n",
      "mean                           4.583300          55.224800  \n",
      "std                            2.867348          19.212558  \n",
      "min                            0.000000          10.000000  \n",
      "25%                            2.000000          40.000000  \n",
      "50%                            5.000000          55.000000  \n",
      "75%                            7.000000          71.000000  \n",
      "max                            9.000000         100.000000  \n",
      "<class 'pandas.core.frame.DataFrame'>\n",
      "RangeIndex: 10000 entries, 0 to 9999\n",
      "Data columns (total 5 columns):\n",
      " #   Column                            Non-Null Count  Dtype  \n",
      "---  ------                            --------------  -----  \n",
      " 0   Hours Studied                     10000 non-null  int64  \n",
      " 1   Previous Scores                   10000 non-null  int64  \n",
      " 2   Sleep Hours                       10000 non-null  int64  \n",
      " 3   Sample Question Papers Practiced  10000 non-null  int64  \n",
      " 4   Performance Index                 10000 non-null  float64\n",
      "dtypes: float64(1), int64(4)\n",
      "memory usage: 390.8 KB\n",
      "None\n",
      "Собственноручно написанная модель:\n",
      "MSE: 4.245176108662535\n",
      "R2 Score: 0.9884981216772581\n",
      "\n",
      "Модель Sklearn:\n",
      "MSE: 4.245176108662532\n",
      "R2 Score: 0.9884981216772581\n",
      "\n",
      "Веса полученные из собственной модели: [27.6124      7.38803991 17.66456606  0.80775508  0.55967343]\n",
      "Веса полученные из модели Sklearn: [[ 0.          7.38803993 17.66456609  0.80775508  0.55967342]]\n"
     ]
    }
   ],
   "source": [
    "\n",
    "df = pd.read_csv('data/Student_Performance.csv', delimiter=',')\n",
    "\n",
    "# удаляем не указанный в задании столбец\n",
    "df.drop('Extracurricular Activities', axis=1, inplace=True)\n",
    "n = df.shape[0]\n",
    "print(df.head())\n",
    "print(df.describe())\n",
    "print(df.info())\n",
    "# 1. Подготовка данных\n",
    "X = df[['Hours Studied', 'Previous Scores', 'Sleep Hours', 'Sample Question Papers Practiced']].values.reshape(n,4)\n",
    "y = df['Performance Index'].values.reshape(n,1)\n",
    "\n",
    "\n",
    "# Стандартизация данных\n",
    "scaler = StandardScaler()\n",
    "X = scaler.fit_transform(X)\n",
    "## Добавление столбца единиц для свободного члена\n",
    "X = np.append(np.ones((n, 1)), X, axis=1)\n",
    "# 2. Градиентный спуск\n",
    "\n",
    "class LinearRegressionGD:\n",
    "    def __init__(self, learning_rate=0.01, epochs=1000):\n",
    "        self.learning_rate = learning_rate\n",
    "        self.epochs = epochs\n",
    "        self.weights = None\n",
    "        self.bias = None\n",
    "\n",
    "    def fit(self, X, y):\n",
    "        y = y.reshape(-1)\n",
    "        \n",
    "        n_samples, n_features = X.shape\n",
    "        self.weights = np.zeros(n_features)\n",
    "        self.bias = 0 \n",
    "\n",
    "        for epoch in range(self.epochs):\n",
    "            y_predicted = self.predict(X)\n",
    "\n",
    "            dw = -(2 / n_samples) * np.dot(X.T, (y - y_predicted))  \n",
    "            db = -(2 / n_samples) * np.sum(y - y_predicted) \n",
    "            self.weights -= self.learning_rate * dw\n",
    "            self.bias -= self.learning_rate * db\n",
    "\n",
    "    def predict(self, X):\n",
    "        return np.dot(X, self.weights) + self.bias\n",
    "\n",
    "\n",
    "# Инициализация модели\n",
    "model_gd = LinearRegressionGD(learning_rate=0.01, epochs=1000)\n",
    "model_gd.fit(X, y)\n",
    "y_pred_gd = model_gd.predict(X)\n",
    "\n",
    "# 3. Оценка точности модели\n",
    "mse_gd = mean_squared_error(y, y_pred_gd)\n",
    "r2_gd = r2_score(y, y_pred_gd)\n",
    "\n",
    "print(\"Собственноручно написанная модель:\")\n",
    "print(f\"MSE: {mse_gd}\")\n",
    "print(f\"R2 Score: {r2_gd}\")\n",
    "\n",
    "# 4. Библиотечное решение\n",
    "lr = LinearRegression()\n",
    "lr.fit(X, y)\n",
    "y_pred_lr = lr.predict(X)\n",
    "\n",
    "mse_lr = mean_squared_error(y, y_pred_lr)\n",
    "r2_lr = r2_score(y, y_pred_lr)\n",
    "\n",
    "print(\"\\nМодель Sklearn:\")\n",
    "print(f\"MSE: {mse_lr}\")\n",
    "print(f\"R2 Score: {r2_lr}\")\n",
    "\n",
    "# 5. Сравнение коэффициентов\n",
    "print(\"\\nВеса полученные из собственной модели:\", model_gd.weights)\n",
    "print(\"Веса полученные из модели Sklearn:\", lr.coef_)"
   ]
  },
  {
   "cell_type": "markdown",
   "id": "03d5a9c3",
   "metadata": {},
   "source": [
    "В сравнении собстенноручно написанной моделью, веса полученные с помощью модели в реализации sklearn, различаются несущественно."
   ]
  }
 ],
 "metadata": {
  "colab": {
   "provenance": []
  },
  "kernelspec": {
   "display_name": "Python 3",
   "language": "python",
   "name": "python3"
  },
  "language_info": {
   "codemirror_mode": {
    "name": "ipython",
    "version": 3
   },
   "file_extension": ".py",
   "mimetype": "text/x-python",
   "name": "python",
   "nbconvert_exporter": "python",
   "pygments_lexer": "ipython3",
   "version": "3.11.10"
  }
 },
 "nbformat": 4,
 "nbformat_minor": 5
}
