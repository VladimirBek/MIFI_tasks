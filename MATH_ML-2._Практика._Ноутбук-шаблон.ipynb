{
 "cells": [
  {
   "cell_type": "markdown",
   "id": "b054bd88",
   "metadata": {
    "id": "b054bd88"
   },
   "source": [
    "# <center> Линейная алгебра в контексте линейных методов. Практика.\n",
    "\n",
    "## <center> Прогнозирование выработки газа на скважинах."
   ]
  },
  {
   "cell_type": "markdown",
   "id": "325bc80b",
   "metadata": {
    "id": "325bc80b"
   },
   "source": [
    "## Постановка задачи"
   ]
  },
  {
   "cell_type": "markdown",
   "id": "8247bd54",
   "metadata": {
    "id": "8247bd54"
   },
   "source": [
    "У Василия, основателя компании «Газ-Таз-Ваз-Нефть», дела идут в гору: у него уже функционирует 200 скважин для добычи газа. В этом году он открывает 30 новых скважин. Однако в целях оптимизации расходов и повышения дохода Василию необходимо оценить, сколько денег будет приносить ему каждая из скважин, а также понять, какие факторы (параметры скважин) потенциально сильнее всего повлияют на объём добычи газа. Для этого Василий решил нанять вас как специалиста в области Data Science.\n",
    "\n",
    "Василий представляет вам набор данных о добыче газа на своих скважинах. Файл с данными вы можете скачать на платформе.\n",
    "\n",
    "**Признаки в данных:**\n",
    "\n",
    "* Well — идентификатор скважины;\n",
    "* Por — пористость скважины (%);\n",
    "* Perm — проницаемость скважины;\n",
    "* AI — акустический импеданс ($кг/м^2 * 10^6$);\n",
    "* Brittle — коэффициент хрупкости скважины (%);\n",
    "* TOC — общий органический углерод (%);\n",
    "* VR — коэффициент отражения витринита (%);\n",
    "* Prod — добыча газа в сутки (млн. кубических футов).\n",
    "\n",
    "**Ваша задача** — построить регрессионную модель, которая прогнозирует выработку газа на скважине (целевой признак — Prod) на основе остальных характеристик скважины, и проинтерпретировать результаты вашей модели.\n",
    "\n",
    "Разделим задачу на две части:\n",
    "* В первой мы построим простейшую модель линейной регрессии, проанализируем результаты её работы и выберем наиболее значимые факторы для прогнозирования.\n",
    "* Во второй мы займёмся построением модели полиномиальной регрессии с регуляризацией и посмотрим на итоговые результаты моделирования.\n"
   ]
  },
  {
   "cell_type": "markdown",
   "id": "d67d069e",
   "metadata": {
    "id": "d67d069e"
   },
   "source": [
    "Импортируем необходимые библиотеки:"
   ]
  },
  {
   "cell_type": "code",
   "execution_count": 2,
   "id": "83a555bc-8dff-4b7e-bba1-cd4f4a9e69b2",
   "metadata": {
    "ExecuteTime": {
     "end_time": "2024-12-12T19:37:08.258219627Z",
     "start_time": "2024-12-12T19:37:07.957135072Z"
    },
    "id": "83a555bc-8dff-4b7e-bba1-cd4f4a9e69b2"
   },
   "outputs": [],
   "source": [
    "# Импорт библиотек\n",
    "import numpy as np # для работы с массивами\n",
    "import pandas as pd # для работы с DataFrame \n",
    "import seaborn as sns # библиотека для визуализации статистических данных\n",
    "import matplotlib.pyplot as plt # для построения графиков\n",
    "\n",
    "%matplotlib inline"
   ]
  },
  {
   "cell_type": "markdown",
   "id": "e689ddaf",
   "metadata": {
    "id": "e689ddaf"
   },
   "source": [
    "Прочитаем исходные данные:"
   ]
  },
  {
   "cell_type": "code",
   "execution_count": 3,
   "id": "b7b5cd9b-703f-4dbc-a6e3-61d583eafcac",
   "metadata": {
    "ExecuteTime": {
     "end_time": "2024-12-12T19:37:08.371384513Z",
     "start_time": "2024-12-12T19:37:07.998863566Z"
    },
    "colab": {
     "base_uri": "https://localhost:8080/",
     "height": 206
    },
    "id": "b7b5cd9b-703f-4dbc-a6e3-61d583eafcac",
    "outputId": "d4e99a48-2a0d-4edd-f86c-617c44bf36d2"
   },
   "outputs": [
    {
     "data": {
      "text/html": [
       "<div>\n",
       "<style scoped>\n",
       "    .dataframe tbody tr th:only-of-type {\n",
       "        vertical-align: middle;\n",
       "    }\n",
       "\n",
       "    .dataframe tbody tr th {\n",
       "        vertical-align: top;\n",
       "    }\n",
       "\n",
       "    .dataframe thead th {\n",
       "        text-align: right;\n",
       "    }\n",
       "</style>\n",
       "<table border=\"1\" class=\"dataframe\">\n",
       "  <thead>\n",
       "    <tr style=\"text-align: right;\">\n",
       "      <th></th>\n",
       "      <th>Well</th>\n",
       "      <th>Por</th>\n",
       "      <th>Perm</th>\n",
       "      <th>AI</th>\n",
       "      <th>Brittle</th>\n",
       "      <th>TOC</th>\n",
       "      <th>VR</th>\n",
       "      <th>Prod</th>\n",
       "    </tr>\n",
       "  </thead>\n",
       "  <tbody>\n",
       "    <tr>\n",
       "      <th>0</th>\n",
       "      <td>1</td>\n",
       "      <td>12.08</td>\n",
       "      <td>2.92</td>\n",
       "      <td>2.80</td>\n",
       "      <td>81.40</td>\n",
       "      <td>1.16</td>\n",
       "      <td>2.31</td>\n",
       "      <td>4165.196191</td>\n",
       "    </tr>\n",
       "    <tr>\n",
       "      <th>1</th>\n",
       "      <td>2</td>\n",
       "      <td>12.38</td>\n",
       "      <td>3.53</td>\n",
       "      <td>3.22</td>\n",
       "      <td>46.17</td>\n",
       "      <td>0.89</td>\n",
       "      <td>1.88</td>\n",
       "      <td>3561.146205</td>\n",
       "    </tr>\n",
       "    <tr>\n",
       "      <th>2</th>\n",
       "      <td>3</td>\n",
       "      <td>14.02</td>\n",
       "      <td>2.59</td>\n",
       "      <td>4.01</td>\n",
       "      <td>72.80</td>\n",
       "      <td>0.89</td>\n",
       "      <td>2.72</td>\n",
       "      <td>4284.348574</td>\n",
       "    </tr>\n",
       "    <tr>\n",
       "      <th>3</th>\n",
       "      <td>4</td>\n",
       "      <td>17.67</td>\n",
       "      <td>6.75</td>\n",
       "      <td>2.63</td>\n",
       "      <td>39.81</td>\n",
       "      <td>1.08</td>\n",
       "      <td>1.88</td>\n",
       "      <td>5098.680869</td>\n",
       "    </tr>\n",
       "    <tr>\n",
       "      <th>4</th>\n",
       "      <td>5</td>\n",
       "      <td>17.52</td>\n",
       "      <td>4.57</td>\n",
       "      <td>3.18</td>\n",
       "      <td>10.94</td>\n",
       "      <td>1.51</td>\n",
       "      <td>1.90</td>\n",
       "      <td>3406.132832</td>\n",
       "    </tr>\n",
       "  </tbody>\n",
       "</table>\n",
       "</div>"
      ],
      "text/plain": [
       "   Well    Por  Perm    AI  Brittle   TOC    VR         Prod\n",
       "0     1  12.08  2.92  2.80    81.40  1.16  2.31  4165.196191\n",
       "1     2  12.38  3.53  3.22    46.17  0.89  1.88  3561.146205\n",
       "2     3  14.02  2.59  4.01    72.80  0.89  2.72  4284.348574\n",
       "3     4  17.67  6.75  2.63    39.81  1.08  1.88  5098.680869\n",
       "4     5  17.52  4.57  3.18    10.94  1.51  1.90  3406.132832"
      ]
     },
     "execution_count": 3,
     "metadata": {},
     "output_type": "execute_result"
    }
   ],
   "source": [
    "data = pd.read_csv('data/unconv.csv')\n",
    "data.head()"
   ]
  },
  {
   "cell_type": "markdown",
   "id": "58639b40",
   "metadata": {
    "id": "58639b40"
   },
   "source": [
    "## Практика: линейная регрессия по методу наименьших квадратов"
   ]
  },
  {
   "cell_type": "markdown",
   "id": "a90535b8",
   "metadata": {
    "id": "a90535b8"
   },
   "source": [
    "Для начала построим простейшую модель линейной регрессии, проанализируем результаты её работы и выберем наиболее значимые факторы для прогнозирования.\n",
    "\n",
    "В первой части вам предстоит выполнить задания 5.0–5.6. Максимальное количество баллов, которое можно получить, — 9."
   ]
  },
  {
   "cell_type": "markdown",
   "id": "4061b706",
   "metadata": {
    "id": "4061b706"
   },
   "source": [
    "### Задание 5.0. (не оценивается)\n",
    "\n",
    "Проведите небольшой разведывательный анализ, чтобы поближе познакомиться с исходными данными. Постройте несколько визуализаций, которые помогут вам понять, как устроены исходные признаки, а также смогут продемонстрировать взаимосвязь факторов. \n",
    "\n",
    "Сделайте промежуточные выводы из проведённого разведывательного анализа."
   ]
  },
  {
   "cell_type": "code",
   "execution_count": 4,
   "id": "daf1ccc7",
   "metadata": {
    "ExecuteTime": {
     "end_time": "2024-12-12T19:37:08.515151095Z",
     "start_time": "2024-12-12T19:37:08.020270106Z"
    },
    "id": "daf1ccc7"
   },
   "outputs": [
    {
     "name": "stdout",
     "output_type": "stream",
     "text": [
      "<class 'pandas.core.frame.DataFrame'>\n",
      "RangeIndex: 200 entries, 0 to 199\n",
      "Data columns (total 8 columns):\n",
      " #   Column   Non-Null Count  Dtype  \n",
      "---  ------   --------------  -----  \n",
      " 0   Well     200 non-null    int64  \n",
      " 1   Por      200 non-null    float64\n",
      " 2   Perm     200 non-null    float64\n",
      " 3   AI       200 non-null    float64\n",
      " 4   Brittle  200 non-null    float64\n",
      " 5   TOC      200 non-null    float64\n",
      " 6   VR       200 non-null    float64\n",
      " 7   Prod     200 non-null    float64\n",
      "dtypes: float64(7), int64(1)\n",
      "memory usage: 12.6 KB\n"
     ]
    },
    {
     "data": {
      "image/png": "[encoded data removed]",
      "text/plain": [
       "<Figure size 640x480 with 1 Axes>"
      ]
     },
     "metadata": {},
     "output_type": "display_data"
    },
    {
     "name": "stdout",
     "output_type": "stream",
     "text": [
      "             Well         Por        Perm          AI     Brittle         TOC  \\\n",
      "count  200.000000  200.000000  200.000000  200.000000  200.000000  200.000000   \n",
      "mean   100.500000   14.991150    4.330750    2.968850   48.161950    0.990450   \n",
      "std     57.879185    2.971176    1.731014    0.566885   14.129455    0.481588   \n",
      "min      1.000000    6.550000    1.130000    1.280000   10.940000   -0.190000   \n",
      "25%     50.750000   12.912500    3.122500    2.547500   37.755000    0.617500   \n",
      "50%    100.500000   15.070000    4.035000    2.955000   49.510000    1.030000   \n",
      "75%    150.250000   17.402500    5.287500    3.345000   58.262500    1.350000   \n",
      "max    200.000000   23.550000    9.870000    4.630000   84.330000    2.180000   \n",
      "\n",
      "               VR         Prod  \n",
      "count  200.000000   200.000000  \n",
      "mean     1.964300  4311.219852  \n",
      "std      0.300827   992.038414  \n",
      "min      0.930000  2107.139414  \n",
      "25%      1.770000  3618.064513  \n",
      "50%      1.960000  4284.687348  \n",
      "75%      2.142500  5086.089761  \n",
      "max      2.870000  6662.622385  \n"
     ]
    }
   ],
   "source": [
    "# Ваш код здесь\n",
    "data.info()\n",
    "sns.heatmap(data.isnull(), cbar=False, cmap='viridis')\n",
    "plt.show()\n",
    "print(data.describe())"
   ]
  },
  {
   "cell_type": "markdown",
   "id": "dbb7745ab5632928",
   "metadata": {
    "collapsed": false
   },
   "source": [
    "В данных отсутствуют пустые значения, что также видно из теплловой карты"
   ]
  },
  {
   "cell_type": "markdown",
   "id": "7f645091a2ad8728",
   "metadata": {
    "collapsed": false
   },
   "source": [
    "Мы видим, что в целом вектор значений-идентификаторов (Well) не несет собой полезной нагрузки, так как выражает просто порядковый номер строки.\n",
    "Также можем заметить, что некоторые данные выражены в процентах, некоторые в соотношении кг на м^2, а некоторые в натуральных величинах. "
   ]
  },
  {
   "cell_type": "markdown",
   "id": "d11cb44f",
   "metadata": {
    "id": "d11cb44f"
   },
   "source": [
    "### Задание 5.1. (2 балла)\n",
    "\n",
    "Постройте корреляционную матрицу факторов, включив в неё целевой признак. \n",
    "\n",
    "Для наглядности визуализируйте полученную матрицу с помощью тепловой карты. \n",
    "\n",
    "**Примечание.** *Для визуализации вы можете использовать любую из знакомых вам библиотек.*\n",
    "\n",
    "На основе построенной корреляционной матрицы ответьте на следующий вопрос:\n",
    "\n",
    "* Какие факторы сильнее всего коррелируют с целевой переменной?\n",
    "\n",
    "Вычислите ранг и определитель полученной матрицы корреляций и приведите развёрнутые ответы на следующие вопросы:\n",
    "* Является ли корреляционная матрица плохо обусловенной (близок ли её опредитель к нулю)?\n",
    "* Что вы можете сказать о наличии коллинераности/мультиколлинеарности в данных? \n",
    "* Применима ли в данном случае модель классической линейной регрессии по методу наименьших квадратов и почему? "
   ]
  },
  {
   "cell_type": "markdown",
   "id": "57OjUl5e2oiL",
   "metadata": {
    "id": "57OjUl5e2oiL"
   },
   "source": [
    "**Критерии оценивания:**\n",
    "- Задание выполнено верно, учтены все условия (**2 балла**): \n",
    "    * приведён код для расчёта корреляционной матрицы;\n",
    "    * приведён код для визуализации корреляционной матрицы в виде тепловой карты;\n",
    "    * рассчитаны ранг и определитель корреляционной матрицы;\n",
    "    * предоставлены обоснованные ответы на все поставленные вопросы. \n",
    "\n",
    "- Задание выполнено верно, но не учтено одно условие (**1 балл**).\n",
    "- Задание выполнено неверно, не учтено несколько условий (**0 баллов**)."
   ]
  },
  {
   "cell_type": "code",
   "execution_count": 5,
   "id": "af00a5a0",
   "metadata": {
    "ExecuteTime": {
     "end_time": "2024-12-12T19:37:08.806959613Z",
     "start_time": "2024-12-12T19:37:08.244505206Z"
    },
    "id": "af00a5a0"
   },
   "outputs": [
    {
     "data": {
      "image/png": "[encoded data removed]",
      "text/plain": [
       "<Figure size 800x600 with 2 Axes>"
      ]
     },
     "metadata": {},
     "output_type": "display_data"
    },
    {
     "name": "stdout",
     "output_type": "stream",
     "text": [
      "Ранг корреляционной матрицы: 8\n",
      "Определитель корреляционной матрицы: 0.0007299388072652095\n"
     ]
    }
   ],
   "source": [
    "# Ваш код здесь\n",
    "corr_data = data.corr()\n",
    "\n",
    "plt.figure(figsize=(8, 6))\n",
    "sns.heatmap(corr_data, annot=True, cmap='coolwarm', fmt=\".2f\", linewidths=0.5)\n",
    "plt.title('Тепловая карта корреляционной матрицы')\n",
    "plt.show()\n",
    "corr_rank = np.linalg.matrix_rank(corr_data)\n",
    "print(f'Ранг корреляционной матрицы: {corr_rank}')\n",
    "corr_det = np.linalg.det(corr_data)\n",
    "print(f'Определитель корреляционной матрицы: {corr_det}')"
   ]
  },
  {
   "cell_type": "markdown",
   "id": "9a56013d",
   "metadata": {
    "id": "9a56013d"
   },
   "source": [
    "> *Ваши выводы здесь*\n",
    "\n",
    "Какие факторы сильнее всего коррелируют с целевой переменной?\n",
    "- Как наглядно видно из тепловой карты корреляционной матрицы, с целевой переменной (Prod) больше всего коррелируют признаки пористость скважины (Por) и проницаемость скважины (Perm) \n",
    "\n",
    "Является ли корреляционная матрица плохо обусловенной (близок ли её опредитель к нулю)?\n",
    "- Определитель корреляционной матрицы близок к 0 и составляет 0.0007299388072652082.\n",
    "\n",
    "Что вы можете сказать о наличии коллинераности/мультиколлинеарности в данных? \n",
    "- Коллинеарность как таковая отсутствует, так как ранг матрицы соответствует количеству факторов, а значит формально они все линейно независимы. Однако, определитель близкий к 0, а также наличие на тепловой карте корреляционной матрицы факторов, корреляция которых близка к 1 по отношению к другим факторам (например, Perm и Por), говорят нам о наличии скрытой мультиколлинеарности в данных. \n",
    "\n",
    "Применима ли в данном случае модель классической линейной регрессии по методу наименьших квадратов и почему? \n",
    "- В целом модель линейной регрессии может быть применена при условии, что данные будут надлежащим образом обработаны.\n"
   ]
  },
  {
   "cell_type": "markdown",
   "id": "43fd91c4",
   "metadata": {
    "id": "43fd91c4"
   },
   "source": [
    "### Задание 5.2. (2 балла)\n",
    "\n",
    "Создайте матрицу наблюдений `X` и вектор правильных ответов `y`. В качестве факторов для матрицы наблюдений возьмите все имеющиеся в данных признаки. \n",
    "\n",
    "Постройте модель линейной регрессии по методу наименьших квадратов. Для этого воспользуйтесь матричной формулой МНК и инструментарием библиотеки numpy. \n",
    "\n",
    "Выведите на экран полученные оценки коэффициентов модели, округлённые до целого.\n",
    "\n",
    "Приведите подробные выводы по полученным результатам, ответив на следующие вопросы:\n",
    "* Есть ли в ваших данных признаки, которые, согласно модели, можно назвать неинформативными, то есть они не оказывают влияния на целевую переменную или оказывают шумовое влияние?\n",
    "* Приведите интерпретацию нескольких (двух или трёх) коэффициентов полученной модели линейной регрессии.\n"
   ]
  },
  {
   "cell_type": "markdown",
   "id": "QtNtTUzI4Cpq",
   "metadata": {
    "id": "QtNtTUzI4Cpq"
   },
   "source": [
    "**Критерии оценивания:**\n",
    "- Задание выполнено верно, учтены все условия (**2 балла**): \n",
    "    * приведён код для нахождения параметров модели линейной регрессии с помощью матричной формулы МНК;\n",
    "    * на основе полученных параметров даны верные ответы на поставленные вопросы;\n",
    "    * приведена корректная интерпретация нескольких коэффициентов полученной модели линейной регрессии.\n",
    "\n",
    "- Задание выполнено верно, но не учтено одно из условий (**1 балл**).\n",
    "- Задание выполнено неверно, не учтено несколько условий (**0 баллов**)."
   ]
  },
  {
   "cell_type": "code",
   "execution_count": 6,
   "id": "5724288c",
   "metadata": {
    "ExecuteTime": {
     "end_time": "2024-12-12T19:37:08.808012615Z",
     "start_time": "2024-12-12T19:37:08.555195021Z"
    },
    "id": "5724288c"
   },
   "outputs": [
    {
     "name": "stdout",
     "output_type": "stream",
     "text": [
      "[-1232.     0.   230.   116.  -365.    25.   -78.   785.]\n"
     ]
    }
   ],
   "source": [
    "# Ваш код здесь\n",
    "X = data.drop(['Prod'], axis=1).values\n",
    "y = data['Prod'].values\n",
    "A = np.column_stack((np.ones(X.shape[0]), X))\n",
    "\n",
    "w_hat = np.linalg.inv(A.T@A)@A.T@y\n",
    "print(w_hat.round())"
   ]
  },
  {
   "cell_type": "markdown",
   "id": "bab9ee21",
   "metadata": {
    "id": "bab9ee21"
   },
   "source": [
    "> *Ваши выводы здесь*\n",
    "\n",
    "Есть ли в ваших данных признаки, которые, согласно модели, можно назвать неинформативными, то есть они не оказывают влияния на целевую переменную или оказывают шумовое влияние?\n",
    "- Да, например, мы можем заметить, что фактор Well (очевидно) никак не влияет на целевую переменную и поэтому его коэффициент равен 0. Факторы с малыми коэффициентами (25.0, -78.0) могут быть незначительными или неинформативными. Факторы с большими коэффициентами (785.0) играют ключевую роль в модели, но их влияние может быть завышено из-за мультиколлинеарности.\n",
    "\n",
    "Приведите интерпретацию нескольких (двух или трёх) коэффициентов полученной модели линейной регрессии.\n",
    "- Коэффициент фактора Por - 230.0 - при увеличении на 1 данного фактора, целевая переменная увеличивается на 230 единиц.\n",
    "-  Коэффициент фактора Perm - 116 - при увеличении на 1 данного фактора, целевая переменная увеличивается на 116 единиц.\n",
    "- Коэффициент фактора Al - -365 - при увеличении на 1 данного фактора, целевая переменная уменьшается на 365 единиц."
   ]
  },
  {
   "cell_type": "markdown",
   "id": "4a05a4ac",
   "metadata": {
    "id": "4a05a4ac"
   },
   "source": [
    "### Задание 5.3. (1 балл)\n",
    "\n",
    "Теперь потренируемся строить предсказание для наблюдений целевой переменной. \n",
    "\n",
    "**а)** Постройте прогноз выработки газа для скважины со следующими параметрами:\n",
    "\n",
    "```python\n",
    "{\n",
    "    'Well': 106.0,\n",
    "    'Por': 15.32,\n",
    "    'Perm': 3.71,\n",
    "    'AI': 3.29,\n",
    "    'Brittle': 55.99,\n",
    "    'TOC': 1.35,\n",
    "    'VR': 2.42\n",
    " }\n",
    "```\n",
    "\n",
    "Рассчитайте абсолютную ошибку построенного вами прогноза для предложенной скважины (в миллионах кубических футов в день), если известно, что на этой скважине производится `4748.315024` миллионов кубических футов газа в день. \n",
    "\n",
    "**б)** Постройте прогноз выработки газа для всех скважин из обучающего набора данных. Выберите метрику, по которой вы будете оценивать качество регрессионных моделей и сравнивать их между собой (можно использовать несколько метрик, но не более двух).\n",
    "\n",
    "Рассчитайте значение выбранной метрики для вашей модели. Приведите интерпретацию полученного результата. "
   ]
  },
  {
   "cell_type": "markdown",
   "id": "qUDcep5Q5GWU",
   "metadata": {
    "id": "qUDcep5Q5GWU"
   },
   "source": [
    "**Критерии оценивания:**\n",
    "- Задание выполнено верно, учтены все условия (**1 балл**): \n",
    "    * приведён код для построения прогноза выработки газа на указанной скважине и рассчитана абсолютная ошибка прогноза для этой скважины;\n",
    "    * выбрана корректная для поставленной задачи метрика (или метрики) оценки качества модели и приведён код для расчёта этой метрики на всём обучающем наборе данных;\n",
    "    * приведена корректная интерпретация полученного результата.\n",
    "\n",
    "- Задание выполнено верно, но не учтено одно из условий, или задание выполнено неверно (**0 баллов**)."
   ]
  },
  {
   "cell_type": "code",
   "execution_count": 7,
   "id": "e4291db0",
   "metadata": {
    "ExecuteTime": {
     "end_time": "2024-12-12T19:37:08.811260659Z",
     "start_time": "2024-12-12T19:37:08.592010250Z"
    },
    "id": "e4291db0"
   },
   "outputs": [
    {
     "name": "stdout",
     "output_type": "stream",
     "text": [
      "Абсолютная ошибка: 25.250970292515376\n",
      "Среднее абсолютное отклонение (MAE) на всем наборе данных: 153.62297086555168\n"
     ]
    }
   ],
   "source": [
    "# Ваш код здесь\n",
    "test_data = {\n",
    "    'Well': 106.0,\n",
    "    'Por': 15.32,\n",
    "    'Perm': 3.71,\n",
    "    'AI': 3.29,\n",
    "    'Brittle': 55.99,\n",
    "    'TOC': 1.35,\n",
    "    'VR': 2.42\n",
    " }\n",
    "test_data = np.array([1, *test_data.values()])\n",
    "pred = test_data @ w_hat\n",
    "pred_real = 4748.315024\n",
    "abs_error = np.abs(pred - pred_real)\n",
    "print(f\"Абсолютная ошибка: {abs_error}\")\n",
    "\n",
    "pred_all = A @ w_hat\n",
    "mae = np.abs(y - pred_all).mean()\n",
    "\n",
    "print(f'Среднее абсолютное отклонение (MAE) на всем наборе данных: {mae}')"
   ]
  },
  {
   "cell_type": "markdown",
   "id": "c9bee4bc",
   "metadata": {
    "id": "c9bee4bc"
   },
   "source": [
    "> *Ваши выводы здесь*\n",
    "Результат выбранной метрики (МАЕ) показал, что на тестовом наборе данных модель показала себя неплохо с разницей в ~25.25 с реальным значением. На всем обучающем наборе данных модель показала себя несколько хуже, но все же такая ошибка является приемлемой, опять же, учитывая масштабы измерений целевой переменной. "
   ]
  },
  {
   "cell_type": "markdown",
   "id": "0c25c3aa",
   "metadata": {
    "id": "0c25c3aa"
   },
   "source": [
    "### Задание 5.4. (1 балл)\n",
    "\n",
    "Настало время анализа построенной модели. Посмотрите на коэффициенты и сравните их знаки со значениями выборочных корреляций между целевым признаком и факторами, которые вы нашли ранее.\n",
    "\n",
    "Дайте развёрнутые ответы на следующие вопросы:\n",
    "\n",
    "* Есть ли в вашей модели фактор, при котором коэффициент в модели линейной регрессии противоречит соответствующему коэффициенту корреляции? Например, корреляция говорит, что зависимость между фактором и целевой переменной прямая, а модель говорит обратное. Если таких факторов несколько, укажите их все.\n",
    "* Как вы считаете, с чем связано полученное противоречие результатов?"
   ]
  },
  {
   "cell_type": "markdown",
   "id": "ngJ3UdYb6Ll6",
   "metadata": {
    "id": "ngJ3UdYb6Ll6"
   },
   "source": [
    "**Критерии оценивания:**\n",
    "\n",
    "- Задание выполнено верно, даны корректные развёрнутые ответы на все поставленные в задании вопросы (**1 балл**). \n",
    "\n",
    "- Задание выполнено неверно, даны некорректные ответы на один или несколько поставленных в задании вопросов (**0 баллов**)."
   ]
  },
  {
   "cell_type": "code",
   "execution_count": 8,
   "id": "v-zIxRPY9wK7",
   "metadata": {
    "ExecuteTime": {
     "end_time": "2024-12-12T19:41:54.884172472Z",
     "start_time": "2024-12-12T19:41:54.845089991Z"
    },
    "id": "v-zIxRPY9wK7"
   },
   "outputs": [
    {
     "name": "stdout",
     "output_type": "stream",
     "text": [
      "Еще раз выведем матрицу корреляций\n"
     ]
    },
    {
     "data": {
      "text/html": [
       "<div>\n",
       "<style scoped>\n",
       "    .dataframe tbody tr th:only-of-type {\n",
       "        vertical-align: middle;\n",
       "    }\n",
       "\n",
       "    .dataframe tbody tr th {\n",
       "        vertical-align: top;\n",
       "    }\n",
       "\n",
       "    .dataframe thead th {\n",
       "        text-align: right;\n",
       "    }\n",
       "</style>\n",
       "<table border=\"1\" class=\"dataframe\">\n",
       "  <thead>\n",
       "    <tr style=\"text-align: right;\">\n",
       "      <th></th>\n",
       "      <th>Well</th>\n",
       "      <th>Por</th>\n",
       "      <th>Perm</th>\n",
       "      <th>AI</th>\n",
       "      <th>Brittle</th>\n",
       "      <th>TOC</th>\n",
       "      <th>VR</th>\n",
       "      <th>Prod</th>\n",
       "    </tr>\n",
       "  </thead>\n",
       "  <tbody>\n",
       "    <tr>\n",
       "      <th>Well</th>\n",
       "      <td>1.000000</td>\n",
       "      <td>0.068927</td>\n",
       "      <td>0.077928</td>\n",
       "      <td>0.041483</td>\n",
       "      <td>-0.079252</td>\n",
       "      <td>0.022624</td>\n",
       "      <td>-0.007279</td>\n",
       "      <td>0.026817</td>\n",
       "    </tr>\n",
       "    <tr>\n",
       "      <th>Por</th>\n",
       "      <td>0.068927</td>\n",
       "      <td>1.000000</td>\n",
       "      <td>0.760546</td>\n",
       "      <td>-0.461549</td>\n",
       "      <td>-0.218570</td>\n",
       "      <td>0.711831</td>\n",
       "      <td>0.111860</td>\n",
       "      <td>0.861910</td>\n",
       "    </tr>\n",
       "    <tr>\n",
       "      <th>Perm</th>\n",
       "      <td>0.077928</td>\n",
       "      <td>0.760546</td>\n",
       "      <td>1.000000</td>\n",
       "      <td>-0.239636</td>\n",
       "      <td>-0.124017</td>\n",
       "      <td>0.471746</td>\n",
       "      <td>0.051023</td>\n",
       "      <td>0.727426</td>\n",
       "    </tr>\n",
       "    <tr>\n",
       "      <th>AI</th>\n",
       "      <td>0.041483</td>\n",
       "      <td>-0.461549</td>\n",
       "      <td>-0.239636</td>\n",
       "      <td>1.000000</td>\n",
       "      <td>0.127599</td>\n",
       "      <td>-0.531864</td>\n",
       "      <td>0.499143</td>\n",
       "      <td>-0.390835</td>\n",
       "    </tr>\n",
       "    <tr>\n",
       "      <th>Brittle</th>\n",
       "      <td>-0.079252</td>\n",
       "      <td>-0.218570</td>\n",
       "      <td>-0.124017</td>\n",
       "      <td>0.127599</td>\n",
       "      <td>1.000000</td>\n",
       "      <td>-0.214282</td>\n",
       "      <td>0.317929</td>\n",
       "      <td>0.237155</td>\n",
       "    </tr>\n",
       "    <tr>\n",
       "      <th>TOC</th>\n",
       "      <td>0.022624</td>\n",
       "      <td>0.711831</td>\n",
       "      <td>0.471746</td>\n",
       "      <td>-0.531864</td>\n",
       "      <td>-0.214282</td>\n",
       "      <td>1.000000</td>\n",
       "      <td>0.299483</td>\n",
       "      <td>0.654445</td>\n",
       "    </tr>\n",
       "    <tr>\n",
       "      <th>VR</th>\n",
       "      <td>-0.007279</td>\n",
       "      <td>0.111860</td>\n",
       "      <td>0.051023</td>\n",
       "      <td>0.499143</td>\n",
       "      <td>0.317929</td>\n",
       "      <td>0.299483</td>\n",
       "      <td>1.000000</td>\n",
       "      <td>0.323182</td>\n",
       "    </tr>\n",
       "    <tr>\n",
       "      <th>Prod</th>\n",
       "      <td>0.026817</td>\n",
       "      <td>0.861910</td>\n",
       "      <td>0.727426</td>\n",
       "      <td>-0.390835</td>\n",
       "      <td>0.237155</td>\n",
       "      <td>0.654445</td>\n",
       "      <td>0.323182</td>\n",
       "      <td>1.000000</td>\n",
       "    </tr>\n",
       "  </tbody>\n",
       "</table>\n",
       "</div>"
      ],
      "text/plain": [
       "             Well       Por      Perm        AI   Brittle       TOC        VR  \\\n",
       "Well     1.000000  0.068927  0.077928  0.041483 -0.079252  0.022624 -0.007279   \n",
       "Por      0.068927  1.000000  0.760546 -0.461549 -0.218570  0.711831  0.111860   \n",
       "Perm     0.077928  0.760546  1.000000 -0.239636 -0.124017  0.471746  0.051023   \n",
       "AI       0.041483 -0.461549 -0.239636  1.000000  0.127599 -0.531864  0.499143   \n",
       "Brittle -0.079252 -0.218570 -0.124017  0.127599  1.000000 -0.214282  0.317929   \n",
       "TOC      0.022624  0.711831  0.471746 -0.531864 -0.214282  1.000000  0.299483   \n",
       "VR      -0.007279  0.111860  0.051023  0.499143  0.317929  0.299483  1.000000   \n",
       "Prod     0.026817  0.861910  0.727426 -0.390835  0.237155  0.654445  0.323182   \n",
       "\n",
       "             Prod  \n",
       "Well     0.026817  \n",
       "Por      0.861910  \n",
       "Perm     0.727426  \n",
       "AI      -0.390835  \n",
       "Brittle  0.237155  \n",
       "TOC      0.654445  \n",
       "VR       0.323182  \n",
       "Prod     1.000000  "
      ]
     },
     "metadata": {},
     "output_type": "display_data"
    },
    {
     "name": "stdout",
     "output_type": "stream",
     "text": [
      "Выведем коэффициенты, полученные с помощью МНК\n"
     ]
    },
    {
     "data": {
      "text/plain": [
       "array([-1.23230803e+03,  5.07003631e-02,  2.30179140e+02,  1.16239006e+02,\n",
       "       -3.65202301e+02,  2.49943700e+01, -7.84009294e+01,  7.85259815e+02])"
      ]
     },
     "metadata": {},
     "output_type": "display_data"
    }
   ],
   "source": [
    "# Ваш код здесь\n",
    "print('Еще раз выведем матрицу корреляций')\n",
    "display(corr_data)\n",
    "print(\"Выведем коэффициенты, полученные с помощью МНК\")\n",
    "display(w_hat)"
   ]
  },
  {
   "cell_type": "markdown",
   "id": "qeowwIp99yBf",
   "metadata": {
    "id": "qeowwIp99yBf"
   },
   "source": [
    "> *Ваши выводы здесь*\n",
    "Фактор TOC — единственный, где коэффициент регрессии противоречит корреляции.\n",
    "Корреляция: 0.654445 (положительная), что говорит о прямой зависимости между фактором TOC и целевым признаком.\n",
    "Коэффициент регрессии: -77.0 (отрицательный), что говорит об обратной зависимости между фактором TOC и целевым признаком.\n",
    "Противоречие между корреляцией и коэффициентом регрессии для фактора TOC может быть связано, например, с мультиколлинеарностью. Так, из матрицы видно, что данный фактор сильно коррелирует с Por. "
   ]
  },
  {
   "cell_type": "markdown",
   "id": "9cea9195",
   "metadata": {
    "id": "9cea9195"
   },
   "source": [
    "### Задание 5.5. (2 балла)\n",
    "\n",
    "* Исключите из данных сильно коррелированные между собой факторы. Под сильной корреляцией в данной задаче будем понимать значения выше `0.7`.\n",
    "\n",
    "Выбирая, какой из коррелированных факторов оставить, руководствуйтесь коэффициентом корреляции с целевой переменной: оставляйте тот фактор, который больше всего коррелирует с целевой переменной (объёмом добычи газа).\n",
    "\n",
    "* Также исключите из данных факторы, для которых корреляция с целевой переменной меньше `0.05`.\n",
    "\n",
    "Постройте модель линейной регрессии на обновлённых после удаления факторов данных по методу наименьших квадратов. Для этого используйте матричную формулу и библиотеку numpy. Выведите значение полученных коэффициентов, округлённых до целого.\n",
    "\n",
    "Сделайте прогноз для всего обучающего набора данных и рассчитайте выбранную вами ранее метрику (или метрики). \n",
    "\n",
    "Дайте подробные ответы на следующие вопросы:\n",
    "\n",
    "* Приведите интерпретацию нескольких полученных коэффициентов (двух или трёх). Сравните их значения с полученными ранее.\n",
    "* Приведите интерпретацию полученных значений метрик. Сравните их значения с полученными ранее. \n",
    "* Удалось ли вам побороть противоречие коэффициентов линейной регрессии и коэффициентов корреляции?"
   ]
  },
  {
   "cell_type": "markdown",
   "id": "vlUYVjJP6oXN",
   "metadata": {
    "id": "vlUYVjJP6oXN"
   },
   "source": [
    "**Критерии оценивания:**\n",
    "- Задание выполнено верно, учтены все условия (**2 балла**): \n",
    "    * отобраны верные факторы;\n",
    "    * на основе отобранных факторов построена модель линейной регрессии с помощью матричной формулы МНК и найдены параметры модели, соответствующие каждому из факторов;\n",
    "    * построен прогноз для всего обучающего набора данных и рассчитано значение метрики (метрика должна быть выбрана корректно);\n",
    "    * даны ответы на все поставленные в задании вопросы.\n",
    "\n",
    "- Задание выполнено верно, но не учтено одно из условий (**1 балл**).\n",
    "- Задание выполнено верно, не учтено несколько из условий (**0 баллов**)."
   ]
  },
  {
   "cell_type": "code",
   "execution_count": 9,
   "id": "5d5ZJ0lX_UHe",
   "metadata": {
    "ExecuteTime": {
     "end_time": "2024-12-12T20:45:01.602301565Z",
     "start_time": "2024-12-12T20:45:01.541355253Z"
    },
    "id": "5d5ZJ0lX_UHe"
   },
   "outputs": [
    {
     "name": "stdout",
     "output_type": "stream",
     "text": [
      "Новая матрица факторов и целевой переменной\n"
     ]
    },
    {
     "data": {
      "text/html": [
       "<div>\n",
       "<style scoped>\n",
       "    .dataframe tbody tr th:only-of-type {\n",
       "        vertical-align: middle;\n",
       "    }\n",
       "\n",
       "    .dataframe tbody tr th {\n",
       "        vertical-align: top;\n",
       "    }\n",
       "\n",
       "    .dataframe thead th {\n",
       "        text-align: right;\n",
       "    }\n",
       "</style>\n",
       "<table border=\"1\" class=\"dataframe\">\n",
       "  <thead>\n",
       "    <tr style=\"text-align: right;\">\n",
       "      <th></th>\n",
       "      <th>Por</th>\n",
       "      <th>AI</th>\n",
       "      <th>Brittle</th>\n",
       "      <th>VR</th>\n",
       "      <th>Prod</th>\n",
       "    </tr>\n",
       "  </thead>\n",
       "  <tbody>\n",
       "    <tr>\n",
       "      <th>0</th>\n",
       "      <td>12.08</td>\n",
       "      <td>2.80</td>\n",
       "      <td>81.40</td>\n",
       "      <td>2.31</td>\n",
       "      <td>4165.196191</td>\n",
       "    </tr>\n",
       "    <tr>\n",
       "      <th>1</th>\n",
       "      <td>12.38</td>\n",
       "      <td>3.22</td>\n",
       "      <td>46.17</td>\n",
       "      <td>1.88</td>\n",
       "      <td>3561.146205</td>\n",
       "    </tr>\n",
       "    <tr>\n",
       "      <th>2</th>\n",
       "      <td>14.02</td>\n",
       "      <td>4.01</td>\n",
       "      <td>72.80</td>\n",
       "      <td>2.72</td>\n",
       "      <td>4284.348574</td>\n",
       "    </tr>\n",
       "    <tr>\n",
       "      <th>3</th>\n",
       "      <td>17.67</td>\n",
       "      <td>2.63</td>\n",
       "      <td>39.81</td>\n",
       "      <td>1.88</td>\n",
       "      <td>5098.680869</td>\n",
       "    </tr>\n",
       "    <tr>\n",
       "      <th>4</th>\n",
       "      <td>17.52</td>\n",
       "      <td>3.18</td>\n",
       "      <td>10.94</td>\n",
       "      <td>1.90</td>\n",
       "      <td>3406.132832</td>\n",
       "    </tr>\n",
       "    <tr>\n",
       "      <th>...</th>\n",
       "      <td>...</td>\n",
       "      <td>...</td>\n",
       "      <td>...</td>\n",
       "      <td>...</td>\n",
       "      <td>...</td>\n",
       "    </tr>\n",
       "    <tr>\n",
       "      <th>195</th>\n",
       "      <td>11.95</td>\n",
       "      <td>2.97</td>\n",
       "      <td>67.18</td>\n",
       "      <td>2.06</td>\n",
       "      <td>3847.571003</td>\n",
       "    </tr>\n",
       "    <tr>\n",
       "      <th>196</th>\n",
       "      <td>17.99</td>\n",
       "      <td>3.38</td>\n",
       "      <td>44.32</td>\n",
       "      <td>2.08</td>\n",
       "      <td>5601.227131</td>\n",
       "    </tr>\n",
       "    <tr>\n",
       "      <th>197</th>\n",
       "      <td>12.12</td>\n",
       "      <td>3.52</td>\n",
       "      <td>57.07</td>\n",
       "      <td>1.73</td>\n",
       "      <td>3409.575363</td>\n",
       "    </tr>\n",
       "    <tr>\n",
       "      <th>198</th>\n",
       "      <td>15.55</td>\n",
       "      <td>2.48</td>\n",
       "      <td>58.25</td>\n",
       "      <td>2.35</td>\n",
       "      <td>5087.592149</td>\n",
       "    </tr>\n",
       "    <tr>\n",
       "      <th>199</th>\n",
       "      <td>20.89</td>\n",
       "      <td>3.23</td>\n",
       "      <td>46.17</td>\n",
       "      <td>2.27</td>\n",
       "      <td>6662.622385</td>\n",
       "    </tr>\n",
       "  </tbody>\n",
       "</table>\n",
       "<p>200 rows × 5 columns</p>\n",
       "</div>"
      ],
      "text/plain": [
       "       Por    AI  Brittle    VR         Prod\n",
       "0    12.08  2.80    81.40  2.31  4165.196191\n",
       "1    12.38  3.22    46.17  1.88  3561.146205\n",
       "2    14.02  4.01    72.80  2.72  4284.348574\n",
       "3    17.67  2.63    39.81  1.88  5098.680869\n",
       "4    17.52  3.18    10.94  1.90  3406.132832\n",
       "..     ...   ...      ...   ...          ...\n",
       "195  11.95  2.97    67.18  2.06  3847.571003\n",
       "196  17.99  3.38    44.32  2.08  5601.227131\n",
       "197  12.12  3.52    57.07  1.73  3409.575363\n",
       "198  15.55  2.48    58.25  2.35  5087.592149\n",
       "199  20.89  3.23    46.17  2.27  6662.622385\n",
       "\n",
       "[200 rows x 5 columns]"
      ]
     },
     "metadata": {},
     "output_type": "display_data"
    },
    {
     "name": "stdout",
     "output_type": "stream",
     "text": [
      "Старые коэффициенты\n",
      "[-1232.     0.   230.   116.  -365.    25.   -78.   785.]\n",
      "Новые коэффициенты\n",
      "[-1835.   293.  -200.    28.   517.]\n",
      "Среднее абсолютное отклонение (MAE) на всем наборе данных: 171.43146059580792\n"
     ]
    }
   ],
   "source": [
    "# Ваш код здесь\n",
    "new_data = data.drop(['Perm', 'Well', 'TOC'], axis=1)\n",
    "print('Новая матрица факторов и целевой переменной')\n",
    "display(new_data)\n",
    "\n",
    "X_new = new_data.drop(['Prod'], axis=1).values\n",
    "y_new = new_data['Prod'].values\n",
    "A_new = np.column_stack((np.ones(X_new.shape[0]), X_new))\n",
    "\n",
    "w_hat_new = np.linalg.inv(A_new.T@A_new)@A_new.T@y_new\n",
    "print(\"Старые коэффициенты\")\n",
    "print(w_hat.round())\n",
    "print(\"Новые коэффициенты\")\n",
    "print(w_hat_new.round())\n",
    "pred_all_new = A_new @ w_hat_new\n",
    "mae_new = np.abs(y_new - pred_all_new).mean()\n",
    "\n",
    "print(f'Среднее абсолютное отклонение (MAE) на всем наборе данных: {mae_new}')"
   ]
  },
  {
   "cell_type": "markdown",
   "id": "KxbYvMDo_WLe",
   "metadata": {
    "id": "KxbYvMDo_WLe"
   },
   "source": [
    "> *Ваши выводы здесь*\n",
    "\n",
    "Мы убрали три признака ('Perm', 'Well', 'TOC'), так как они либо сильно коррелировали с фактором Por, который имеет большую корреляцию с целевой переменной, либо никак не влияют на целевую переменную.\n",
    "Сравнив коэффициенты мы видим,что мы избавились от анамально высоких коэффициентов. Коэф Por увеличился с 230 до 293, AI уменьшился по модулю с -365 до -200, VR уменьшился с 783 до 517, Brittle изменился не существенно, с 25 на 2.\n",
    "Метрика качества MAE в целом показала результат хуже и показала увеличение ошибки с 153.6229708655643 до  171.4314605958078.\n",
    "Противоречие между показателями коэффициентов и матрицей корреляций устранено.  \n",
    "\n",
    "    "
   ]
  },
  {
   "cell_type": "markdown",
   "id": "7d50db12",
   "metadata": {
    "id": "7d50db12"
   },
   "source": [
    "### Задание 5.6. (1 балл)\n",
    "\n",
    "Наконец, давайте построим модель линейной регрессии из библиотеки `scikit-learn (sklearn)` и сравним результаты её работы с теми, что нам удалось получить вручную. \n",
    "\n",
    "Постройте модель линейной регрессии на обновлённых после удаления факторов данных по методу наименьших квадратов. Для этого воспользуйтесь классом `LinearRegression` из библиотеки `sklearn`. Выведите значения полученных коэффициентов, округлённые до целого.\n",
    "\n",
    "Сделайте прогноз для всего обучающего набора данных и рассчитайте значение выбранной вами метрики (или метрик).\n",
    "\n",
    "Сравните результаты библиотечной реализации с тем, что вы получили ранее. "
   ]
  },
  {
   "cell_type": "markdown",
   "id": "emu5D3w278JP",
   "metadata": {
    "id": "emu5D3w278JP"
   },
   "source": [
    "**Критерии оценивания:**\n",
    "\n",
    "- Задание выполнено верно, учтены все условия (**1 балл**): \n",
    "    * на основе отобранных факторов построена модель линейной регрессии из библиотеки sklearn и найдены параметры модели, соответствующие каждому из факторов;\n",
    "    * построен прогноз для всего обучающего набора данных и рассчитано значение метрики (метрика должна быть выбрана корректно);\n",
    "    * приведён вывод о соответствии результатов, полученных вручную и с помощью библиотеки.\n",
    "- Задание выполнено неверно, не учтено одно или несколько условий (**0 баллов**)."
   ]
  },
  {
   "cell_type": "code",
   "execution_count": 10,
   "id": "Gpdpfq59AKGu",
   "metadata": {
    "ExecuteTime": {
     "end_time": "2024-12-12T21:06:40.397415296Z",
     "start_time": "2024-12-12T21:06:40.379325923Z"
    },
    "id": "Gpdpfq59AKGu"
   },
   "outputs": [
    {
     "name": "stdout",
     "output_type": "stream",
     "text": [
      "Коэффициенты модели sklearn.LinearRegression:\n",
      "[-1835.   293.  -200.    28.   517.]\n",
      "Среднее абсолютное отклонение (MAE) на всем наборе данных: 171.43146059580766\n"
     ]
    }
   ],
   "source": [
    "from sklearn.metrics import mean_absolute_error\n",
    "# Ваш код здесь\n",
    "from sklearn.linear_model import LinearRegression\n",
    "model = LinearRegression(fit_intercept=False)\n",
    "model.fit(A_new, y_new)\n",
    "sklrn_coef = np.round(model.coef_)\n",
    "sklrn_intercept = np.round(model.intercept_)\n",
    "print(\"Коэффициенты модели sklearn.LinearRegression:\")\n",
    "print(sklrn_coef)\n",
    "\n",
    "y_pred_sklrn = model.predict(A_new)\n",
    "mae_sklearn = mean_absolute_error(y_new, y_pred_sklrn)\n",
    "print(f'Среднее абсолютное отклонение (MAE) на всем наборе данных: {mae_sklearn}')"
   ]
  },
  {
   "cell_type": "markdown",
   "id": "WT9cdHAbAMG7",
   "metadata": {
    "id": "WT9cdHAbAMG7"
   },
   "source": [
    "> *Ваши выводы здесь*\n",
    "Исходя из результатов модели можно сделать вывод о том, что ни коэффициенты модели, ни метрики результатов на наборе данных не изменились."
   ]
  },
  {
   "cell_type": "markdown",
   "id": "5346338e",
   "metadata": {
    "id": "5346338e"
   },
   "source": [
    "## Практика: полиномиальная регрессия и регуляризация"
   ]
  },
  {
   "cell_type": "markdown",
   "id": "aad9e3a6",
   "metadata": {
    "id": "aad9e3a6"
   },
   "source": [
    "Мы продолжаем работать над задачей от владельца компании «Газ-Таз-Ваз-Нефть» Василия.\n",
    "\n",
    "Ранее мы построили модель линейной регрессии, которая прогнозирует выработку газа на скважине. Для этого мы с помощью матрицы корреляций и рассуждений отобрали некоррелированные, значимые для предсказания признаки. **Далее мы будем использовать именно их (см. задание 5.5).**\n",
    "\n",
    "Мы хотим улучшить результат — уменьшить ошибку прогноза. Для этого мы воспользуемся моделью полиномиальной регрессии третьей степени. Однако теперь мы знаем, что полиномиальным моделям очень легко переобучиться под исходную выборку. Так как данных у нас не так много (всего 200 скважин), то для контроля качества модели мы будем использовать кросс-валидацию. \n",
    "\n",
    "Приступим! Выполните задания 8.1–8.5:\n"
   ]
  },
  {
   "cell_type": "code",
   "execution_count": 11,
   "id": "18506d1b",
   "metadata": {
    "ExecuteTime": {
     "end_time": "2024-12-12T19:37:08.851538074Z",
     "start_time": "2024-12-12T19:37:08.700854274Z"
    },
    "id": "18506d1b"
   },
   "outputs": [],
   "source": [
    "from sklearn.preprocessing import PolynomialFeatures, StandardScaler\n",
    "from sklearn.linear_model import LinearRegression, Lasso, Ridge, ElasticNet\n",
    "from sklearn.model_selection import GridSearchCV\n",
    "from sklearn.model_selection import cross_validate"
   ]
  },
  {
   "cell_type": "markdown",
   "id": "bfbfea8d",
   "metadata": {
    "id": "bfbfea8d"
   },
   "source": [
    "### Задание 8.1. (1 балл)\n",
    "\n",
    "Стандаризируйте признаки с помощью `StandartScaler` из библиотеки `sklearn`. \n",
    "\n",
    "Затем сгенерируйте полиномиальные признаки третьего порядка на факторах, которые вы выбрали для обучения моделей. Для этого воспользуйтесь генератором полиномов `PolynomialFeatures` из библиотеки `sklearn`. Параметр `include_bias` установите в значение `False`.\n",
    "\n",
    "Выведите на экран, сколько факторов у вас получилось после генерации полиномиальных признаков.\n",
    "\n",
    "**Важно:** стандартизацию необходимо произвести до генерации полиномиальных факторов!\n",
    "\n",
    "Обучите модель линейной регрессии из библиотеки `sklearn` (`LinearRegression`) на полученных полиномиальных факторах.\n",
    "\n",
    "Используя кросс-валидацию оцените среднее значение выбранной вами метрики (или метрик) на тренировочных и валидационных фолдах.\n",
    "\n",
    "Проинтерпретируйте полученные результаты."
   ]
  },
  {
   "cell_type": "markdown",
   "id": "Y8oAhQkr8gV-",
   "metadata": {
    "id": "Y8oAhQkr8gV-"
   },
   "source": [
    "**Критерии оценивания:**\n",
    "\n",
    "- Задание выполнено верно, учтены все условия (**1 балл**): \n",
    "    * на основе отобранных факторов сгенерированы полиномиальные признаки третьего порядка;\n",
    "    * построена модель полиномиальной регрессии (линейной регрессии на полиномиальных признаках);\n",
    "    * с помощью кросс-валидации оценено среднее значение выбранной студентом метрики (или метрик) на тренировочных и валидационных фолдах (метрика должна быть выбрана корректно).\n",
    "- Задание выполнено неверно, не учтено одно или несколько из условий (**0 баллов**)."
   ]
  },
  {
   "cell_type": "code",
   "execution_count": 105,
   "id": "-ln3bx8NFNRw",
   "metadata": {
    "ExecuteTime": {
     "end_time": "2024-12-12T19:37:08.852088079Z",
     "start_time": "2024-12-12T19:37:08.701049482Z"
    },
    "id": "-ln3bx8NFNRw"
   },
   "outputs": [
    {
     "name": "stdout",
     "output_type": "stream",
     "text": [
      "55 - факторов после генерации полиномиальных признаков\n",
      "MAE на тренировочных фолдах: 3726.92\n",
      "MAE на валидационных фолдах: 5239.92\n"
     ]
    }
   ],
   "source": [
    "# Ваш код здесь\n",
    "scaler = StandardScaler()\n",
    "X = scaler.fit_transform(A_new)\n",
    "\n",
    "poly_features = PolynomialFeatures(degree=3, include_bias=False)\n",
    "X = poly_features.fit_transform(X)\n",
    "print(X.shape[1], '- факторов после генерации полиномиальных признаков')\n",
    "\n",
    "linear_model = LinearRegression(fit_intercept=False)\n",
    "linear_model.fit(X, y_new)\n",
    "\n",
    "cv_result = cross_validate(\n",
    "    linear_model,\n",
    "    X,\n",
    "    y_new,\n",
    "    cv=5,\n",
    "    scoring=['neg_mean_absolute_error'],\n",
    "    return_train_score=True\n",
    ")\n",
    "linar_train = -cv_result['train_neg_mean_absolute_error'].mean()\n",
    "linar_val = -cv_result['test_neg_mean_absolute_error'].mean()\n",
    "print('MAE на тренировочных фолдах: {:.2f}'.format(linar_train))\n",
    "print('MAE на валидационных фолдах: {:.2f}'.format(linar_val))\t\n",
    " "
   ]
  },
  {
   "cell_type": "markdown",
   "id": "9DkuuLLtFPPy",
   "metadata": {
    "id": "9DkuuLLtFPPy"
   },
   "source": [
    "> *Ваши выводы здесь*\n",
    "\n",
    "Исходя из полученных результатов, метрика MAE показала, что ошибка существенно увеличилась по сравнению с предыдщими результатами (171.43146059580766). Кроме того, наблюдается переобучение модели."
   ]
  },
  {
   "cell_type": "markdown",
   "id": "63d06013",
   "metadata": {
    "id": "63d06013"
   },
   "source": [
    "### Задание 8.2. (2 балла)\n",
    "\n",
    "Теперь попробуем воспользоваться линейной регрессией с регуляризацией. Для начала возьмём $L_1$-регуляризацию.\n",
    "\n",
    "Обучите модель `Lasso` из библиотеки `sklearn` на полученных полиномиальных факторах, предварительно стандартизировав факторы. \n",
    "\n",
    "Коэффициент регуляризации (`alpha`) подберите самостоятельно с помощью любого известного вам метода подбора гиперпаметров.\n",
    "\n",
    "Используя кросс-валидацию, оцените среднее значение выбранной вами метрики (или метрик) на тренировочных и валидационных фолдах.\n",
    "\n",
    "Проинтерпретируйте полученные результаты."
   ]
  },
  {
   "cell_type": "markdown",
   "id": "z24YUfuA9rUq",
   "metadata": {
    "id": "z24YUfuA9rUq"
   },
   "source": [
    "**Критерии оценивания:**\n",
    "\n",
    "- Задание выполнено верно, учтены все условия (**2 балла**): \n",
    "    * правильно построена модель полиномиальной регрессии (линейной регрессии на полиномиальных признаках) с регуляризацией (Lasso), учтены условия необходимости масштабирования факторов для построения модели;\n",
    "    * приведён код для подбора параметра регуляризации (вручную или с помощью библиотечных инструментов);\n",
    "    * с помощью кросс-валидации оценено среднее значение выбранной студентом метрики (или метрик) на тренировочных и валидационных фолдах (метрика должна быть выбрана корректно).\n",
    "\n",
    "- Задание выполнено верно, но не учтено одно из условий (**1 балл**).\n",
    "- Задание выполнено неверно, не учтено несколько условий (**0 баллов**)."
   ]
  },
  {
   "cell_type": "code",
   "execution_count": 91,
   "id": "IJ5b5G8qFz-r",
   "metadata": {
    "ExecuteTime": {
     "end_time": "2024-12-12T19:37:08.853476422Z",
     "start_time": "2024-12-12T19:37:08.701163917Z"
    },
    "id": "IJ5b5G8qFz-r"
   },
   "outputs": [
    {
     "name": "stdout",
     "output_type": "stream",
     "text": [
      "Лучший коэффициент регуляризации (alpha): 1\n",
      "MAE на тренировочных фолдах: 76.76\n",
      "MAE на валидационных фолдах: 99.68\n"
     ]
    }
   ],
   "source": [
    "# Ваш код здесь\n",
    "X = scaler.fit_transform(X)\n",
    "param_grid = {'alpha': [0.1, 0.3, 0.5, 0.7, 0.9, 1]}\n",
    "\n",
    "lasso = Lasso()\n",
    "grid_search = GridSearchCV(lasso, param_grid, cv=5, scoring='neg_mean_absolute_error')\n",
    "grid_search.fit(X, y_new)\n",
    "best_alpha = grid_search.best_params_['alpha']\n",
    "print(f'Лучший коэффициент регуляризации (alpha): {best_alpha}')\n",
    "best_lasso = Lasso(alpha=best_alpha)\n",
    "best_lasso.fit(X, y_new)\n",
    "\n",
    "cv_result = cross_validate(\n",
    "    best_lasso,\n",
    "    X,\n",
    "    y_new,\n",
    "    cv=5,\n",
    "    scoring=['neg_mean_absolute_error'],\n",
    "    return_train_score=True\n",
    ")\n",
    "train_lasso = -cv_result['train_neg_mean_absolute_error'].mean()\n",
    "val_lasso = -cv_result['test_neg_mean_absolute_error'].mean()\n",
    "print('MAE на тренировочных фолдах: {:.2f}'.format(train_lasso))\n",
    "print('MAE на валидационных фолдах: {:.2f}'.format(val_lasso))\t\n",
    " "
   ]
  },
  {
   "cell_type": "markdown",
   "id": "Se0OGR8UF2Td",
   "metadata": {
    "id": "Se0OGR8UF2Td"
   },
   "source": [
    "> *Ваши выводы здесь*\n",
    "После регуляризации Lasso и подбора оптимального коэффициента регуляризации alpha с помощью GridSearchCV результаты заметно удучшились. МАЕ упала до 76.76 на тренировочном наборе данных и 99.68 на валидационном, что в настоящее время показывает лучший рузльтат из всех. Однако все равно наблюдается небольшое переобучение."
   ]
  },
  {
   "cell_type": "markdown",
   "id": "2975ae60",
   "metadata": {
    "id": "2975ae60"
   },
   "source": [
    "### Задание 8.3. (2 балла)\n",
    "\n",
    "Проделаем то же самое с $L_2$-регуляризацией.\n",
    "\n",
    "Обучите модель `Ridge` из библиотеки `sklearn` на полученных полиномиальных факторах, предварительно стандартизировав факторы. \n",
    "\n",
    "Коэффициент регуляризации (`alpha`) подберите самостоятельно с помощью любого известного вам метода подбора гиперпаметров.\n",
    "\n",
    "Используя кросс-валидацию оцените среднее значение выбранной вами метрики (или метрик) на тренировочных и валидационных фолдах.\n",
    "\n",
    "Проинтерпретируйте полученные результаты."
   ]
  },
  {
   "cell_type": "code",
   "execution_count": 90,
   "id": "UfPGyNsjGGS8",
   "metadata": {
    "ExecuteTime": {
     "end_time": "2024-12-12T19:37:08.853974900Z",
     "start_time": "2024-12-12T19:37:08.701308439Z"
    },
    "id": "UfPGyNsjGGS8"
   },
   "outputs": [
    {
     "name": "stdout",
     "output_type": "stream",
     "text": [
      "Лучший коэффициент регуляризации (alpha): 0.5\n",
      "MAE на тренировочных фолдах: 75.87\n",
      "MAE на валидационных фолдах: 108.55\n"
     ]
    }
   ],
   "source": [
    "# Ваш код здесь\n",
    "X = scaler.fit_transform(X)\n",
    "param_grid = {'alpha': [0.5, 1, 2, 3, 4, 5, 6, 7, 8, 9, 10, 20]}\n",
    "\n",
    "ridge = Ridge()\n",
    "grid_search = GridSearchCV(ridge, param_grid, cv=5, scoring='neg_mean_absolute_error')\n",
    "grid_search.fit(X, y_new)\n",
    "best_alpha = grid_search.best_params_['alpha']\n",
    "print(f'Лучший коэффициент регуляризации (alpha): {best_alpha}')\n",
    "best_ridge = Ridge(alpha=best_alpha)\n",
    "best_ridge.fit(X, y_new)\n",
    "\n",
    "cv_result = cross_validate(\n",
    "    best_ridge,\n",
    "    X,\n",
    "    y_new,\n",
    "    cv=5,\n",
    "    scoring=['neg_mean_absolute_error'],\n",
    "    return_train_score=True\n",
    ")\n",
    "train_ridge = -cv_result['train_neg_mean_absolute_error'].mean()\n",
    "val_ridge = -cv_result['test_neg_mean_absolute_error'].mean()\n",
    "print('MAE на тренировочных фолдах: {:.2f}'.format(train_ridge))\n",
    "print('MAE на валидационных фолдах: {:.2f}'.format(val_ridge))\t\n",
    " \n"
   ]
  },
  {
   "cell_type": "markdown",
   "id": "dQBd7ny_GIi1",
   "metadata": {
    "id": "dQBd7ny_GIi1"
   },
   "source": [
    "> *Ваши выводы здесь*\n",
    "\n",
    "Показатели метрики МАЕ с применением реугляризации по методу Тихонова показали хотя и лучшие результаты по сравнению с результатом при отсутствии регуляризации, однако не первзошли результаты по методу Lasso."
   ]
  },
  {
   "cell_type": "markdown",
   "id": "86pXnWE7-5ch",
   "metadata": {
    "id": "86pXnWE7-5ch"
   },
   "source": [
    "**Критерии оценивания:**\n",
    "\n",
    "- Задание выполнено верно, учтены все условия (**2 балла**): \n",
    "    * правильно построена модель полиномиальной регрессии (линейной регрессии на полиномиальных признаках) с регуляризацией (Ridge), учтены условия необходимости масштабирования факторов для построения модели;\n",
    "    * приведён код для подбора параметра регуляризации (вручную или с помощью библиотечных инструментов);\n",
    "    * с помощью кросс-валидации оценено среднее значение выбранной студентом метрики (или метрик) на тренировочных и валидационных фолдах (метрика должна быть выбрана корректно).\n",
    "\n",
    "- Задание выполнено верно, но не учтено одно из условий (**1 балл**).\n",
    "- Задание выполнено неверно, не учтено несколько условий (**0 баллов**)."
   ]
  },
  {
   "cell_type": "markdown",
   "id": "7ad85b78",
   "metadata": {
    "id": "7ad85b78"
   },
   "source": [
    "### Задание 8.4. (2 балла)\n",
    "\n",
    "Наконец, настало время комбинировать $L_1$ и $L_2$ -регуляризации.\n",
    "\n",
    "Обучите модель `ElasticNet` из библиотеки `sklearn` на полученных полиномиальных факторах, предварительно стандартизировав факторы. \n",
    "\n",
    "Коэффициенты регуляризации (`alpha` и `l1-ratio`) подберите самостоятельно с помощью любого известного вам метода подбора гиперпаметров.\n",
    "\n",
    "Используя кросс-валидацию, оцените среднее значение метрики MAPE на тренировочных и валидационных фолдах.\n",
    "\n",
    "Проинтерпретируйте полученные результаты."
   ]
  },
  {
   "cell_type": "markdown",
   "id": "sy8ESceQ-__u",
   "metadata": {
    "id": "sy8ESceQ-__u"
   },
   "source": [
    "**Критерии оценивания:**\n",
    "\n",
    "- Задание выполнено верно, учтены все условия (**2 балла**): \n",
    "    * правильно построена модель полиномиальной регрессии (линейной регрессии на полиномиальных признаках) с регуляризацией (ElasticNet), учтены условия необходимости масштабирования факторов для построения модели;\n",
    "    * приведён код для подбора параметра регуляризации (вручную или с помощью библиотечных инструментов);\n",
    "    * с помощью кросс-валидации оценено среднее значение выбранной студентом метрики (или метрик) на тренировочных и валидационных фолдах (метрика должна быть выбрана корректно).\n",
    "\n",
    "- Задание выполнено верно, но не учтено одно из условий (**1 балл**).\n",
    "- Задание выполнено неверно, не учтено несколько условий (**0 баллов**)."
   ]
  },
  {
   "cell_type": "code",
   "execution_count": 89,
   "id": "-Yi3P20hQnLS",
   "metadata": {
    "ExecuteTime": {
     "end_time": "2024-12-12T19:37:08.854542128Z",
     "start_time": "2024-12-12T19:37:08.701583116Z"
    },
    "id": "-Yi3P20hQnLS"
   },
   "outputs": [
    {
     "name": "stdout",
     "output_type": "stream",
     "text": [
      "Лучшие параметры:\n",
      "alpha: 4\n",
      "l1_ratio: 1\n",
      "MAE на тренировочных фолдах: 79.63\n",
      "MAE на валидационных фолдах: 94.18\n"
     ]
    }
   ],
   "source": [
    "# Ваш код здесь\n",
    "X = scaler.fit_transform(X)\n",
    "param_grid = {\n",
    "    'alpha': [0.5, 1, 2, 3, 4, 5, 6, 7, 8, 9, 10, 20],\n",
    "    'l1_ratio': [0.1, 0.3, 0.5, 0.7, 0.9, 1]\n",
    "}\n",
    "\n",
    "elastic = ElasticNet()\n",
    "grid_search = GridSearchCV(elastic, param_grid, cv=5, scoring='neg_mean_absolute_error')\n",
    "\n",
    "\n",
    "grid_search.fit(X, y_new)\n",
    "\n",
    "# Вывод лучших параметров\n",
    "print(\"Лучшие параметры:\")\n",
    "print(f\"alpha: {grid_search.best_params_['alpha']}\")\n",
    "print(f\"l1_ratio: {grid_search.best_params_['l1_ratio']}\")\n",
    "\n",
    "best_model = ElasticNet(alpha=grid_search.best_params_['alpha'], l1_ratio=grid_search.best_params_['l1_ratio'])\n",
    "best_model.fit(X, y_new)\n",
    "\n",
    "cv_result = cross_validate(\n",
    "    best_model,\n",
    "    X,\n",
    "    y_new,\n",
    "    cv=5,\n",
    "    scoring=['neg_mean_absolute_error'],\n",
    "    return_train_score=True\n",
    ")\n",
    "train_elastic = -cv_result['train_neg_mean_absolute_error'].mean()\n",
    "val_elastic = -cv_result['test_neg_mean_absolute_error'].mean()\n",
    "print('MAE на тренировочных фолдах: {:.2f}'.format(train_elastic))\n",
    "print('MAE на валидационных фолдах: {:.2f}'.format(val_elastic))\t\n",
    " \n",
    "\n",
    "\n"
   ]
  },
  {
   "cell_type": "markdown",
   "id": "er2lAiE9QpAb",
   "metadata": {
    "id": "er2lAiE9QpAb"
   },
   "source": [
    "> *Ваши выводы здесь*\n",
    "Данная модель показала наилучшие результаты, так как наблюдается тенденция в уменьшении переобучения, а также лучший результат на валидационном наборе данных."
   ]
  },
  {
   "cell_type": "markdown",
   "id": "91c6e1d1",
   "metadata": {
    "id": "91c6e1d1"
   },
   "source": [
    "### Задание 8.5. (1 балл)\n",
    "\n",
    "Завершением вашей работы будет сводная таблица результатов, которую вы представите на презентации заказчику Василию.\n",
    "\n",
    "Составьте таблицу (DataFrame) со следующими столбцами (имена столбцов выберите самостоятельно):\n",
    "* Наименование модели.\n",
    "* Гиперпараметры (коэффициенты регуляризации, если таковые имеются), если нет — оставьте ячейку пустой.\n",
    "* Использовались ли полиномиальные признаки при построении модели (Да/Нет или True/False).\n",
    "* Значение выбранной метрики на тренировочных фолдах при кросс-валидации модели.\n",
    "* Значение выбранной метрики на валидационных фолдах при кросс-валидации модели.\n",
    "\n",
    "Сделайте финальный вывод по проделанной работе. Какая линейная модель из тех, что мы рассмотрели, показала наилучший результат с точки зрения качества на валидационных фолдах, а также с точки зрения переобученности?"
   ]
  },
  {
   "cell_type": "markdown",
   "id": "OsFRaKkF_nLq",
   "metadata": {
    "id": "OsFRaKkF_nLq"
   },
   "source": [
    "**Критерии оценивания:**\n",
    "\n",
    "- Задание выполнено верно, учтены все условия (**1 балл**): \n",
    "    * верно составлена сводная таблица итоговых результатов построенных ранее моделей с указанными в задании столбцами;\n",
    "    * приведены итоговые выводы по проделанной работе, указано, какая из рассмотренных моделей показала наилучший результат.\n",
    "\n",
    "- Задание выполнено неверно, не учтено одно или несколько условий (**0 баллов**)."
   ]
  },
  {
   "cell_type": "code",
   "execution_count": 106,
   "id": "wRiys8lKQuqW",
   "metadata": {
    "ExecuteTime": {
     "end_time": "2024-12-12T19:37:08.865163899Z",
     "start_time": "2024-12-12T19:37:08.702959416Z"
    },
    "id": "wRiys8lKQuqW"
   },
   "outputs": [
    {
     "data": {
      "text/html": [
       "<div>\n",
       "<style scoped>\n",
       "    .dataframe tbody tr th:only-of-type {\n",
       "        vertical-align: middle;\n",
       "    }\n",
       "\n",
       "    .dataframe tbody tr th {\n",
       "        vertical-align: top;\n",
       "    }\n",
       "\n",
       "    .dataframe thead th {\n",
       "        text-align: right;\n",
       "    }\n",
       "</style>\n",
       "<table border=\"1\" class=\"dataframe\">\n",
       "  <thead>\n",
       "    <tr style=\"text-align: right;\">\n",
       "      <th></th>\n",
       "      <th>Model</th>\n",
       "      <th>HyperParams</th>\n",
       "      <th>UsePolyFutures</th>\n",
       "      <th>Train_MAE</th>\n",
       "      <th>Test_MAE</th>\n",
       "    </tr>\n",
       "  </thead>\n",
       "  <tbody>\n",
       "    <tr>\n",
       "      <th>0</th>\n",
       "      <td>Polynomial</td>\n",
       "      <td>None</td>\n",
       "      <td>True</td>\n",
       "      <td>3726.920652</td>\n",
       "      <td>5239.924692</td>\n",
       "    </tr>\n",
       "    <tr>\n",
       "      <th>1</th>\n",
       "      <td>Lasso</td>\n",
       "      <td>1</td>\n",
       "      <td>True</td>\n",
       "      <td>76.758170</td>\n",
       "      <td>99.679314</td>\n",
       "    </tr>\n",
       "    <tr>\n",
       "      <th>2</th>\n",
       "      <td>Ridge</td>\n",
       "      <td>0.5</td>\n",
       "      <td>True</td>\n",
       "      <td>75.869768</td>\n",
       "      <td>108.552408</td>\n",
       "    </tr>\n",
       "    <tr>\n",
       "      <th>3</th>\n",
       "      <td>ElasticNet</td>\n",
       "      <td>(4, 1)</td>\n",
       "      <td>True</td>\n",
       "      <td>79.629952</td>\n",
       "      <td>94.178753</td>\n",
       "    </tr>\n",
       "  </tbody>\n",
       "</table>\n",
       "</div>"
      ],
      "text/plain": [
       "        Model HyperParams  UsePolyFutures    Train_MAE     Test_MAE\n",
       "0  Polynomial        None            True  3726.920652  5239.924692\n",
       "1       Lasso           1            True    76.758170    99.679314\n",
       "2       Ridge         0.5            True    75.869768   108.552408\n",
       "3  ElasticNet      (4, 1)            True    79.629952    94.178753"
      ]
     },
     "metadata": {},
     "output_type": "display_data"
    }
   ],
   "source": [
    "# Ваш код здесь\n",
    "\n",
    "results_data = {\n",
    "    'Model': ['Polynomial', 'Lasso', 'Ridge', 'ElasticNet'],\n",
    "    'HyperParams': [None, 1, 0.5, (4,1)],\n",
    "    'UsePolyFutures': [True, True, True, True],\n",
    "    'Train_MAE': [linar_train, train_lasso, train_ridge, train_elastic],\n",
    "    'Test_MAE': [linar_val, val_lasso, val_ridge, val_elastic]\n",
    "}\n",
    "\n",
    "results_df = pd.DataFrame(results_data)\n",
    "display(results_df)"
   ]
  },
  {
   "cell_type": "markdown",
   "id": "UP7_LSoEQsrA",
   "metadata": {
    "id": "UP7_LSoEQsrA"
   },
   "source": [
    "> *Ваши выводы здесь*\n",
    "Исходя из данных в сводной таблицы следует вывод о том, что наилушим вариантом для заказчика является модель полиноминальнлй регрессии с регулизатором ElasticNet. Данная модель показала наименьшую ошибку по метрике МАЕ как в абсолютных величинах, так и в тенденции к переобучению, так как показатель на тестовых данных и на тренировачных данных различался меньше всего при коэффицентах регуляризации alpha - 4 и l1 - 1."
   ]
  }
 ],
 "metadata": {
  "colab": {
   "provenance": []
  },
  "kernelspec": {
   "display_name": "Python 3",
   "language": "python",
   "name": "python3"
  },
  "language_info": {
   "codemirror_mode": {
    "name": "ipython",
    "version": 3
   },
   "file_extension": ".py",
   "mimetype": "text/x-python",
   "name": "python",
   "nbconvert_exporter": "python",
   "pygments_lexer": "ipython3",
   "version": "3.11.10"
  }
 },
 "nbformat": 4,
 "nbformat_minor": 5
}
