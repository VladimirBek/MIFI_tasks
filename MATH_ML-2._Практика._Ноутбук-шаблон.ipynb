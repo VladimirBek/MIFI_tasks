{
 "cells": [
  {
   "cell_type": "markdown",
   "id": "b054bd88",
   "metadata": {
    "id": "b054bd88"
   },
   "source": [
    "# <center> Линейная алгебра в контексте линейных методов. Практика.\n",
    "\n",
    "## <center> Прогнозирование выработки газа на скважинах."
   ]
  },
  {
   "cell_type": "markdown",
   "id": "325bc80b",
   "metadata": {
    "id": "325bc80b"
   },
   "source": [
    "## Постановка задачи"
   ]
  },
  {
   "cell_type": "markdown",
   "id": "8247bd54",
   "metadata": {
    "id": "8247bd54"
   },
   "source": [
    "У Василия, основателя компании «Газ-Таз-Ваз-Нефть», дела идут в гору: у него уже функционирует 200 скважин для добычи газа. В этом году он открывает 30 новых скважин. Однако в целях оптимизации расходов и повышения дохода Василию необходимо оценить, сколько денег будет приносить ему каждая из скважин, а также понять, какие факторы (параметры скважин) потенциально сильнее всего повлияют на объём добычи газа. Для этого Василий решил нанять вас как специалиста в области Data Science.\n",
    "\n",
    "Василий представляет вам набор данных о добыче газа на своих скважинах. Файл с данными вы можете скачать на платформе.\n",
    "\n",
    "**Признаки в данных:**\n",
    "\n",
    "* Well — идентификатор скважины;\n",
    "* Por — пористость скважины (%);\n",
    "* Perm — проницаемость скважины;\n",
    "* AI — акустический импеданс ($кг/м^2 * 10^6$);\n",
    "* Brittle — коэффициент хрупкости скважины (%);\n",
    "* TOC — общий органический углерод (%);\n",
    "* VR — коэффициент отражения витринита (%);\n",
    "* Prod — добыча газа в сутки (млн. кубических футов).\n",
    "\n",
    "**Ваша задача** — построить регрессионную модель, которая прогнозирует выработку газа на скважине (целевой признак — Prod) на основе остальных характеристик скважины, и проинтерпретировать результаты вашей модели.\n",
    "\n",
    "Разделим задачу на две части:\n",
    "* В первой мы построим простейшую модель линейной регрессии, проанализируем результаты её работы и выберем наиболее значимые факторы для прогнозирования.\n",
    "* Во второй мы займёмся построением модели полиномиальной регрессии с регуляризацией и посмотрим на итоговые результаты моделирования.\n"
   ]
  },
  {
   "cell_type": "markdown",
   "id": "d67d069e",
   "metadata": {
    "id": "d67d069e"
   },
   "source": [
    "Импортируем необходимые библиотеки:"
   ]
  },
  {
   "cell_type": "code",
   "execution_count": 1,
   "id": "83a555bc-8dff-4b7e-bba1-cd4f4a9e69b2",
   "metadata": {
    "id": "83a555bc-8dff-4b7e-bba1-cd4f4a9e69b2",
    "ExecuteTime": {
     "end_time": "2024-12-11T18:22:09.941431816Z",
     "start_time": "2024-12-11T18:22:09.901816984Z"
    }
   },
   "outputs": [],
   "source": [
    "# Импорт библиотек\n",
    "import numpy as np # для работы с массивами\n",
    "import pandas as pd # для работы с DataFrame \n",
    "import seaborn as sns # библиотека для визуализации статистических данных\n",
    "import matplotlib.pyplot as plt # для построения графиков\n",
    "\n",
    "%matplotlib inline"
   ]
  },
  {
   "cell_type": "markdown",
   "id": "e689ddaf",
   "metadata": {
    "id": "e689ddaf"
   },
   "source": [
    "Прочитаем исходные данные:"
   ]
  },
  {
   "cell_type": "code",
   "execution_count": 2,
   "id": "b7b5cd9b-703f-4dbc-a6e3-61d583eafcac",
   "metadata": {
    "colab": {
     "base_uri": "https://localhost:8080/",
     "height": 206
    },
    "id": "b7b5cd9b-703f-4dbc-a6e3-61d583eafcac",
    "outputId": "d4e99a48-2a0d-4edd-f86c-617c44bf36d2",
    "ExecuteTime": {
     "end_time": "2024-12-11T18:22:09.968265514Z",
     "start_time": "2024-12-11T18:22:09.928549159Z"
    }
   },
   "outputs": [
    {
     "data": {
      "text/plain": "   Well    Por  Perm    AI  Brittle   TOC    VR         Prod\n0     1  12.08  2.92  2.80    81.40  1.16  2.31  4165.196191\n1     2  12.38  3.53  3.22    46.17  0.89  1.88  3561.146205\n2     3  14.02  2.59  4.01    72.80  0.89  2.72  4284.348574\n3     4  17.67  6.75  2.63    39.81  1.08  1.88  5098.680869\n4     5  17.52  4.57  3.18    10.94  1.51  1.90  3406.132832",
      "text/html": "<div>\n<style scoped>\n    .dataframe tbody tr th:only-of-type {\n        vertical-align: middle;\n    }\n\n    .dataframe tbody tr th {\n        vertical-align: top;\n    }\n\n    .dataframe thead th {\n        text-align: right;\n    }\n</style>\n<table border=\"1\" class=\"dataframe\">\n  <thead>\n    <tr style=\"text-align: right;\">\n      <th></th>\n      <th>Well</th>\n      <th>Por</th>\n      <th>Perm</th>\n      <th>AI</th>\n      <th>Brittle</th>\n      <th>TOC</th>\n      <th>VR</th>\n      <th>Prod</th>\n    </tr>\n  </thead>\n  <tbody>\n    <tr>\n      <th>0</th>\n      <td>1</td>\n      <td>12.08</td>\n      <td>2.92</td>\n      <td>2.80</td>\n      <td>81.40</td>\n      <td>1.16</td>\n      <td>2.31</td>\n      <td>4165.196191</td>\n    </tr>\n    <tr>\n      <th>1</th>\n      <td>2</td>\n      <td>12.38</td>\n      <td>3.53</td>\n      <td>3.22</td>\n      <td>46.17</td>\n      <td>0.89</td>\n      <td>1.88</td>\n      <td>3561.146205</td>\n    </tr>\n    <tr>\n      <th>2</th>\n      <td>3</td>\n      <td>14.02</td>\n      <td>2.59</td>\n      <td>4.01</td>\n      <td>72.80</td>\n      <td>0.89</td>\n      <td>2.72</td>\n      <td>4284.348574</td>\n    </tr>\n    <tr>\n      <th>3</th>\n      <td>4</td>\n      <td>17.67</td>\n      <td>6.75</td>\n      <td>2.63</td>\n      <td>39.81</td>\n      <td>1.08</td>\n      <td>1.88</td>\n      <td>5098.680869</td>\n    </tr>\n    <tr>\n      <th>4</th>\n      <td>5</td>\n      <td>17.52</td>\n      <td>4.57</td>\n      <td>3.18</td>\n      <td>10.94</td>\n      <td>1.51</td>\n      <td>1.90</td>\n      <td>3406.132832</td>\n    </tr>\n  </tbody>\n</table>\n</div>"
     },
     "execution_count": 2,
     "metadata": {},
     "output_type": "execute_result"
    }
   ],
   "source": [
    "data = pd.read_csv('data/unconv.csv')\n",
    "data.head()"
   ]
  },
  {
   "cell_type": "markdown",
   "id": "58639b40",
   "metadata": {
    "id": "58639b40"
   },
   "source": [
    "## Практика: линейная регрессия по методу наименьших квадратов"
   ]
  },
  {
   "cell_type": "markdown",
   "id": "a90535b8",
   "metadata": {
    "id": "a90535b8"
   },
   "source": [
    "Для начала построим простейшую модель линейной регрессии, проанализируем результаты её работы и выберем наиболее значимые факторы для прогнозирования.\n",
    "\n",
    "В первой части вам предстоит выполнить задания 5.0–5.6. Максимальное количество баллов, которое можно получить, — 9."
   ]
  },
  {
   "cell_type": "markdown",
   "id": "4061b706",
   "metadata": {
    "id": "4061b706"
   },
   "source": [
    "### Задание 5.0. (не оценивается)\n",
    "\n",
    "Проведите небольшой разведывательный анализ, чтобы поближе познакомиться с исходными данными. Постройте несколько визуализаций, которые помогут вам понять, как устроены исходные признаки, а также смогут продемонстрировать взаимосвязь факторов. \n",
    "\n",
    "Сделайте промежуточные выводы из проведённого разведывательного анализа."
   ]
  },
  {
   "cell_type": "code",
   "execution_count": 58,
   "id": "daf1ccc7",
   "metadata": {
    "id": "daf1ccc7",
    "ExecuteTime": {
     "end_time": "2024-12-11T19:39:15.110109585Z",
     "start_time": "2024-12-11T19:39:14.909633070Z"
    }
   },
   "outputs": [
    {
     "name": "stdout",
     "output_type": "stream",
     "text": [
      "<class 'pandas.core.frame.DataFrame'>\n",
      "RangeIndex: 200 entries, 0 to 199\n",
      "Data columns (total 8 columns):\n",
      " #   Column   Non-Null Count  Dtype  \n",
      "---  ------   --------------  -----  \n",
      " 0   Well     200 non-null    int64  \n",
      " 1   Por      200 non-null    float64\n",
      " 2   Perm     200 non-null    float64\n",
      " 3   AI       200 non-null    float64\n",
      " 4   Brittle  200 non-null    float64\n",
      " 5   TOC      200 non-null    float64\n",
      " 6   VR       200 non-null    float64\n",
      " 7   Prod     200 non-null    float64\n",
      "dtypes: float64(7), int64(1)\n",
      "memory usage: 12.6 KB\n"
     ]
    },
    {
     "data": {
      "text/plain": "<Figure size 640x480 with 1 Axes>",
      "image/png": "[encoded data removed]"
     },
     "metadata": {},
     "output_type": "display_data"
    },
    {
     "name": "stdout",
     "output_type": "stream",
     "text": [
      "             Well         Por        Perm          AI     Brittle         TOC  \\\n",
      "count  200.000000  200.000000  200.000000  200.000000  200.000000  200.000000   \n",
      "mean   100.500000   14.991150    4.330750    2.968850   48.161950    0.990450   \n",
      "std     57.879185    2.971176    1.731014    0.566885   14.129455    0.481588   \n",
      "min      1.000000    6.550000    1.130000    1.280000   10.940000   -0.190000   \n",
      "25%     50.750000   12.912500    3.122500    2.547500   37.755000    0.617500   \n",
      "50%    100.500000   15.070000    4.035000    2.955000   49.510000    1.030000   \n",
      "75%    150.250000   17.402500    5.287500    3.345000   58.262500    1.350000   \n",
      "max    200.000000   23.550000    9.870000    4.630000   84.330000    2.180000   \n",
      "\n",
      "               VR         Prod  \n",
      "count  200.000000   200.000000  \n",
      "mean     1.964300  4311.219852  \n",
      "std      0.300827   992.038414  \n",
      "min      0.930000  2107.139414  \n",
      "25%      1.770000  3618.064513  \n",
      "50%      1.960000  4284.687348  \n",
      "75%      2.142500  5086.089761  \n",
      "max      2.870000  6662.622385  \n"
     ]
    }
   ],
   "source": [
    "# Ваш код здесь\n",
    "data.info()\n",
    "sns.heatmap(data.isnull(), cbar=False, cmap='viridis')\n",
    "plt.show()\n",
    "print(data.describe())"
   ]
  },
  {
   "cell_type": "markdown",
   "source": [
    "В данных отсутствуют пустые значения, что также видно из теплловой карты"
   ],
   "metadata": {
    "collapsed": false
   },
   "id": "dbb7745ab5632928"
  },
  {
   "cell_type": "markdown",
   "source": [
    "Мы видим, что в целом вектор значений-идентификаторов (Well) не несет собой полезной нагрузки, так как выражает просто порядковый номер строки.\n",
    "Также можем заметить, что некоторые данные выражены в процентах, некоторые в соотношении кг на м^2, а некоторые в натуральных величинах. "
   ],
   "metadata": {
    "collapsed": false
   },
   "id": "7f645091a2ad8728"
  },
  {
   "cell_type": "markdown",
   "id": "d11cb44f",
   "metadata": {
    "id": "d11cb44f"
   },
   "source": [
    "### Задание 5.1. (2 балла)\n",
    "\n",
    "Постройте корреляционную матрицу факторов, включив в неё целевой признак. \n",
    "\n",
    "Для наглядности визуализируйте полученную матрицу с помощью тепловой карты. \n",
    "\n",
    "**Примечание.** *Для визуализации вы можете использовать любую из знакомых вам библиотек.*\n",
    "\n",
    "На основе построенной корреляционной матрицы ответьте на следующий вопрос:\n",
    "\n",
    "* Какие факторы сильнее всего коррелируют с целевой переменной?\n",
    "\n",
    "Вычислите ранг и определитель полученной матрицы корреляций и приведите развёрнутые ответы на следующие вопросы:\n",
    "* Является ли корреляционная матрица плохо обусловенной (близок ли её опредитель к нулю)?\n",
    "* Что вы можете сказать о наличии коллинераности/мультиколлинеарности в данных? \n",
    "* Применима ли в данном случае модель классической линейной регрессии по методу наименьших квадратов и почему? "
   ]
  },
  {
   "cell_type": "markdown",
   "source": [
    "**Критерии оценивания:**\n",
    "- Задание выполнено верно, учтены все условия (**2 балла**): \n",
    "    * приведён код для расчёта корреляционной матрицы;\n",
    "    * приведён код для визуализации корреляционной матрицы в виде тепловой карты;\n",
    "    * рассчитаны ранг и определитель корреляционной матрицы;\n",
    "    * предоставлены обоснованные ответы на все поставленные вопросы. \n",
    "\n",
    "- Задание выполнено верно, но не учтено одно условие (**1 балл**).\n",
    "- Задание выполнено неверно, не учтено несколько условий (**0 баллов**)."
   ],
   "metadata": {
    "id": "57OjUl5e2oiL"
   },
   "id": "57OjUl5e2oiL"
  },
  {
   "cell_type": "code",
   "execution_count": 29,
   "id": "af00a5a0",
   "metadata": {
    "id": "af00a5a0",
    "ExecuteTime": {
     "end_time": "2024-12-11T18:36:20.164364804Z",
     "start_time": "2024-12-11T18:36:19.942149820Z"
    }
   },
   "outputs": [
    {
     "data": {
      "text/plain": "<Figure size 800x600 with 2 Axes>",
      "image/png": "[encoded data removed]"
     },
     "metadata": {},
     "output_type": "display_data"
    },
    {
     "name": "stdout",
     "output_type": "stream",
     "text": [
      "Ранг корреляционной матрицы: 8\n",
      "Определитель корреляционной матрицы: 0.0007299388072652082\n"
     ]
    }
   ],
   "source": [
    "# Ваш код здесь\n",
    "corr_data = data.corr()\n",
    "\n",
    "plt.figure(figsize=(8, 6))\n",
    "sns.heatmap(corr_data, annot=True, cmap='coolwarm', fmt=\".2f\", linewidths=0.5)\n",
    "plt.title('Тепловая карта корреляционной матрицы')\n",
    "plt.show()\n",
    "corr_rank = np.linalg.matrix_rank(corr_data)\n",
    "print(f'Ранг корреляционной матрицы: {corr_rank}')\n",
    "corr_det = np.linalg.det(corr_data)\n",
    "print(f'Определитель корреляционной матрицы: {corr_det}')"
   ]
  },
  {
   "cell_type": "markdown",
   "id": "9a56013d",
   "metadata": {
    "id": "9a56013d"
   },
   "source": [
    "> *Ваши выводы здесь*\n",
    "\n",
    "Какие факторы сильнее всего коррелируют с целевой переменной?\n",
    "- Как наглядно видно из тепловой карты корреляционной матрицы, с целевой переменной (Prod) больше всего коррелируют признаки пористость скважины (Por) и проницаемость скважины (Perm) \n",
    "\n",
    "Является ли корреляционная матрица плохо обусловенной (близок ли её опредитель к нулю)?\n",
    "- Определитель корреляционной матрицы близок к 0 и составляет 0.0007299388072652082.\n",
    "\n",
    "Что вы можете сказать о наличии коллинераности/мультиколлинеарности в данных? \n",
    "- Коллинеарность как таковая отсутствует, так как ранг матрицы соответствует количеству факторов, а значит формально они все линейно независимы. Однако, определитель близкий к 0, а также наличие на тепловой карте корреляционной матрицы факторов, корреляция которых близка к 1 по отношению к другим факторам (например, Perm и Por), говорят нам о наличии скрытой мультиколлинеарности в данных. \n",
    "\n",
    "Применима ли в данном случае модель классической линейной регрессии по методу наименьших квадратов и почему? \n",
    "- В целом модель линейной регрессии может быть применена при условии, что данные будут надлежащим образом обработаны.\n"
   ]
  },
  {
   "cell_type": "markdown",
   "id": "43fd91c4",
   "metadata": {
    "id": "43fd91c4"
   },
   "source": [
    "### Задание 5.2. (2 балла)\n",
    "\n",
    "Создайте матрицу наблюдений `X` и вектор правильных ответов `y`. В качестве факторов для матрицы наблюдений возьмите все имеющиеся в данных признаки. \n",
    "\n",
    "Постройте модель линейной регрессии по методу наименьших квадратов. Для этого воспользуйтесь матричной формулой МНК и инструментарием библиотеки numpy. \n",
    "\n",
    "Выведите на экран полученные оценки коэффициентов модели, округлённые до целого.\n",
    "\n",
    "Приведите подробные выводы по полученным результатам, ответив на следующие вопросы:\n",
    "* Есть ли в ваших данных признаки, которые, согласно модели, можно назвать неинформативными, то есть они не оказывают влияния на целевую переменную или оказывают шумовое влияние?\n",
    "* Приведите интерпретацию нескольких (двух или трёх) коэффициентов полученной модели линейной регрессии.\n"
   ]
  },
  {
   "cell_type": "markdown",
   "source": [
    "**Критерии оценивания:**\n",
    "- Задание выполнено верно, учтены все условия (**2 балла**): \n",
    "    * приведён код для нахождения параметров модели линейной регрессии с помощью матричной формулы МНК;\n",
    "    * на основе полученных параметров даны верные ответы на поставленные вопросы;\n",
    "    * приведена корректная интерпретация нескольких коэффициентов полученной модели линейной регрессии.\n",
    "\n",
    "- Задание выполнено верно, но не учтено одно из условий (**1 балл**).\n",
    "- Задание выполнено неверно, не учтено несколько условий (**0 баллов**)."
   ],
   "metadata": {
    "id": "QtNtTUzI4Cpq"
   },
   "id": "QtNtTUzI4Cpq"
  },
  {
   "cell_type": "code",
   "execution_count": 57,
   "id": "5724288c",
   "metadata": {
    "id": "5724288c",
    "ExecuteTime": {
     "end_time": "2024-12-11T19:28:20.953890647Z",
     "start_time": "2024-12-11T19:28:20.912879320Z"
    }
   },
   "outputs": [
    {
     "name": "stdout",
     "output_type": "stream",
     "text": [
      "[-1232.     0.   230.   116.  -365.    25.   -78.   785.]\n"
     ]
    }
   ],
   "source": [
    "# Ваш код здесь\n",
    "X = data.drop(['Prod'], axis=1).values\n",
    "y = data['Prod'].values\n",
    "A = np.column_stack((np.ones(X.shape[0]), X))\n",
    "\n",
    "w_hat = np.linalg.inv(A.T@A)@A.T@y\n",
    "print(w_hat.round())"
   ]
  },
  {
   "cell_type": "markdown",
   "id": "bab9ee21",
   "metadata": {
    "id": "bab9ee21"
   },
   "source": [
    "> *Ваши выводы здесь*\n",
    "\n",
    "Есть ли в ваших данных признаки, которые, согласно модели, можно назвать неинформативными, то есть они не оказывают влияния на целевую переменную или оказывают шумовое влияние?\n",
    "- Да, например, мы можем заметить, что фактор Well (очевидно) никак не влияет на целевую переменную и поэтому его коэффициент равен 0. Факторы с малыми коэффициентами (25.0, -78.0) могут быть незначительными или неинформативными. Факторы с большими коэффициентами (785.0) играют ключевую роль в модели, но их влияние может быть завышено из-за мультиколлинеарности.\n",
    "\n",
    "Приведите интерпретацию нескольких (двух или трёх) коэффициентов полученной модели линейной регрессии.\n",
    "- Коэффициент фактора Por - 230.0 - при увеличении на 1 данного фактора, целевая переменная увеличивается на 230 единиц.\n",
    "-  Коэффициент фактора Perm - 116 - при увеличении на 1 данного фактора, целевая переменная увеличивается на 116 единиц.\n",
    "- Коэффициент фактора Al - -365 - при увеличении на 1 данного фактора, целевая переменная уменьшается на 365 единиц."
   ]
  },
  {
   "cell_type": "markdown",
   "id": "4a05a4ac",
   "metadata": {
    "id": "4a05a4ac"
   },
   "source": [
    "### Задание 5.3. (1 балл)\n",
    "\n",
    "Теперь потренируемся строить предсказание для наблюдений целевой переменной. \n",
    "\n",
    "**а)** Постройте прогноз выработки газа для скважины со следующими параметрами:\n",
    "\n",
    "```python\n",
    "{\n",
    "    'Well': 106.0,\n",
    "    'Por': 15.32,\n",
    "    'Perm': 3.71,\n",
    "    'AI': 3.29,\n",
    "    'Brittle': 55.99,\n",
    "    'TOC': 1.35,\n",
    "    'VR': 2.42\n",
    " }\n",
    "```\n",
    "\n",
    "Рассчитайте абсолютную ошибку построенного вами прогноза для предложенной скважины (в миллионах кубических футов в день), если известно, что на этой скважине производится `4748.315024` миллионов кубических футов газа в день. \n",
    "\n",
    "**б)** Постройте прогноз выработки газа для всех скважин из обучающего набора данных. Выберите метрику, по которой вы будете оценивать качество регрессионных моделей и сравнивать их между собой (можно использовать несколько метрик, но не более двух).\n",
    "\n",
    "Рассчитайте значение выбранной метрики для вашей модели. Приведите интерпретацию полученного результата. "
   ]
  },
  {
   "cell_type": "markdown",
   "source": [
    "**Критерии оценивания:**\n",
    "- Задание выполнено верно, учтены все условия (**1 балл**): \n",
    "    * приведён код для построения прогноза выработки газа на указанной скважине и рассчитана абсолютная ошибка прогноза для этой скважины;\n",
    "    * выбрана корректная для поставленной задачи метрика (или метрики) оценки качества модели и приведён код для расчёта этой метрики на всём обучающем наборе данных;\n",
    "    * приведена корректная интерпретация полученного результата.\n",
    "\n",
    "- Задание выполнено верно, но не учтено одно из условий, или задание выполнено неверно (**0 баллов**)."
   ],
   "metadata": {
    "id": "qUDcep5Q5GWU"
   },
   "id": "qUDcep5Q5GWU"
  },
  {
   "cell_type": "code",
   "execution_count": 73,
   "id": "e4291db0",
   "metadata": {
    "id": "e4291db0",
    "ExecuteTime": {
     "end_time": "2024-12-11T20:13:01.880371555Z",
     "start_time": "2024-12-11T20:13:01.836442526Z"
    }
   },
   "outputs": [
    {
     "name": "stdout",
     "output_type": "stream",
     "text": [
      "Абсолютная ошибка: 25.250970292644524\n",
      "Среднее абсолютное отклонение (MAE) на всем наборе данных: 153.6229708655643\n"
     ]
    }
   ],
   "source": [
    "# Ваш код здесь\n",
    "test_data = {\n",
    "    'Well': 106.0,\n",
    "    'Por': 15.32,\n",
    "    'Perm': 3.71,\n",
    "    'AI': 3.29,\n",
    "    'Brittle': 55.99,\n",
    "    'TOC': 1.35,\n",
    "    'VR': 2.42\n",
    " }\n",
    "test_data = np.array([1, *test_data.values()])\n",
    "pred = test_data @ w_hat\n",
    "pred_real = 4748.315024\n",
    "abs_error = np.abs(pred - pred_real)\n",
    "print(f\"Абсолютная ошибка: {abs_error}\")\n",
    "\n",
    "pred_all = A @ w_hat\n",
    "mae = np.abs(y - pred_all).mean()\n",
    "\n",
    "print(f'Среднее абсолютное отклонение (MAE) на всем наборе данных: {mae}')"
   ]
  },
  {
   "cell_type": "markdown",
   "id": "c9bee4bc",
   "metadata": {
    "id": "c9bee4bc"
   },
   "source": [
    "> *Ваши выводы здесь*\n",
    "Результат выбранной метрики (МАЕ) показал, что на тестовом наборе данных модель показала себя неплохо с разницей в ~25.25 с реальным значением. На всем обучающем наборе данных модель показала себя несколько хуже, но все же такая ошибка является приемлемой, опять же, учитывая масштабы измерений целевой переменной. "
   ]
  },
  {
   "cell_type": "markdown",
   "id": "0c25c3aa",
   "metadata": {
    "id": "0c25c3aa"
   },
   "source": [
    "### Задание 5.4. (1 балл)\n",
    "\n",
    "Настало время анализа построенной модели. Посмотрите на коэффициенты и сравните их знаки со значениями выборочных корреляций между целевым признаком и факторами, которые вы нашли ранее.\n",
    "\n",
    "Дайте развёрнутые ответы на следующие вопросы:\n",
    "\n",
    "* Есть ли в вашей модели фактор, при котором коэффициент в модели линейной регрессии противоречит соответствующему коэффициенту корреляции? Например, корреляция говорит, что зависимость между фактором и целевой переменной прямая, а модель говорит обратное. Если таких факторов несколько, укажите их все.\n",
    "* Как вы считаете, с чем связано полученное противоречие результатов?"
   ]
  },
  {
   "cell_type": "markdown",
   "source": [
    "**Критерии оценивания:**\n",
    "\n",
    "- Задание выполнено верно, даны корректные развёрнутые ответы на все поставленные в задании вопросы (**1 балл**). \n",
    "\n",
    "- Задание выполнено неверно, даны некорректные ответы на один или несколько поставленных в задании вопросов (**0 баллов**)."
   ],
   "metadata": {
    "id": "ngJ3UdYb6Ll6"
   },
   "id": "ngJ3UdYb6Ll6"
  },
  {
   "cell_type": "code",
   "source": [
    "# Ваш код здесь\n",
    "print('Еще раз выведем матрицу корреляций')\n",
    "display(corr_data)\n",
    "print(\"Выведем коэффициенты, полученные с помощью МНК\")\n",
    "display(w_hat[1:])"
   ],
   "metadata": {
    "id": "v-zIxRPY9wK7",
    "ExecuteTime": {
     "end_time": "2024-12-11T20:23:38.829183853Z",
     "start_time": "2024-12-11T20:23:38.787395287Z"
    }
   },
   "id": "v-zIxRPY9wK7",
   "execution_count": 85,
   "outputs": [
    {
     "name": "stdout",
     "output_type": "stream",
     "text": [
      "Еще раз выведем матрицу корреляций\n"
     ]
    },
    {
     "data": {
      "text/plain": "             Well       Por      Perm        AI   Brittle       TOC        VR  \\\nWell     1.000000  0.068927  0.077928  0.041483 -0.079252  0.022624 -0.007279   \nPor      0.068927  1.000000  0.760546 -0.461549 -0.218570  0.711831  0.111860   \nPerm     0.077928  0.760546  1.000000 -0.239636 -0.124017  0.471746  0.051023   \nAI       0.041483 -0.461549 -0.239636  1.000000  0.127599 -0.531864  0.499143   \nBrittle -0.079252 -0.218570 -0.124017  0.127599  1.000000 -0.214282  0.317929   \nTOC      0.022624  0.711831  0.471746 -0.531864 -0.214282  1.000000  0.299483   \nVR      -0.007279  0.111860  0.051023  0.499143  0.317929  0.299483  1.000000   \nProd     0.026817  0.861910  0.727426 -0.390835  0.237155  0.654445  0.323182   \n\n             Prod  \nWell     0.026817  \nPor      0.861910  \nPerm     0.727426  \nAI      -0.390835  \nBrittle  0.237155  \nTOC      0.654445  \nVR       0.323182  \nProd     1.000000  ",
      "text/html": "<div>\n<style scoped>\n    .dataframe tbody tr th:only-of-type {\n        vertical-align: middle;\n    }\n\n    .dataframe tbody tr th {\n        vertical-align: top;\n    }\n\n    .dataframe thead th {\n        text-align: right;\n    }\n</style>\n<table border=\"1\" class=\"dataframe\">\n  <thead>\n    <tr style=\"text-align: right;\">\n      <th></th>\n      <th>Well</th>\n      <th>Por</th>\n      <th>Perm</th>\n      <th>AI</th>\n      <th>Brittle</th>\n      <th>TOC</th>\n      <th>VR</th>\n      <th>Prod</th>\n    </tr>\n  </thead>\n  <tbody>\n    <tr>\n      <th>Well</th>\n      <td>1.000000</td>\n      <td>0.068927</td>\n      <td>0.077928</td>\n      <td>0.041483</td>\n      <td>-0.079252</td>\n      <td>0.022624</td>\n      <td>-0.007279</td>\n      <td>0.026817</td>\n    </tr>\n    <tr>\n      <th>Por</th>\n      <td>0.068927</td>\n      <td>1.000000</td>\n      <td>0.760546</td>\n      <td>-0.461549</td>\n      <td>-0.218570</td>\n      <td>0.711831</td>\n      <td>0.111860</td>\n      <td>0.861910</td>\n    </tr>\n    <tr>\n      <th>Perm</th>\n      <td>0.077928</td>\n      <td>0.760546</td>\n      <td>1.000000</td>\n      <td>-0.239636</td>\n      <td>-0.124017</td>\n      <td>0.471746</td>\n      <td>0.051023</td>\n      <td>0.727426</td>\n    </tr>\n    <tr>\n      <th>AI</th>\n      <td>0.041483</td>\n      <td>-0.461549</td>\n      <td>-0.239636</td>\n      <td>1.000000</td>\n      <td>0.127599</td>\n      <td>-0.531864</td>\n      <td>0.499143</td>\n      <td>-0.390835</td>\n    </tr>\n    <tr>\n      <th>Brittle</th>\n      <td>-0.079252</td>\n      <td>-0.218570</td>\n      <td>-0.124017</td>\n      <td>0.127599</td>\n      <td>1.000000</td>\n      <td>-0.214282</td>\n      <td>0.317929</td>\n      <td>0.237155</td>\n    </tr>\n    <tr>\n      <th>TOC</th>\n      <td>0.022624</td>\n      <td>0.711831</td>\n      <td>0.471746</td>\n      <td>-0.531864</td>\n      <td>-0.214282</td>\n      <td>1.000000</td>\n      <td>0.299483</td>\n      <td>0.654445</td>\n    </tr>\n    <tr>\n      <th>VR</th>\n      <td>-0.007279</td>\n      <td>0.111860</td>\n      <td>0.051023</td>\n      <td>0.499143</td>\n      <td>0.317929</td>\n      <td>0.299483</td>\n      <td>1.000000</td>\n      <td>0.323182</td>\n    </tr>\n    <tr>\n      <th>Prod</th>\n      <td>0.026817</td>\n      <td>0.861910</td>\n      <td>0.727426</td>\n      <td>-0.390835</td>\n      <td>0.237155</td>\n      <td>0.654445</td>\n      <td>0.323182</td>\n      <td>1.000000</td>\n    </tr>\n  </tbody>\n</table>\n</div>"
     },
     "metadata": {},
     "output_type": "display_data"
    },
    {
     "name": "stdout",
     "output_type": "stream",
     "text": [
      "Выведем коэффициенты, полученные с помощью МНК\n"
     ]
    },
    {
     "data": {
      "text/plain": "array([ 5.07003631e-02,  2.30179140e+02,  1.16239006e+02, -3.65202301e+02,\n        2.49943700e+01, -7.84009294e+01,  7.85259815e+02])"
     },
     "metadata": {},
     "output_type": "display_data"
    }
   ]
  },
  {
   "cell_type": "markdown",
   "source": [
    "> *Ваши выводы здесь*"
   ],
   "metadata": {
    "id": "qeowwIp99yBf"
   },
   "id": "qeowwIp99yBf"
  },
  {
   "cell_type": "markdown",
   "id": "9cea9195",
   "metadata": {
    "id": "9cea9195"
   },
   "source": [
    "### Задание 5.5. (2 балла)\n",
    "\n",
    "* Исключите из данных сильно коррелированные между собой факторы. Под сильной корреляцией в данной задаче будем понимать значения выше `0.7`.\n",
    "\n",
    "Выбирая, какой из коррелированных факторов оставить, руководствуйтесь коэффициентом корреляции с целевой переменной: оставляйте тот фактор, который больше всего коррелирует с целевой переменной (объёмом добычи газа).\n",
    "\n",
    "* Также исключите из данных факторы, для которых корреляция с целевой переменной меньше `0.05`.\n",
    "\n",
    "Постройте модель линейной регрессии на обновлённых после удаления факторов данных по методу наименьших квадратов. Для этого используйте матричную формулу и библиотеку numpy. Выведите значение полученных коэффициентов, округлённых до целого.\n",
    "\n",
    "Сделайте прогноз для всего обучающего набора данных и рассчитайте выбранную вами ранее метрику (или метрики). \n",
    "\n",
    "Дайте подробные ответы на следующие вопросы:\n",
    "\n",
    "* Приведите интерпретацию нескольких полученных коэффициентов (двух или трёх). Сравните их значения с полученными ранее.\n",
    "* Приведите интерпретацию полученных значений метрик. Сравните их значения с полученными ранее. \n",
    "* Удалось ли вам побороть противоречие коэффициентов линейной регрессии и коэффициентов корреляции?"
   ]
  },
  {
   "cell_type": "markdown",
   "source": [
    "**Критерии оценивания:**\n",
    "- Задание выполнено верно, учтены все условия (**2 балла**): \n",
    "    * отобраны верные факторы;\n",
    "    * на основе отобранных факторов построена модель линейной регрессии с помощью матричной формулы МНК и найдены параметры модели, соответствующие каждому из факторов;\n",
    "    * построен прогноз для всего обучающего набора данных и рассчитано значение метрики (метрика должна быть выбрана корректно);\n",
    "    * даны ответы на все поставленные в задании вопросы.\n",
    "\n",
    "- Задание выполнено верно, но не учтено одно из условий (**1 балл**).\n",
    "- Задание выполнено верно, не учтено несколько из условий (**0 баллов**)."
   ],
   "metadata": {
    "id": "vlUYVjJP6oXN"
   },
   "id": "vlUYVjJP6oXN"
  },
  {
   "cell_type": "code",
   "source": [
    "# Ваш код здесь"
   ],
   "metadata": {
    "id": "5d5ZJ0lX_UHe",
    "ExecuteTime": {
     "end_time": "2024-12-11T18:22:10.557726781Z",
     "start_time": "2024-12-11T18:22:10.348668744Z"
    }
   },
   "id": "5d5ZJ0lX_UHe",
   "execution_count": 10,
   "outputs": []
  },
  {
   "cell_type": "markdown",
   "source": [
    "> *Ваши выводы здесь*"
   ],
   "metadata": {
    "id": "KxbYvMDo_WLe"
   },
   "id": "KxbYvMDo_WLe"
  },
  {
   "cell_type": "markdown",
   "id": "7d50db12",
   "metadata": {
    "id": "7d50db12"
   },
   "source": [
    "### Задание 5.6. (1 балл)\n",
    "\n",
    "Наконец, давайте построим модель линейной регрессии из библиотеки `scikit-learn (sklearn)` и сравним результаты её работы с теми, что нам удалось получить вручную. \n",
    "\n",
    "Постройте модель линейной регрессии на обновлённых после удаления факторов данных по методу наименьших квадратов. Для этого воспользуйтесь классом `LinearRegression` из библиотеки `sklearn`. Выведите значения полученных коэффициентов, округлённые до целого.\n",
    "\n",
    "Сделайте прогноз для всего обучающего набора данных и рассчитайте значение выбранной вами метрики (или метрик).\n",
    "\n",
    "Сравните результаты библиотечной реализации с тем, что вы получили ранее. "
   ]
  },
  {
   "cell_type": "markdown",
   "source": [
    "**Критерии оценивания:**\n",
    "\n",
    "- Задание выполнено верно, учтены все условия (**1 балл**): \n",
    "    * на основе отобранных факторов построена модель линейной регрессии из библиотеки sklearn и найдены параметры модели, соответствующие каждому из факторов;\n",
    "    * построен прогноз для всего обучающего набора данных и рассчитано значение метрики (метрика должна быть выбрана корректно);\n",
    "    * приведён вывод о соответствии результатов, полученных вручную и с помощью библиотеки.\n",
    "- Задание выполнено неверно, не учтено одно или несколько условий (**0 баллов**)."
   ],
   "metadata": {
    "id": "emu5D3w278JP"
   },
   "id": "emu5D3w278JP"
  },
  {
   "cell_type": "code",
   "source": [
    "# Ваш код здесь"
   ],
   "metadata": {
    "id": "Gpdpfq59AKGu",
    "ExecuteTime": {
     "end_time": "2024-12-11T18:22:10.558089131Z",
     "start_time": "2024-12-11T18:22:10.348817117Z"
    }
   },
   "id": "Gpdpfq59AKGu",
   "execution_count": 11,
   "outputs": []
  },
  {
   "cell_type": "markdown",
   "source": [
    "> *Ваши выводы здесь*"
   ],
   "metadata": {
    "id": "WT9cdHAbAMG7"
   },
   "id": "WT9cdHAbAMG7"
  },
  {
   "cell_type": "markdown",
   "id": "5346338e",
   "metadata": {
    "id": "5346338e"
   },
   "source": [
    "## Практика: полиномиальная регрессия и регуляризация"
   ]
  },
  {
   "cell_type": "markdown",
   "id": "aad9e3a6",
   "metadata": {
    "id": "aad9e3a6"
   },
   "source": [
    "Мы продолжаем работать над задачей от владельца компании «Газ-Таз-Ваз-Нефть» Василия.\n",
    "\n",
    "Ранее мы построили модель линейной регрессии, которая прогнозирует выработку газа на скважине. Для этого мы с помощью матрицы корреляций и рассуждений отобрали некоррелированные, значимые для предсказания признаки. **Далее мы будем использовать именно их (см. задание 5.5).**\n",
    "\n",
    "Мы хотим улучшить результат — уменьшить ошибку прогноза. Для этого мы воспользуемся моделью полиномиальной регрессии третьей степени. Однако теперь мы знаем, что полиномиальным моделям очень легко переобучиться под исходную выборку. Так как данных у нас не так много (всего 200 скважин), то для контроля качества модели мы будем использовать кросс-валидацию. \n",
    "\n",
    "Приступим! Выполните задания 8.1–8.5:\n"
   ]
  },
  {
   "cell_type": "code",
   "execution_count": 12,
   "id": "18506d1b",
   "metadata": {
    "id": "18506d1b",
    "ExecuteTime": {
     "end_time": "2024-12-11T18:22:10.765339599Z",
     "start_time": "2024-12-11T18:22:10.348978193Z"
    }
   },
   "outputs": [],
   "source": [
    "from sklearn.preprocessing import PolynomialFeatures, StandardScaler\n",
    "from sklearn.linear_model import LinearRegression, Lasso, Ridge, ElasticNet\n",
    "from sklearn.model_selection import GridSearchCV\n",
    "from sklearn.model_selection import cross_validate"
   ]
  },
  {
   "cell_type": "markdown",
   "id": "bfbfea8d",
   "metadata": {
    "id": "bfbfea8d"
   },
   "source": [
    "### Задание 8.1. (1 балл)\n",
    "\n",
    "Стандаризируйте признаки с помощью `StandartScaler` из библиотеки `sklearn`. \n",
    "\n",
    "Затем сгенерируйте полиномиальные признаки третьего порядка на факторах, которые вы выбрали для обучения моделей. Для этого воспользуйтесь генератором полиномов `PolynomialFeatures` из библиотеки `sklearn`. Параметр `include_bias` установите в значение `False`.\n",
    "\n",
    "Выведите на экран, сколько факторов у вас получилось после генерации полиномиальных признаков.\n",
    "\n",
    "**Важно:** стандартизацию необходимо произвести до генерации полиномиальных факторов!\n",
    "\n",
    "Обучите модель линейной регрессии из библиотеки `sklearn` (`LinearRegression`) на полученных полиномиальных факторах.\n",
    "\n",
    "Используя кросс-валидацию оцените среднее значение выбранной вами метрики (или метрик) на тренировочных и валидационных фолдах.\n",
    "\n",
    "Проинтерпретируйте полученные результаты."
   ]
  },
  {
   "cell_type": "markdown",
   "source": [
    "**Критерии оценивания:**\n",
    "\n",
    "- Задание выполнено верно, учтены все условия (**1 балл**): \n",
    "    * на основе отобранных факторов сгенерированы полиномиальные признаки третьего порядка;\n",
    "    * построена модель полиномиальной регрессии (линейной регрессии на полиномиальных признаках);\n",
    "    * с помощью кросс-валидации оценено среднее значение выбранной студентом метрики (или метрик) на тренировочных и валидационных фолдах (метрика должна быть выбрана корректно).\n",
    "- Задание выполнено неверно, не учтено одно или несколько из условий (**0 баллов**)."
   ],
   "metadata": {
    "id": "Y8oAhQkr8gV-"
   },
   "id": "Y8oAhQkr8gV-"
  },
  {
   "cell_type": "code",
   "source": [
    "# Ваш код здесь"
   ],
   "metadata": {
    "id": "-ln3bx8NFNRw",
    "ExecuteTime": {
     "end_time": "2024-12-11T18:22:10.767040865Z",
     "start_time": "2024-12-11T18:22:10.563785307Z"
    }
   },
   "id": "-ln3bx8NFNRw",
   "execution_count": 13,
   "outputs": []
  },
  {
   "cell_type": "markdown",
   "source": [
    "> *Ваши выводы здесь*"
   ],
   "metadata": {
    "id": "9DkuuLLtFPPy"
   },
   "id": "9DkuuLLtFPPy"
  },
  {
   "cell_type": "markdown",
   "id": "63d06013",
   "metadata": {
    "id": "63d06013"
   },
   "source": [
    "### Задание 8.2. (2 балла)\n",
    "\n",
    "Теперь попробуем воспользоваться линейной регрессией с регуляризацией. Для начала возьмём $L_1$-регуляризацию.\n",
    "\n",
    "Обучите модель `Lasso` из библиотеки `sklearn` на полученных полиномиальных факторах, предварительно стандартизировав факторы. \n",
    "\n",
    "Коэффициент регуляризации (`alpha`) подберите самостоятельно с помощью любого известного вам метода подбора гиперпаметров.\n",
    "\n",
    "Используя кросс-валидацию, оцените среднее значение выбранной вами метрики (или метрик) на тренировочных и валидационных фолдах.\n",
    "\n",
    "Проинтерпретируйте полученные результаты."
   ]
  },
  {
   "cell_type": "markdown",
   "source": [
    "**Критерии оценивания:**\n",
    "\n",
    "- Задание выполнено верно, учтены все условия (**2 балла**): \n",
    "    * правильно построена модель полиномиальной регрессии (линейной регрессии на полиномиальных признаках) с регуляризацией (Lasso), учтены условия необходимости масштабирования факторов для построения модели;\n",
    "    * приведён код для подбора параметра регуляризации (вручную или с помощью библиотечных инструментов);\n",
    "    * с помощью кросс-валидации оценено среднее значение выбранной студентом метрики (или метрик) на тренировочных и валидационных фолдах (метрика должна быть выбрана корректно).\n",
    "\n",
    "- Задание выполнено верно, но не учтено одно из условий (**1 балл**).\n",
    "- Задание выполнено неверно, не учтено несколько условий (**0 баллов**)."
   ],
   "metadata": {
    "id": "z24YUfuA9rUq"
   },
   "id": "z24YUfuA9rUq"
  },
  {
   "cell_type": "code",
   "source": [
    "# Ваш код здесь"
   ],
   "metadata": {
    "id": "IJ5b5G8qFz-r",
    "ExecuteTime": {
     "end_time": "2024-12-11T18:22:10.777045208Z",
     "start_time": "2024-12-11T18:22:10.567153004Z"
    }
   },
   "id": "IJ5b5G8qFz-r",
   "execution_count": 14,
   "outputs": []
  },
  {
   "cell_type": "markdown",
   "source": [
    "> *Ваши выводы здесь*"
   ],
   "metadata": {
    "id": "Se0OGR8UF2Td"
   },
   "id": "Se0OGR8UF2Td"
  },
  {
   "cell_type": "markdown",
   "id": "2975ae60",
   "metadata": {
    "id": "2975ae60"
   },
   "source": [
    "### Задание 8.3. (2 балла)\n",
    "\n",
    "Проделаем то же самое с $L_2$-регуляризацией.\n",
    "\n",
    "Обучите модель `Ridge` из библиотеки `sklearn` на полученных полиномиальных факторах, предварительно стандартизировав факторы. \n",
    "\n",
    "Коэффициент регуляризации (`alpha`) подберите самостоятельно с помощью любого известного вам метода подбора гиперпаметров.\n",
    "\n",
    "Используя кросс-валидацию оцените среднее значение выбранной вами метрики (или метрик) на тренировочных и валидационных фолдах.\n",
    "\n",
    "Проинтерпретируйте полученные результаты."
   ]
  },
  {
   "cell_type": "code",
   "source": [
    "# Ваш код здесь"
   ],
   "metadata": {
    "id": "UfPGyNsjGGS8",
    "ExecuteTime": {
     "end_time": "2024-12-11T18:22:10.777906326Z",
     "start_time": "2024-12-11T18:22:10.573484168Z"
    }
   },
   "id": "UfPGyNsjGGS8",
   "execution_count": 15,
   "outputs": []
  },
  {
   "cell_type": "markdown",
   "source": [
    "> *Ваши выводы здесь*"
   ],
   "metadata": {
    "id": "dQBd7ny_GIi1"
   },
   "id": "dQBd7ny_GIi1"
  },
  {
   "cell_type": "markdown",
   "source": [
    "**Критерии оценивания:**\n",
    "\n",
    "- Задание выполнено верно, учтены все условия (**2 балла**): \n",
    "    * правильно построена модель полиномиальной регрессии (линейной регрессии на полиномиальных признаках) с регуляризацией (Ridge), учтены условия необходимости масштабирования факторов для построения модели;\n",
    "    * приведён код для подбора параметра регуляризации (вручную или с помощью библиотечных инструментов);\n",
    "    * с помощью кросс-валидации оценено среднее значение выбранной студентом метрики (или метрик) на тренировочных и валидационных фолдах (метрика должна быть выбрана корректно).\n",
    "\n",
    "- Задание выполнено верно, но не учтено одно из условий (**1 балл**).\n",
    "- Задание выполнено неверно, не учтено несколько условий (**0 баллов**)."
   ],
   "metadata": {
    "id": "86pXnWE7-5ch"
   },
   "id": "86pXnWE7-5ch"
  },
  {
   "cell_type": "markdown",
   "id": "7ad85b78",
   "metadata": {
    "id": "7ad85b78"
   },
   "source": [
    "### Задание 8.4. (2 балла)\n",
    "\n",
    "Наконец, настало время комбинировать $L_1$ и $L_2$ -регуляризации.\n",
    "\n",
    "Обучите модель `ElasticNet` из библиотеки `sklearn` на полученных полиномиальных факторах, предварительно стандартизировав факторы. \n",
    "\n",
    "Коэффициенты регуляризации (`alpha` и `l1-ratio`) подберите самостоятельно с помощью любого известного вам метода подбора гиперпаметров.\n",
    "\n",
    "Используя кросс-валидацию, оцените среднее значение метрики MAPE на тренировочных и валидационных фолдах.\n",
    "\n",
    "Проинтерпретируйте полученные результаты."
   ]
  },
  {
   "cell_type": "markdown",
   "source": [
    "**Критерии оценивания:**\n",
    "\n",
    "- Задание выполнено верно, учтены все условия (**2 балла**): \n",
    "    * правильно построена модель полиномиальной регрессии (линейной регрессии на полиномиальных признаках) с регуляризацией (ElasticNet), учтены условия необходимости масштабирования факторов для построения модели;\n",
    "    * приведён код для подбора параметра регуляризации (вручную или с помощью библиотечных инструментов);\n",
    "    * с помощью кросс-валидации оценено среднее значение выбранной студентом метрики (или метрик) на тренировочных и валидационных фолдах (метрика должна быть выбрана корректно).\n",
    "\n",
    "- Задание выполнено верно, но не учтено одно из условий (**1 балл**).\n",
    "- Задание выполнено неверно, не учтено несколько условий (**0 баллов**)."
   ],
   "metadata": {
    "id": "sy8ESceQ-__u"
   },
   "id": "sy8ESceQ-__u"
  },
  {
   "cell_type": "code",
   "source": [
    "# Ваш код здесь"
   ],
   "metadata": {
    "id": "-Yi3P20hQnLS",
    "ExecuteTime": {
     "end_time": "2024-12-11T18:22:10.779186751Z",
     "start_time": "2024-12-11T18:22:10.576587421Z"
    }
   },
   "id": "-Yi3P20hQnLS",
   "execution_count": 16,
   "outputs": []
  },
  {
   "cell_type": "markdown",
   "source": [
    "> *Ваши выводы здесь*"
   ],
   "metadata": {
    "id": "er2lAiE9QpAb"
   },
   "id": "er2lAiE9QpAb"
  },
  {
   "cell_type": "markdown",
   "id": "91c6e1d1",
   "metadata": {
    "id": "91c6e1d1"
   },
   "source": [
    "### Задание 8.5. (1 балл)\n",
    "\n",
    "Завершением вашей работы будет сводная таблица результатов, которую вы представите на презентации заказчику Василию.\n",
    "\n",
    "Составьте таблицу (DataFrame) со следующими столбцами (имена столбцов выберите самостоятельно):\n",
    "* Наименование модели.\n",
    "* Гиперпараметры (коэффициенты регуляризации, если таковые имеются), если нет — оставьте ячейку пустой.\n",
    "* Использовались ли полиномиальные признаки при построении модели (Да/Нет или True/False).\n",
    "* Значение выбранной метрики на тренировочных фолдах при кросс-валидации модели.\n",
    "* Значение выбранной метрики на валидационных фолдах при кросс-валидации модели.\n",
    "\n",
    "Сделайте финальный вывод по проделанной работе. Какая линейная модель из тех, что мы рассмотрели, показала наилучший результат с точки зрения качества на валидационных фолдах, а также с точки зрения переобученности?"
   ]
  },
  {
   "cell_type": "markdown",
   "source": [
    "**Критерии оценивания:**\n",
    "\n",
    "- Задание выполнено верно, учтены все условия (**1 балл**): \n",
    "    * верно составлена сводная таблица итоговых результатов построенных ранее моделей с указанными в задании столбцами;\n",
    "    * приведены итоговые выводы по проделанной работе, указано, какая из рассмотренных моделей показала наилучший результат.\n",
    "\n",
    "- Задание выполнено неверно, не учтено одно или несколько условий (**0 баллов**)."
   ],
   "metadata": {
    "id": "OsFRaKkF_nLq"
   },
   "id": "OsFRaKkF_nLq"
  },
  {
   "cell_type": "code",
   "source": [
    "# Ваш код здесь"
   ],
   "metadata": {
    "id": "wRiys8lKQuqW",
    "ExecuteTime": {
     "end_time": "2024-12-11T18:22:10.779819415Z",
     "start_time": "2024-12-11T18:22:10.581563097Z"
    }
   },
   "id": "wRiys8lKQuqW",
   "execution_count": 17,
   "outputs": []
  },
  {
   "cell_type": "markdown",
   "source": [
    "> *Ваши выводы здесь*"
   ],
   "metadata": {
    "id": "UP7_LSoEQsrA"
   },
   "id": "UP7_LSoEQsrA"
  },
  {
   "cell_type": "code",
   "execution_count": 17,
   "id": "752d4445-6a85-4cfb-b520-7b7b0f9a5b20",
   "metadata": {
    "id": "752d4445-6a85-4cfb-b520-7b7b0f9a5b20",
    "ExecuteTime": {
     "end_time": "2024-12-11T18:22:10.780563641Z",
     "start_time": "2024-12-11T18:22:10.589304223Z"
    }
   },
   "outputs": [],
   "source": []
  }
 ],
 "metadata": {
  "kernelspec": {
   "display_name": "Python 3.10.8 ('base')",
   "language": "python",
   "name": "python3"
  },
  "language_info": {
   "codemirror_mode": {
    "name": "ipython",
    "version": 3
   },
   "file_extension": ".py",
   "mimetype": "text/x-python",
   "name": "python",
   "nbconvert_exporter": "python",
   "pygments_lexer": "ipython3",
   "version": "3.10.8"
  },
  "vscode": {
   "interpreter": {
    "hash": "86c56a74836ad344b00594bf6f38fa6a676a207ceefe20d101fbc465800ccb8d"
   }
  },
  "colab": {
   "provenance": []
  }
 },
 "nbformat": 4,
 "nbformat_minor": 5
}
