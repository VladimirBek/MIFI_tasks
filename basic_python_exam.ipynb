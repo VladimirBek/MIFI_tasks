{
 "cells": [
  {
   "cell_type": "markdown",
   "metadata": {},
   "source": [
    "Задание 1"
   ]
  },
  {
   "cell_type": "code",
   "execution_count": 3,
   "metadata": {},
   "outputs": [
    {
     "name": "stdout",
     "output_type": "stream",
     "text": [
      "дела как Привет\n",
      "дождь идет улице На\n",
      "\n",
      "программирование люблю Я\n",
      "\n"
     ]
    }
   ],
   "source": [
    "def reverse_words_in_sentence(sentence):\n",
    "    return ' '.join(sentence.split()[::-1])\n",
    "\n",
    "\n",
    "def task1(block_size=2):\n",
    "    with open('task1_text.txt', 'r') as f:\n",
    "        sentences = f.readlines()\n",
    "    sentences = [sentence.strip() for sentence in sentences]\n",
    "    blocks = [sentences[i:i + block_size] for i in range(0, len(sentences), block_size)]\n",
    "    for block in blocks:\n",
    "        for i in range(len(block)):\n",
    "            block[i] = reverse_words_in_sentence(block[i])\n",
    "    for block in blocks:\n",
    "        print('\\n'.join(block))\n",
    "        print()  # Пустая строка между блоками\n",
    "\n",
    "\n",
    "task1(2)"
   ]
  },
  {
   "cell_type": "markdown",
   "metadata": {},
   "source": [
    "Задание 2"
   ]
  },
  {
   "cell_type": "code",
   "execution_count": 7,
   "metadata": {},
   "outputs": [
    {
     "name": "stdout",
     "output_type": "stream",
     "text": [
      "a3b2c\n",
      "abcd\n",
      "b4c3a\n"
     ]
    }
   ],
   "source": [
    "def task2(s):\n",
    "    if not s:\n",
    "        return s\n",
    "    compressed = []\n",
    "    count = 1\n",
    "    for i in range(1, len(s)):\n",
    "        if s[i] == s[i - 1]:\n",
    "            count += 1\n",
    "        else:\n",
    "            compressed.append(s[i - 1] + (str(count) if count > 1 else ''))\n",
    "            count = 1\n",
    "    compressed.append(s[-1] + (str(count) if count > 1 else ''))\n",
    "    compressed_str = ''.join(compressed)\n",
    "    return compressed_str if len(compressed_str) <= len(s) else s\n",
    "print(task2('aaabbc'))\n",
    "print(task2('abcd'))\n",
    "print(task2('bbbbccca'))\n"
   ]
  },
  {
   "cell_type": "markdown",
   "metadata": {},
   "source": [
    "Задание 3"
   ]
  },
  {
   "cell_type": "code",
   "execution_count": 8,
   "metadata": {},
   "outputs": [
    {
     "name": "stdout",
     "output_type": "stream",
     "text": [
      "False\n",
      "True\n"
     ]
    }
   ],
   "source": [
    "def task_3(s):\n",
    "    stack = []\n",
    "    brackets_map = {')': '(', ']': '[', '}': '{'}\n",
    "\n",
    "    for char in s:\n",
    "        if char in brackets_map.values():  \n",
    "            stack.append(char)\n",
    "        elif char in brackets_map.keys():  \n",
    "            if not stack or stack[-1] != brackets_map[char]:\n",
    "                return False\n",
    "            stack.pop()\n",
    "\n",
    "    return not stack\n",
    "\n",
    "print(task_3(\"([)]\"))\n",
    "print(task_3(\"({[()]})\"))"
   ]
  },
  {
   "cell_type": "markdown",
   "metadata": {},
   "source": [
    "Задание 4"
   ]
  },
  {
   "cell_type": "code",
   "execution_count": 11,
   "metadata": {},
   "outputs": [
    {
     "name": "stdout",
     "output_type": "stream",
     "text": [
      "Сгенерированный пароль: ;aVl%_4hEfO#w}=;7RDDdkeHszsL=t|3#W(i(|Q<;&ZQ59dBgC2Op?u_$W!5QQ2mqz}hujcDC,AohLQ;Jv)+1tpO|DwM6.#S]}Xe]K|DR;U!=&u$=HrV.(iOze?\n"
     ]
    }
   ],
   "source": [
    "import random\n",
    "import string\n",
    "\n",
    "def generate_password(length):\n",
    "\n",
    "    lowercase_letters = string.ascii_lowercase \n",
    "    uppercase_letters = string.ascii_uppercase \n",
    "    digits = string.digits \n",
    "    special_chars = \"!@#$%^&*()_+-=[]{}|;:,.<>?\"\n",
    "\n",
    "    all_chars = lowercase_letters + uppercase_letters + digits + special_chars\n",
    "\n",
    "    password = [\n",
    "        random.choice(lowercase_letters),\n",
    "        random.choice(uppercase_letters),\n",
    "        random.choice(digits),\n",
    "        random.choice(special_chars),\n",
    "    ]\n",
    "\n",
    "    password += random.choices(all_chars, k=length - 4)\n",
    "\n",
    "    random.shuffle(password)\n",
    "\n",
    "    return ''.join(password)\n",
    "\n",
    "password_length = int(input(\"Введите длину пароля: \"))\n",
    "try:\n",
    "    password = generate_password(password_length)\n",
    "    print(f\"Сгенерированный пароль: {password}\")\n",
    "except ValueError as e:\n",
    "    print(e)"
   ]
  },
  {
   "cell_type": "markdown",
   "metadata": {},
   "source": [
    "Задание 5"
   ]
  },
  {
   "cell_type": "code",
   "execution_count": 16,
   "metadata": {},
   "outputs": [
    {
     "name": "stdout",
     "output_type": "stream",
     "text": [
      "Добавлен Клиент Иван (приоритет: 1)\n",
      "Добавлен Клиент Мария (приоритет: 2)\n",
      "Добавлен Клиент Алексей (приоритет: 1)\n",
      "Обслужен Клиент Иван (приоритет: 1). Время обслуживания: 1.00 секунд.\n",
      "Обслужен Клиент Алексей (приоритет: 1). Время обслуживания: 2.00 секунд.\n",
      "Обслужен Клиент Мария (приоритет: 2). Время обслуживания: 3.00 секунд.\n",
      "\n",
      "Отчёт для администрации:\n",
      "Общее количество обслуженных клиентов: 3\n",
      "Общее время обслуживания: 6.00 секунд\n",
      "Среднее время обслуживания: 2.00 секунд\n",
      "Детали по клиентам:\n",
      "Клиент Иван: 1.00 секунд\n",
      "Клиент Алексей: 2.00 секунд\n",
      "Клиент Мария: 3.00 секунд\n"
     ]
    }
   ],
   "source": [
    "from datetime import datetime\n",
    "import time\n",
    "\n",
    "class Node:\n",
    "    \"\"\"Класс для узла очереди\"\"\"\n",
    "\n",
    "    def __init__(self, data, next_node=None):\n",
    "        \"\"\"\n",
    "        Конструктор класса Node\n",
    "\n",
    "        :param data: данные, которые будут храниться в узле\n",
    "        \"\"\"\n",
    "        self.data = data\n",
    "        self.next_node = next_node\n",
    "\n",
    "\n",
    "class Queue:\n",
    "    \"\"\"Класс для очереди\"\"\"\n",
    "\n",
    "    def __init__(self):\n",
    "        \"\"\"Конструктор класса Queue\"\"\"\n",
    "        self.head = None\n",
    "        self.tail = None\n",
    "\n",
    "    def __str__(self):\n",
    "        \"\"\"Магический метод для строкового представления объекта\"\"\"\n",
    "        res = []\n",
    "        obj_h = self.head\n",
    "        if obj_h is None:\n",
    "            return ''\n",
    "        while obj_h is not None:\n",
    "            res.append(str(obj_h.data))\n",
    "            obj_h = obj_h.next_node\n",
    "        return '\\n'.join(res)\n",
    "\n",
    "    def enqueue(self, data):\n",
    "        \"\"\"\n",
    "        Метод для добавления элемента в очередь\n",
    "\n",
    "        :param data: данные, которые будут добавлены в очередь\n",
    "        \"\"\"\n",
    "        node = Node(data)\n",
    "        if self.head is None:\n",
    "            self.head = self.tail = node\n",
    "        else:\n",
    "            self.tail.next_node = node\n",
    "            self.tail = node\n",
    "\n",
    "    def dequeue(self):\n",
    "        \"\"\"\n",
    "        Метод для удаления элемента из очереди. Возвращает данные удаленного элемента\n",
    "\n",
    "        :return: данные удаленного элемента\n",
    "        \"\"\"\n",
    "        if self.head is None:\n",
    "            return None\n",
    "        data = self.head.data\n",
    "        self.head = self.head.next_node\n",
    "        return data\n",
    "\n",
    "    def is_empty(self):\n",
    "        \"\"\"Проверка, пуста ли очередь\"\"\"\n",
    "        return self.head is None\n",
    "\n",
    "\n",
    "class Client:\n",
    "    \"\"\"Класс для клиента\"\"\"\n",
    "\n",
    "    def __init__(self, name, priority):\n",
    "        \"\"\"\n",
    "        Конструктор класса Client\n",
    "\n",
    "        :param name: имя клиента\n",
    "        :param priority: приоритет клиента (1 - VIP, 2 - обычный)\n",
    "        \"\"\"\n",
    "        self.name = name\n",
    "        self.priority = priority\n",
    "        self.arrival_time = datetime.now()\n",
    "\n",
    "    def __str__(self):\n",
    "        return f\"Клиент {self.name} (приоритет: {self.priority})\"\n",
    "\n",
    "\n",
    "class QueueSimulator:\n",
    "    \"\"\"Класс для симуляции очереди\"\"\"\n",
    "\n",
    "    def __init__(self):\n",
    "        \"\"\"Конструктор класса QueueSimulator\"\"\"\n",
    "        self.vip_queue = Queue()  # Очередь для VIP-клиентов\n",
    "        self.regular_queue = Queue()  # Очередь для обычных клиентов\n",
    "        self.served_clients = []  # Список обслуженных клиентов\n",
    "\n",
    "    def add_client(self, name, priority):\n",
    "        \"\"\"Добавление клиента в очередь\"\"\"\n",
    "        client = Client(name, priority)\n",
    "        if priority == 1:\n",
    "            self.vip_queue.enqueue(client)\n",
    "        else:\n",
    "            self.regular_queue.enqueue(client)\n",
    "        print(f\"Добавлен {client}\")\n",
    "\n",
    "    def serve_next_client(self):\n",
    "        \"\"\"Обслуживание следующего клиента\"\"\"\n",
    "        if not self.vip_queue.is_empty():\n",
    "            client = self.vip_queue.dequeue()\n",
    "            time.sleep(1)\n",
    "        elif not self.regular_queue.is_empty():\n",
    "            client = self.regular_queue.dequeue()\n",
    "            time.sleep(1)\n",
    "        else:\n",
    "            print(\"Очередь пуста.\")\n",
    "            return\n",
    "\n",
    "        serve_time = datetime.now()\n",
    "        service_duration = (serve_time - client.arrival_time).total_seconds()\n",
    "        self.served_clients.append((client.name, service_duration))\n",
    "        print(f\"Обслужен {client}. Время обслуживания: {service_duration:.2f} секунд.\")\n",
    "\n",
    "    def generate_report(self):\n",
    "        \"\"\"Генерация отчёта для администрации\"\"\"\n",
    "        if not self.served_clients:\n",
    "            print(\"Нет обслуженных клиентов.\")\n",
    "            return\n",
    "\n",
    "        total_time = sum(duration for _, duration in self.served_clients)\n",
    "        average_time = total_time / len(self.served_clients)\n",
    "        print(\"\\nОтчёт для администрации:\")\n",
    "        print(f\"Общее количество обслуженных клиентов: {len(self.served_clients)}\")\n",
    "        print(f\"Общее время обслуживания: {total_time:.2f} секунд\")\n",
    "        print(f\"Среднее время обслуживания: {average_time:.2f} секунд\")\n",
    "        print(\"Детали по клиентам:\")\n",
    "        for name, duration in self.served_clients:\n",
    "            print(f\"Клиент {name}: {duration:.2f} секунд\")\n",
    "\n",
    "\n",
    "# Пример использования\n",
    "queue_simulator = QueueSimulator()\n",
    "\n",
    "# Добавление клиентов\n",
    "queue_simulator.add_client(\"Иван\", 1)  # VIP\n",
    "queue_simulator.add_client(\"Мария\", 2)  # Обычный\n",
    "queue_simulator.add_client(\"Алексей\", 1)  # VIP\n",
    "\n",
    "# Обслуживание клиентов\n",
    "queue_simulator.serve_next_client()\n",
    "queue_simulator.serve_next_client()\n",
    "queue_simulator.serve_next_client()\n",
    "\n",
    "# Генерация отчёта\n",
    "queue_simulator.generate_report()"
   ]
  },
  {
   "cell_type": "markdown",
   "metadata": {},
   "source": [
    "Задание 6"
   ]
  },
  {
   "cell_type": "code",
   "execution_count": 25,
   "metadata": {},
   "outputs": [
    {
     "name": "stdout",
     "output_type": "stream",
     "text": [
      "Палиндром\n",
      "Палиндром\n",
      "Почти палиндром\n",
      "Не палиндром\n",
      "Почти палиндром\n"
     ]
    }
   ],
   "source": [
    "def is_palindrome(s):\n",
    "    return s == s[::-1]\n",
    "\n",
    "def task6(s):\n",
    "    if is_palindrome(s):\n",
    "        return 'Палиндром'\n",
    "    for i in range(len(s)):\n",
    "        sub_str = s[:i] + s[i+1:]\n",
    "        if is_palindrome(sub_str):\n",
    "            return 'Почти палиндром'\n",
    "    return 'Не палиндром'\n",
    "\n",
    "\n",
    "print(task6(\"racecar\"))  \n",
    "print(task6(\"abccba\"))   \n",
    "print(task6(\"raceacar\")) \n",
    "print(task6(\"abc\"))      \n",
    "print(task6(\"abca\"))     "
   ]
  },
  {
   "cell_type": "markdown",
   "metadata": {},
   "source": [
    "Задание 7"
   ]
  },
  {
   "cell_type": "code",
   "execution_count": 29,
   "metadata": {},
   "outputs": [
    {
     "name": "stdout",
     "output_type": "stream",
     "text": [
      "Результат после удаления текста:\n",
      "Сегодня солнечный день, ... я собираюсь гулять в парке с моими ...\n",
      "Результат сохранен в файл: task7_text_erased.txt\n"
     ]
    }
   ],
   "source": [
    "import random\n",
    "\n",
    "def task7(file_path, erase_percent):\n",
    "    with open(file_path, 'r', encoding='utf-8') as file:\n",
    "        text = file.read()\n",
    "\n",
    "    words = text.split()\n",
    "    total_words = len(words)\n",
    "    words_to_erase = int(total_words * erase_percent / 100)\n",
    "\n",
    "    indices_to_erase = random.sample(range(total_words), words_to_erase)\n",
    "    for index in indices_to_erase:\n",
    "        words[index] = '...'\n",
    "\n",
    "    new_text = ' '.join(words)\n",
    "\n",
    "    output_file_path = file_path.replace('.txt', '_erased.txt')\n",
    "    with open(output_file_path, 'w', encoding='utf-8') as file:\n",
    "        file.write(new_text)\n",
    "\n",
    "    print(\"Результат после удаления текста:\")\n",
    "    print(new_text)\n",
    "    print(f\"Результат сохранен в файл: {output_file_path}\")\n",
    "\n",
    "file_path = input(\"Введите путь к файлу: \") # task7_text.txt\n",
    "\n",
    "erase_percent = float(input(\"Введите процент текста для удаления (например, 30): \"))\n",
    "\n",
    "task7(file_path, erase_percent)"
   ]
  }
 ],
 "metadata": {
  "kernelspec": {
   "display_name": "Python 3",
   "language": "python",
   "name": "python3"
  },
  "language_info": {
   "codemirror_mode": {
    "name": "ipython",
    "version": 3
   },
   "file_extension": ".py",
   "mimetype": "text/x-python",
   "name": "python",
   "nbconvert_exporter": "python",
   "pygments_lexer": "ipython3",
   "version": "3.11.10"
  }
 },
 "nbformat": 4,
 "nbformat_minor": 2
}
