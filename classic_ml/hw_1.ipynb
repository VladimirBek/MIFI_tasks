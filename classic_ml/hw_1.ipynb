{
 "cells": [
  {
   "cell_type": "code",
   "execution_count": 1,
   "metadata": {},
   "outputs": [],
   "source": [
    "import numpy as np\n",
    "import pandas as pd"
   ]
  },
  {
   "cell_type": "code",
   "execution_count": 2,
   "metadata": {},
   "outputs": [],
   "source": [
    "class LinearRegression:\n",
    "    def __init__(self, learning_rate=0.01, iterations=1000):\n",
    "        self.learning_rate = learning_rate\n",
    "        self.iterations = iterations\n",
    "        self.weights = None\n",
    "        self.bias = 0\n",
    "\n",
    "    def fit(self, X, Y):\n",
    "        n_samples, n_features = X.shape\n",
    "        self.weights = np.zeros(n_features)\n",
    "        self.bias = 0\n",
    "\n",
    "        for _ in range(self.iterations):\n",
    "            self.update_weights(X, Y, n_samples)\n",
    "\n",
    "    def update_weights(self, X, Y, n_samples):\n",
    "        y_predicted = np.dot(X, self.weights) + self.bias\n",
    "        error = y_predicted - Y\n",
    "        dw = (1 / n_samples) * np.dot(X.T, error)\n",
    "        db = (1 / n_samples) * np.sum(error)\n",
    "        self.weights -= self.learning_rate * dw\n",
    "        self.bias -= self.learning_rate * db\n",
    "\n",
    "    def predict(self, X):\n",
    "        return np.dot(X, self.weights) + self.bias"
   ]
  },
  {
   "cell_type": "code",
   "execution_count": 3,
   "metadata": {},
   "outputs": [
    {
     "name": "stdout",
     "output_type": "stream",
     "text": [
      "Weights: [9876.11]\n",
      "Bias: 22920.49\n"
     ]
    }
   ],
   "source": [
    "# Загрузка данных\n",
    "df = pd.read_csv('data/sallarry_data.csv')\n",
    "X = df.iloc[:, :-1].values\n",
    "Y = df.iloc[:, -1].values\n",
    "\n",
    "# Обучение модели\n",
    "model = LinearRegression(learning_rate=0.01, iterations=1000)\n",
    "model.fit(X, Y)\n",
    "\n",
    "# Предсказания и вывод параметров\n",
    "Y_pred = model.predict(X)\n",
    "print('Weights:', np.round(model.weights, 2))\n",
    "print('Bias:', np.round(model.bias, 2))"
   ]
  }
 ],
 "metadata": {
  "kernelspec": {
   "display_name": "MIFI_tasks",
   "language": "python",
   "name": "python3"
  },
  "language_info": {
   "codemirror_mode": {
    "name": "ipython",
    "version": 3
   },
   "file_extension": ".py",
   "mimetype": "text/x-python",
   "name": "python",
   "nbconvert_exporter": "python",
   "pygments_lexer": "ipython3",
   "version": "3.11.10"
  }
 },
 "nbformat": 4,
 "nbformat_minor": 2
}
