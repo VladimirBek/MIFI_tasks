{
 "cells": [
  {
   "cell_type": "markdown",
   "source": [
    "Импортируем модули"
   ],
   "metadata": {
    "collapsed": false
   },
   "id": "357091365563d984"
  },
  {
   "cell_type": "code",
   "execution_count": 10,
   "id": "initial_id",
   "metadata": {
    "collapsed": true,
    "ExecuteTime": {
     "end_time": "2025-04-19T11:03:59.651941042Z",
     "start_time": "2025-04-19T11:03:59.563642968Z"
    }
   },
   "outputs": [],
   "source": [
    "import numpy as np\n",
    "import matplotlib.pyplot as plt"
   ]
  },
  {
   "cell_type": "markdown",
   "source": [
    "Запишем логистическую функцию"
   ],
   "metadata": {
    "collapsed": false
   },
   "id": "28694abf56df3eef"
  },
  {
   "cell_type": "code",
   "execution_count": 11,
   "outputs": [],
   "source": [
    "def sigmoid(z):\n",
    "    return 1 / (1 + np.exp(-z))"
   ],
   "metadata": {
    "collapsed": false,
    "ExecuteTime": {
     "end_time": "2025-04-19T11:03:59.655496065Z",
     "start_time": "2025-04-19T11:03:59.576003185Z"
    }
   },
   "id": "58b6f5720e358757"
  },
  {
   "cell_type": "markdown",
   "source": [
    "переносим шаблон и заполняем его"
   ],
   "metadata": {
    "collapsed": false
   },
   "id": "78b2831f1ea33c8"
  },
  {
   "cell_type": "code",
   "execution_count": 12,
   "outputs": [],
   "source": [
    "def log_loss(w, X, y):\n",
    "    # здесь должны быть рассчитаны параметры градиента и значение функции потерь\n",
    "    m = X.shape[0]\n",
    "    z = X @ w\n",
    "    y_hat = sigmoid(z)\n",
    "    epsilon = 1e-15\n",
    "    y_hat = np.clip(y_hat, epsilon, 1 - epsilon)\n",
    "    loss = -np.mean(y * np.log(y_hat) + (1 - y) * np.log(1 - y_hat))\n",
    "    grad = X.T @ (y_hat - y) / m\n",
    "    return loss, grad\n",
    "\n",
    "def optimize(w, X, y, n_iterations, eta):\n",
    "    # потери будем записывать в список для отображения в виде графика\n",
    "    losses = []\n",
    "    for i in range(n_iterations):\n",
    "        loss, grad = log_loss(w, X, y)\n",
    "        w -= eta * grad\n",
    "        losses.append(loss)\n",
    "    return w, losses\n",
    "\n",
    "def predict(w, X, b=0.5):\n",
    "    probs = sigmoid(X @ w)\n",
    "    return (probs >= b).astype(int)"
   ],
   "metadata": {
    "collapsed": false,
    "ExecuteTime": {
     "end_time": "2025-04-19T11:03:59.678522202Z",
     "start_time": "2025-04-19T11:03:59.585915988Z"
    }
   },
   "id": "15de8acabbda797c"
  },
  {
   "cell_type": "markdown",
   "source": [
    "Сгенерируем данные и отобразим их на графике"
   ],
   "metadata": {
    "collapsed": false
   },
   "id": "613cb428dbe498c8"
  },
  {
   "cell_type": "code",
   "execution_count": 13,
   "outputs": [],
   "source": [
    "\n",
    "np.random.seed(0)\n",
    "n_samples = 100\n",
    "X = np.random.randn(n_samples, 2)\n",
    "true_w = np.array([2, -3])\n",
    "y = (1 / (1 + np.exp(-(X @ true_w + 0.5))) > 0.5).astype(int)\n",
    "\n",
    "# Добавим bias\n",
    "X_with_bias = np.hstack([np.ones((X.shape[0], 1)), X])\n",
    "w_init = np.zeros(X_with_bias.shape[1])\n"
   ],
   "metadata": {
    "collapsed": false,
    "ExecuteTime": {
     "end_time": "2025-04-19T11:03:59.692916469Z",
     "start_time": "2025-04-19T11:03:59.595675855Z"
    }
   },
   "id": "2a894048d0428e49"
  },
  {
   "cell_type": "markdown",
   "source": [
    "Обучение модели"
   ],
   "metadata": {
    "collapsed": false
   },
   "id": "57c73cf3ac84caa3"
  },
  {
   "cell_type": "code",
   "execution_count": 14,
   "outputs": [],
   "source": [
    "w_trained, losses = optimize(w_init, X_with_bias, y, n_iterations=1000, eta=0.1)\n"
   ],
   "metadata": {
    "collapsed": false,
    "ExecuteTime": {
     "end_time": "2025-04-19T11:03:59.710629598Z",
     "start_time": "2025-04-19T11:03:59.637801250Z"
    }
   },
   "id": "e971a8f7e4aa41e8"
  },
  {
   "cell_type": "markdown",
   "source": [
    "График функции потерь"
   ],
   "metadata": {
    "collapsed": false
   },
   "id": "c13c4a51210899e5"
  },
  {
   "cell_type": "code",
   "execution_count": 15,
   "outputs": [
    {
     "data": {
      "text/plain": "<Figure size 640x480 with 1 Axes>",
      "image/png": "[encoded data removed]"
     },
     "metadata": {},
     "output_type": "display_data"
    }
   ],
   "source": [
    "plt.plot(losses)\n",
    "plt.xlabel(\"Итерация\")\n",
    "plt.ylabel(\"Log Loss\")\n",
    "plt.title(\"Снижение функции потерь\")\n",
    "plt.grid(True)\n",
    "plt.show()\n"
   ],
   "metadata": {
    "collapsed": false,
    "ExecuteTime": {
     "end_time": "2025-04-19T11:04:15.420753926Z",
     "start_time": "2025-04-19T11:04:15.292263318Z"
    }
   },
   "id": "2c7964612d0b9096"
  },
  {
   "cell_type": "markdown",
   "source": [
    "Оценка точности модели"
   ],
   "metadata": {
    "collapsed": false
   },
   "id": "7edeb7f3c4aa879c"
  },
  {
   "cell_type": "code",
   "execution_count": 16,
   "outputs": [
    {
     "name": "stdout",
     "output_type": "stream",
     "text": [
      "Точность: 1.0000\n"
     ]
    }
   ],
   "source": [
    "y_pred = predict(w_trained, X_with_bias)\n",
    "accuracy = np.mean(y_pred == y)\n",
    "print(f\"Точность: {accuracy:.4f}\")"
   ],
   "metadata": {
    "collapsed": false,
    "ExecuteTime": {
     "end_time": "2025-04-19T11:04:32.467876994Z",
     "start_time": "2025-04-19T11:04:32.460358395Z"
    }
   },
   "id": "510c427d285dd54b"
  },
  {
   "cell_type": "markdown",
   "source": [
    "Ответы на доп вопросы\n",
    "\n",
    "1. Как влияет размер шага (eta) на сходимость алгоритма? \n",
    "Слишком маленький eta замедляет обучение. Слишком большой — может привести к расходимости градиентного спуска.\n",
    "2. Что произойдет, если выбрать слишком маленькое или слишком большое количество итераций (n_iterations)? \n",
    "Мало итераций — модель не обучится. Слишком много — потеря времени, возможно переобучение.\n",
    "3. Почему логистическая регрессия подходит только для задач бинарной классификации? \n",
    "Потому что сигмоидная функция выдает вероятность только одного класса. Для многоклассовой классификации применяется softmax.\n"
   ],
   "metadata": {
    "collapsed": false
   },
   "id": "bee6cf99b8f917dc"
  }
 ],
 "metadata": {
  "kernelspec": {
   "display_name": "Python 3",
   "language": "python",
   "name": "python3"
  },
  "language_info": {
   "codemirror_mode": {
    "name": "ipython",
    "version": 2
   },
   "file_extension": ".py",
   "mimetype": "text/x-python",
   "name": "python",
   "nbconvert_exporter": "python",
   "pygments_lexer": "ipython2",
   "version": "2.7.6"
  }
 },
 "nbformat": 4,
 "nbformat_minor": 5
}
