{
 "cells": [
  {
   "cell_type": "markdown",
   "metadata": {},
   "source": [
    "Импортируем бибилотеки"
   ]
  },
  {
   "cell_type": "code",
   "execution_count": 29,
   "metadata": {},
   "outputs": [],
   "source": [
    "import numpy as np\n",
    "import pandas as pd\n",
    "from sklearn.model_selection import train_test_split\n",
    "from sklearn.feature_extraction.text import CountVectorizer\n",
    "from sklearn.linear_model import LogisticRegression\n",
    "from sklearn.metrics import accuracy_score\n"
   ]
  },
  {
   "cell_type": "markdown",
   "metadata": {},
   "source": [
    "Отделим колонки и преобразовать вероятности в бинарные величины, где 1 — токсичный комментарий, а 0 — нетоксичный комментарий."
   ]
  },
  {
   "cell_type": "code",
   "execution_count": 30,
   "metadata": {},
   "outputs": [],
   "source": [
    "np.random.seed(0)\n",
    "\n",
    "data = pd.read_csv(\"data/data.csv\")\n",
    "comments = data[\"comment_text\"]\n",
    "target = (data[\"target\"]>0.7).astype(int)"
   ]
  },
  {
   "cell_type": "markdown",
   "metadata": {},
   "source": [
    "Выведем данные, чтобы удостовериться, что все сделано верно"
   ]
  },
  {
   "cell_type": "code",
   "execution_count": 31,
   "metadata": {},
   "outputs": [
    {
     "data": {
      "text/plain": [
       "0                     haha you guys are a bunch of losers.\n",
       "1        Yet call out all Muslims for the acts of a few...\n",
       "2        This bitch is nuts. Who would read a book by a...\n",
       "3                                         You're an idiot.\n",
       "4        Who cares!? Stark trek and Star Wars fans are ...\n",
       "                               ...                        \n",
       "90897    Methinks Bishop Braxton doth protest too much ...\n",
       "90898    Sounds pretty speculative to me.  But i'm a sp...\n",
       "90899    Seriously!\\nVery proud of our 'domestic progra...\n",
       "90900    Hawaii food is mostly GMO loaded with chemical...\n",
       "90901    Eugenean:  I read hundreds and thousands of ar...\n",
       "Name: comment_text, Length: 90902, dtype: object"
      ]
     },
     "metadata": {},
     "output_type": "display_data"
    },
    {
     "data": {
      "text/plain": [
       "0        1\n",
       "1        1\n",
       "2        1\n",
       "3        1\n",
       "4        1\n",
       "        ..\n",
       "90897    0\n",
       "90898    0\n",
       "90899    0\n",
       "90900    0\n",
       "90901    0\n",
       "Name: target, Length: 90902, dtype: int64"
      ]
     },
     "metadata": {},
     "output_type": "display_data"
    }
   ],
   "source": [
    "display(comments)\n",
    "display(target)"
   ]
  },
  {
   "cell_type": "markdown",
   "metadata": {},
   "source": [
    "Теперь разделим наши данные на train и test. Пусть в тест у нас пойдет 30% данных. "
   ]
  },
  {
   "cell_type": "code",
   "execution_count": 32,
   "metadata": {},
   "outputs": [],
   "source": [
    "X_train, X_test, y_train, y_test = train_test_split(\n",
    "    comments, target, test_size=0.3, random_state=42\n",
    ")"
   ]
  },
  {
   "cell_type": "markdown",
   "metadata": {},
   "source": [
    "Преобразуем текст, который вы поделили на train и test, в числовой формат с помощью функции CountVectorizer."
   ]
  },
  {
   "cell_type": "code",
   "execution_count": 33,
   "metadata": {},
   "outputs": [
    {
     "name": "stdout",
     "output_type": "stream",
     "text": [
      "Словарь: ['00' '000' '0000000000000000000' ... '𝒕𝒉𝒆' '𝒕𝒐' '𝓒𝓲𝓿𝓲𝓵']\n",
      "Форма X_train_norm: (63631, 57878)\n",
      "Форма X_test_norm : (27271, 57878)\n"
     ]
    }
   ],
   "source": [
    "vectorizer = CountVectorizer()\n",
    "X_train_norm = vectorizer.fit_transform(X_train)\n",
    "X_test_norm = vectorizer.transform(X_test)\n",
    "print(\"Словарь:\", vectorizer.get_feature_names_out())\n",
    "print(\"Форма X_train_norm:\", X_train_norm.shape)\n",
    "print(\"Форма X_test_norm :\", X_test_norm.shape)"
   ]
  },
  {
   "cell_type": "markdown",
   "metadata": {},
   "source": [
    "в качестве модели, которая будет классифицировать нам комментарии на токсичные и нетоксичные, возьмем логистическую регрессию с параметром max_iter=2000. Для оценки модели возьмем метрику accuracy."
   ]
  },
  {
   "cell_type": "code",
   "execution_count": 34,
   "metadata": {},
   "outputs": [
    {
     "name": "stdout",
     "output_type": "stream",
     "text": [
      "Accuracy: 0.9279454365443145\n"
     ]
    }
   ],
   "source": [
    "model = LogisticRegression(max_iter=2000)\n",
    "model.fit(X_train_norm, y_train)\n",
    "\n",
    "# делаем предсказания на тесте\n",
    "y_pred = model.predict(X_test_norm)\n",
    "\n",
    "# считаем accuracy\n",
    "acc = accuracy_score(y_test, y_pred)\n",
    "print(\"Accuracy:\", acc)"
   ]
  },
  {
   "cell_type": "markdown",
   "metadata": {},
   "source": [
    "Пропишем ниже функцию, для которой на вход мы бы подавали наш комментарий, а на выход получали предсказание, насколько от 0 до 1 комментарий является токсичным."
   ]
  },
  {
   "cell_type": "code",
   "execution_count": 35,
   "metadata": {},
   "outputs": [
    {
     "name": "stdout",
     "output_type": "stream",
     "text": [
      "Вероятность токсичности: 0.120\n"
     ]
    }
   ],
   "source": [
    "def predict_toxicity(comment: str) -> float:\n",
    "    X_new = vectorizer.transform([comment])\n",
    "    proba = model.predict_proba(X_new)[0][1]\n",
    "    return proba\n",
    "\n",
    "example = \"Test comment\"\n",
    "score = predict_toxicity(example)\n",
    "print(f\"Вероятность токсичности: {score:.3f}\")"
   ]
  },
  {
   "cell_type": "markdown",
   "metadata": {},
   "source": [
    "Попробуем предсказать, токсичен ли комментарий «Apples are stupid». Потом предскажем, токсичен ли комментарий «I love apples»."
   ]
  },
  {
   "cell_type": "code",
   "execution_count": 36,
   "metadata": {},
   "outputs": [
    {
     "name": "stdout",
     "output_type": "stream",
     "text": [
      "Вероятность токсичности токсичного комментрия: 0.999\n",
      "Вероятность токсичности нетоксичного комментрия: 0.058\n"
     ]
    }
   ],
   "source": [
    "toxic_comment = 'Apples are stupid'\n",
    "non_toxic_comment = 'I love apples'\n",
    "\n",
    "score_toxic = predict_toxicity(toxic_comment)\n",
    "score_non_toxic = predict_toxicity(non_toxic_comment)\n",
    "\n",
    "print(f\"Вероятность токсичности токсичного комментрия: {score_toxic:.3f}\")\n",
    "print(f\"Вероятность токсичности нетоксичного комментрия: {score_non_toxic:.3f}\")\n"
   ]
  },
  {
   "cell_type": "markdown",
   "metadata": {},
   "source": [
    "Выведем десять слов, которые считаются наиболее токсичными, а также их коэффициенты.\n"
   ]
  },
  {
   "cell_type": "code",
   "execution_count": 37,
   "metadata": {},
   "outputs": [
    {
     "name": "stdout",
     "output_type": "stream",
     "text": [
      "stupid: 9.1988\n",
      "idiot: 8.7349\n",
      "idiots: 8.4570\n",
      "stupidity: 7.5453\n",
      "idiotic: 6.8279\n",
      "crap: 6.5746\n",
      "dumb: 6.4499\n",
      "pathetic: 6.4234\n",
      "hypocrite: 6.3885\n",
      "moron: 6.3644\n"
     ]
    }
   ],
   "source": [
    "vocab = vectorizer.vocabulary_\n",
    "coefs = model.coef_[0]\n",
    "\n",
    "word_weights = [\n",
    "    (word, coefs[vocab[word]])\n",
    "    for word in vocab.keys()\n",
    "]\n",
    "\n",
    "top10 = sorted(word_weights, key=lambda x: x[1], reverse=True)[:10]\n",
    "for word, weight in top10:\n",
    "    print(f\"{word}: {weight:.4f}\")"
   ]
  },
  {
   "cell_type": "markdown",
   "metadata": {},
   "source": [
    "Взгляните на самые токсичные слова из задания 6. Вызывают ли у вас удивление какие-нибудь из них? Есть ли слова, которых, кажется, не должно быть в списке?\n",
    "\n",
    "Ответ:\n",
    "\n",
    "На первый взгляд, лишних слов нет. Возможно стоит обратить внимание на слово \"stupidity\", иак как слово \"глупость\" само по себе не является токсичным и может быть использовано в не токсичном контекстею"
   ]
  },
  {
   "cell_type": "markdown",
   "metadata": {},
   "source": [
    "Давайте посмотрим, как ваш алгоритм классифицирует следующие комментарии:\n",
    "\n",
    "\"I have a christian friend\"\n",
    "\"I have a muslim friend\"\n",
    "\"I have a white friend\"\n",
    "\"I have a black friend\""
   ]
  },
  {
   "cell_type": "code",
   "execution_count": 38,
   "metadata": {},
   "outputs": [
    {
     "name": "stdout",
     "output_type": "stream",
     "text": [
      "Фраза \"I have a christian friend\" является токсичной с вероятностью 0.18648912185234992\n",
      "Фраза \"I have a muslim friend\" является токсичной с вероятностью 0.512137300359607\n",
      "Фраза \"I have a white friend\" является токсичной с вероятностью 0.4045665156940112\n",
      "Фраза \"I have a black friend\" является токсичной с вероятностью 0.5882626923835796\n"
     ]
    }
   ],
   "source": [
    "test_phrases = [\"I have a christian friend\",\n",
    "\"I have a muslim friend\",\n",
    "\"I have a white friend\",\n",
    "\"I have a black friend\"]\n",
    "\n",
    "for phrase in test_phrases:\n",
    "    score = predict_toxicity(phrase)\n",
    "    print(f'Фраза \"{phrase}\" является токсичной с вероятностью {score}')\n",
    "\n"
   ]
  },
  {
   "cell_type": "markdown",
   "metadata": {},
   "source": [
    "Что думаете о получившихся результатах? Есть ли у модели bias? Этичен ли он?\n",
    "\n",
    "\n",
    "Ответ:\n",
    "У модели действительно есть предвзятость по рассовому и религиозному признаку."
   ]
  },
  {
   "cell_type": "markdown",
   "metadata": {},
   "source": [
    "Вы заметили, что комментарии, относящиеся к исламу, с большей вероятностью будут токсичными, чем комментарии, относящиеся к другим религиям, поскольку онлайн-сообщество исламофобно. Какой тип предвзятости это может внести в вашу модель?\n",
    "\n",
    "Ответ:\n",
    " \n",
    "Обычно такой тип предвзятости называют предвзяточтью выборки, так как в выборке было больше токсичных комментариев с использованием конкретных расс и религий."
   ]
  },
  {
   "cell_type": "markdown",
   "metadata": {},
   "source": [
    "Подумайте о том, как можно улучшить алгоритм, чтобы сделать его более этичным. Напишите 1–2 идеи.\n",
    "\n",
    "Ответ:\n",
    "\n",
    "Во-первых, можно было бы уровновесить упоминание различных расс и религий как в комментариях, которые считаются токсичными, так и в комментриях, которые являются нетоксичными. \n",
    "\n",
    "Во-вторых, можно было бы в целом убрать примеры, которые затрагивают какие-то аспекты чувствительных тем, но тогда модель могла бы не учитывать определенный контекст, так как в выборке бы отсутствовали примеры с таким содержанием "
   ]
  }
 ],
 "metadata": {
  "kernelspec": {
   "display_name": "Python 3",
   "language": "python",
   "name": "python3"
  },
  "language_info": {
   "codemirror_mode": {
    "name": "ipython",
    "version": 3
   },
   "file_extension": ".py",
   "mimetype": "text/x-python",
   "name": "python",
   "nbconvert_exporter": "python",
   "pygments_lexer": "ipython3",
   "version": "3.11.10"
  }
 },
 "nbformat": 4,
 "nbformat_minor": 2
}
