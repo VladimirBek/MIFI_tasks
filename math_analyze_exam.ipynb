{
 "cells": [
  {
   "cell_type": "markdown",
   "metadata": {},
   "source": [
    "Задание 1.\n",
    "\n",
    "$\n",
    "а) y=e^{x \\ln (3 x+1)}\n",
    "$\n",
    "\n",
    "Внутренняя функция: \n",
    "$$\n",
    "u = x \\ln (3 x+1)\n",
    "$$\n",
    "\n",
    "$$\n",
    "u' = d/dx(x \\ln (3 x+1)) = ln (3 x+1) * d/dx(x) + x * d/dx(ln(3x+1))\n",
    "$$\n",
    "\n",
    "$$\\frac{d}{dx}(x) = 1$$\n",
    "\n",
    "$$ \\frac{d}{dx}(ln(3x+1)) = 3 / (3x + 1)$$\n",
    "\n",
    "$$ u' = ln (3 x+1) * 1 + x * 3 / (3x + 1) =  ln (3 x+1) + 3x / (3x + 1)$$\n",
    "\n",
    "Таким образом при $y' = e^u * u'$:\n",
    "\n",
    "$$y' = e^{x \\ln(3x + 1)} * ( \\ln(3x + 1) + 3x / 3x + 1)$$ \n",
    "\n",
    "\n",
    "\n",
    "$б) y=e^{x^{2}} \\sqrt{x^{3}+4 x^{2}-7}$\n",
    "\n",
    "Также будем использовать правило производной произведения и правило производной сложной функции.\n",
    "\n",
    "Выделим внутренние функции:\n",
    "\n",
    "$u = e^{x^{2}}$\n",
    "\n",
    "$\\quad v = \\sqrt{x^{3} + 4x^{2} - 7}$\n",
    "\n",
    "Найдем производные \\( u' \\) и \\( v' \\):\n",
    "\n",
    "$$\n",
    "u' = e^{x^{2}} \\cdot \\frac{d}{dx}(x^{2}) = e^{x^{2}} \\cdot 2x\n",
    "$$\n",
    "\n",
    "$$\n",
    "v' = \\frac{1}{2\\sqrt{x^{3} + 4x^{2} - 7}} \\cdot \\frac{d}{dx}(x^{3} + 4x^{2} - 7) = \\frac{3x^{2} + 8x}{2\\sqrt{x^{3} + 4x^{2} - 7}}\n",
    "$$\n",
    "\n",
    "\n",
    "$$y' = u'v + uv'$$\n",
    "\n",
    "\n",
    "$$\n",
    "y' = e^{x^{2}} \\cdot 2x \\cdot \\sqrt{x^{3} + 4x^{2} - 7} + e^{x^{2}} \\cdot \\frac{3x^{2} + 8x}{2\\sqrt{x^{3} + 4x^{2} - 7}} = e^{x^{2}} \\left( 2x \\sqrt{x^{3} + 4x^{2} - 7} + \\frac{3x^{2} + 8x}{2\\sqrt{x^{3} + 4x^{2} - 7}} \\right)\n",
    "\n",
    "$$\n",
    "\n",
    "$в) y = \\frac{x\\sqrt{1 - x^{2}}}{1 + x^{2}}$\n",
    "\n",
    "Здесь будем использовать правило производной частного и правило производной сложной функции.\n",
    "\n",
    "Выделим внутренние функции:\n",
    "\n",
    "$u = x\\sqrt{1 - x^{2}}$\n",
    "\n",
    "$\\quad v = 1 + x^{2}$\n",
    "\n",
    "$\n",
    "u' = \\frac{d}{dx}\\left(x\\sqrt{1 - x^{2}}\\right) = \\sqrt{1 - x^{2}} + x \\cdot \\frac{d}{dx}\\left(\\sqrt{1 - x^{2}}\\right)\n",
    "$\n",
    "\n",
    "$\n",
    "\\frac{d}{dx}\\left(\\sqrt{1 - x^{2}}\\right) = \\frac{1}{2\\sqrt{1 - x^{2}}} \\cdot (-2x) = \\frac{-x}{\\sqrt{1 - x^{2}}}\n",
    "$\n",
    "\n",
    "$\n",
    "u' = \\sqrt{1 - x^{2}} + x \\cdot \\left(\\frac{-x}{\\sqrt{1 - x^{2}}}\\right) = \\sqrt{1 - x^{2}} - \\frac{x^{2}}{\\sqrt{1 - x^{2}}}\n",
    "$\n",
    "\n",
    "$\n",
    "u' = \\frac{(1 - x^{2}) - x^{2}}{\\sqrt{1 - x^{2}}} = \\frac{1 - 2x^{2}}{\\sqrt{1 - x^{2}}}\n",
    "$\n",
    "\n",
    "$\n",
    "v' = \\frac{d}{dx}(1 + x^{2}) = 2x\n",
    "$\n",
    "\n",
    "$$\n",
    "y' = \\frac{u'v - uv'}{v^{2}}\n",
    "$$\n",
    "\n",
    "\n",
    "$$\n",
    "y' = \\frac{\\left(\\frac{1 - 2x^{2}}{\\sqrt{1 - x^{2}}}\\right)(1 + x^{2}) - x\\sqrt{1 - x^{2}} \\cdot 2x}{(1 + x^{2})^{2}} = \\frac{\\frac{(1 - 2x^{2})(1 + x^{2})}{\\sqrt{1 - x^{2}}} - 2x^{2}\\sqrt{1 - x^{2}}}{(1 + x^{2})^{2}} = \\frac{(1 - 2x^{2})(1 + x^{2}) - 2x^{2}(1 - x^{2})}{\\sqrt{1 - x^{2}} \\cdot (1 + x^{2})^{2}} = \\frac{1 + x^{2} - 2x^{2} - 2x^{4} - 2x^{2} + 2x^{4}}{\\sqrt{1 - x^{2}} \\cdot (1 + x^{2})^{2}} = \\frac{1 - 3x^{2}}{\\sqrt{1 - x^{2}} \\cdot (1 + x^{2})^{2}}\n",
    "$$"
   ]
  },
  {
   "cell_type": "markdown",
   "metadata": {},
   "source": [
    "Задание 2.\n",
    "\n",
    "Для выполнения задания необходимо найти критические точки и определить характер экстремумов, используя вторые частные производные.\n",
    "\n",
    "Частные производные:\n",
    "\n",
    "x: $\\frac{\\partial u}{\\partial x} = 9x^2 + 6y$\n",
    "\n",
    "y: $\\frac{\\partial u}{\\partial y} = 2y + 6x$\n",
    "\n",
    "z: $\\frac{\\partial u}{\\partial z} = 2z - 2$\n",
    "\n",
    "Находим критические точки путем приравнивая частных производных к 0:\n",
    "\n",
    "x: $9x^2 + 6y = 0 \\quad \\Rightarrow \\quad 3x^2 + 2y = 0 \\quad$\n",
    "\n",
    "y: $2y + 6x = 0 \\quad \\Rightarrow \\quad y = -3x \\quad$\n",
    "\n",
    "z: $2z - 2 = 0 \\quad \\Rightarrow \\quad z = 1$\n",
    "\n",
    "Подставляем результат приравнивая y в результат x:\n",
    "\n",
    "$ 3x^2 + 2(-3x) = 0 \\quad \\Rightarrow \\quad 3x^2 - 6x = 0 \\quad \\Rightarrow \\quad 3x(x - 2) = 0$\n",
    "\n",
    "$x = 0 $ \n",
    "\n",
    "$y = -3(0) = 0$\n",
    "\n",
    "\n",
    "$x = 2$\n",
    "\n",
    "$y = -3(2) = -6$\n",
    "\n",
    "Таким образом:\n",
    "\n",
    "$ (x, y, z) = (0, 0, 1) \\quad \\text{и} \\quad (2, -6, 1)$\n",
    "\n",
    "\n",
    "Используем вторые частные производные, чтобы определить характер экстремумов:\n",
    "\n",
    "Вторые частные производные:\n",
    "\n",
    "$\\frac{\\partial^2 u}{\\partial x^2} = 18x, \\quad \\frac{\\partial^2 u}{\\partial y^2} = 2, \\quad \\frac{\\partial^2 u}{\\partial z^2} = 2$\n",
    "\n",
    "$\\frac{\\partial^2 u}{\\partial x \\partial y} = 6, \\quad \\frac{\\partial^2 u}{\\partial x \\partial z} = 0, \\quad \\frac{\\partial^2 u}{\\partial y \\partial z} = 0$\n",
    "\n",
    "Матрица Гессе:\n",
    "\n",
    "$\n",
    "H = \\begin{pmatrix}\n",
    "     18x & 6 & 0 \\\\\n",
    "     6 & 2 & 0 \\\\\n",
    "     0 & 0 & 2\n",
    "     \\end{pmatrix}\n",
    "$\n",
    "\n",
    "Для точки (0, 0, 1):\n",
    "\n",
    "$\n",
    " H = \\begin{pmatrix}\n",
    "     0 & 6 & 0 \\\\\n",
    "     6 & 2 & 0 \\\\\n",
    "     0 & 0 & 2\n",
    "     \\end{pmatrix}\n",
    "$\n",
    "\n",
    "Определители главных миноров:\n",
    "\n",
    "$\\Delta_1 = 0, \\quad \\Delta_2 = \\begin{vmatrix} 0 & 6 \\\\ 6 & 2 \\end{vmatrix} = -36, \\quad \\Delta_3 = \\det(H) = -72$\n",
    "\n",
    "\n",
    "Так как определители не все положительные, точка (0, 0, 1) не является точкой минимума или максимума.\n",
    "\n",
    "Для точки (2, -6, 1):\n",
    "$\n",
    " H = \\begin{pmatrix}\n",
    "     36 & 6 & 0 \\\\\n",
    "     6 & 2 & 0 \\\\\n",
    "     0 & 0 & 2\n",
    "     \\end{pmatrix}\n",
    "$\n",
    "\n",
    "Определители главных миноров:\n",
    "\n",
    "$\n",
    " \\Delta_1 = 36, \\quad \\Delta_2 = \\begin{vmatrix} 36 & 6 \\\\ 6 & 2 \\end{vmatrix} = 36 \\cdot 2 - 6 \\cdot 6 = 72 - 36 = 36, \\quad \\Delta_3 = \\det(H) = 36 \\cdot 2 \\cdot 2 = 144\n",
    "$\n",
    "\n",
    "Таким образом:\n",
    "\n",
    "(0, 0, 1) - не является точкой экстремума\n",
    "\n",
    "(2, -6, 1) - является точкой локального минимума\n",
    "\n"
   ]
  },
  {
   "cell_type": "markdown",
   "metadata": {},
   "source": [
    "Задание 3.\n",
    "\n",
    "Для нахождения условного экстремума функции $z=e^{-x-y}$ при $\\frac{x^{2}}{4}+y^{2}=5$ исполузем метод множителей Лагранжа.\n",
    "\n",
    "Функция Лагранжа:\n",
    "\n",
    "$\\mathcal{L}(x, y, \\lambda) = e^{-x - y} + \\lambda \\left(5 - \\frac{x^2}{4} - y^2\\right)$\n",
    "\n",
    "Находим частные производные:\n",
    "\n",
    "x: $\\frac{\\partial \\mathcal{L}}{\\partial x} = -e^{-x - y} - \\lambda \\cdot \\frac{x}{2} = 0 \\quad$\n",
    "\n",
    "y: $\\frac{\\partial \\mathcal{L}}{\\partial y} = -e^{-x - y} - \\lambda \\cdot 2y = 0 \\quad$\n",
    "\n",
    "$\\lambda$: $\\frac{\\partial \\mathcal{L}}{\\partial \\lambda} = 5 - \\frac{x^2}{4} - y^2 = 0 \\quad$\n",
    "\n",
    "\n",
    "Выразим Лямбду из уравнений по x и y:\n",
    "\n",
    "$\\lambda = -\\frac{2e^{-x - y}}{x}$\n",
    "\n",
    "$\\lambda = -\\frac{e^{-x - y}}{2y}$\n",
    "\n",
    "Приравниваем выражения для Лямбды:\n",
    "\n",
    "$-\\frac{2e^{-x - y}}{x} = -\\frac{e^{-x - y}}{2y}$\n",
    "\n",
    "$\\frac{2}{x} = \\frac{1}{2y}$\n",
    "\n",
    "$4y = x \\quad$\n",
    "\n",
    "Полученное уроавнение подставляем в уравнение по Лямбде:\n",
    "\n",
    "$5 - \\frac{(4y)^2}{4} - y^2 = 0$\n",
    "\n",
    "$5 - 4y^2 - y^2 = 0$\n",
    "\n",
    "$5 - 5y^2 = 0$\n",
    "\n",
    "$y^2 = 1 \\quad \\Rightarrow \\quad y = 1 \\quad \\text{или} \\quad y = -1$\n",
    "\n",
    "\n",
    "y=1: $x = 4 \\cdot 1 = 4$\n",
    "\n",
    "y=-1: $x = 4 \\cdot (-1) = -4$\n",
    "\n",
    "Критические точки: \n",
    "\n",
    "$$(x, y) = (4, 1) \\quad \\text{и} \\quad (-4, -1)$$\n",
    "\n",
    "\n",
    "Значения функции z в этих точках:\n",
    "\n",
    "(4, 1): $z = e^{-4 - 1} = e^{-5}$\n",
    "\n",
    "(-4, -1): $z = e^{4 + 1} = e^{5}$\n",
    "\n",
    "Таким образом:\n",
    "\n",
    "Условный минимум функции z равен $e^{-5}$ и достигается в точке (4, 1)\n",
    "\n",
    "Условный максимум функции z равен $e^{5}$ и достигается в точке (-4, -1)"
   ]
  },
  {
   "cell_type": "markdown",
   "metadata": {},
   "source": [
    "Задание 4."
   ]
  },
  {
   "cell_type": "code",
   "execution_count": 21,
   "metadata": {},
   "outputs": [],
   "source": [
    "# Импортируем необходимые бибилиотеки\n",
    "import pandas as pd\n",
    "from sklearn.model_selection import train_test_split\n",
    "from sklearn.preprocessing import LabelEncoder\n",
    "from sklearn.naive_bayes import GaussianNB\n",
    "from sklearn.metrics import accuracy_score, classification_report, confusion_matrix\n",
    "import sympy as sp\n",
    "import math"
   ]
  },
  {
   "cell_type": "code",
   "execution_count": 22,
   "metadata": {},
   "outputs": [
    {
     "data": {
      "text/html": [
       "<div>\n",
       "<style scoped>\n",
       "    .dataframe tbody tr th:only-of-type {\n",
       "        vertical-align: middle;\n",
       "    }\n",
       "\n",
       "    .dataframe tbody tr th {\n",
       "        vertical-align: top;\n",
       "    }\n",
       "\n",
       "    .dataframe thead th {\n",
       "        text-align: right;\n",
       "    }\n",
       "</style>\n",
       "<table border=\"1\" class=\"dataframe\">\n",
       "  <thead>\n",
       "    <tr style=\"text-align: right;\">\n",
       "      <th></th>\n",
       "      <th>Test</th>\n",
       "      <th>Age_Group</th>\n",
       "      <th>Status</th>\n",
       "    </tr>\n",
       "  </thead>\n",
       "  <tbody>\n",
       "    <tr>\n",
       "      <th>0</th>\n",
       "      <td>Positive</td>\n",
       "      <td>Young</td>\n",
       "      <td>Infected</td>\n",
       "    </tr>\n",
       "    <tr>\n",
       "      <th>1</th>\n",
       "      <td>Positive</td>\n",
       "      <td>Young</td>\n",
       "      <td>Infected</td>\n",
       "    </tr>\n",
       "    <tr>\n",
       "      <th>2</th>\n",
       "      <td>Positive</td>\n",
       "      <td>Young</td>\n",
       "      <td>Infected</td>\n",
       "    </tr>\n",
       "    <tr>\n",
       "      <th>3</th>\n",
       "      <td>Positive</td>\n",
       "      <td>Old</td>\n",
       "      <td>Infected</td>\n",
       "    </tr>\n",
       "    <tr>\n",
       "      <th>4</th>\n",
       "      <td>Positive</td>\n",
       "      <td>Old</td>\n",
       "      <td>Infected</td>\n",
       "    </tr>\n",
       "  </tbody>\n",
       "</table>\n",
       "</div>"
      ],
      "text/plain": [
       "       Test Age_Group    Status\n",
       "0  Positive     Young  Infected\n",
       "1  Positive     Young  Infected\n",
       "2  Positive     Young  Infected\n",
       "3  Positive       Old  Infected\n",
       "4  Positive       Old  Infected"
      ]
     },
     "execution_count": 22,
     "metadata": {},
     "output_type": "execute_result"
    }
   ],
   "source": [
    "# Датасет должен находиться в папке data в корне проекта\n",
    "df = pd.read_csv(\n",
    "    \"data/asset-v1_SkillFactory+MIFIML-1sem+2024+type@asset+block@sf_exam.csv\"\n",
    ")\n",
    "df.head()"
   ]
  },
  {
   "cell_type": "code",
   "execution_count": 23,
   "metadata": {},
   "outputs": [
    {
     "name": "stdout",
     "output_type": "stream",
     "text": [
      "Accuracy: 0.67\n",
      "\n",
      "Матрица ошибок:\n"
     ]
    },
    {
     "data": {
      "text/html": [
       "<div>\n",
       "<style scoped>\n",
       "    .dataframe tbody tr th:only-of-type {\n",
       "        vertical-align: middle;\n",
       "    }\n",
       "\n",
       "    .dataframe tbody tr th {\n",
       "        vertical-align: top;\n",
       "    }\n",
       "\n",
       "    .dataframe thead th {\n",
       "        text-align: right;\n",
       "    }\n",
       "</style>\n",
       "<table border=\"1\" class=\"dataframe\">\n",
       "  <thead>\n",
       "    <tr style=\"text-align: right;\">\n",
       "      <th></th>\n",
       "      <th>0</th>\n",
       "      <th>1</th>\n",
       "    </tr>\n",
       "  </thead>\n",
       "  <tbody>\n",
       "    <tr>\n",
       "      <th>0</th>\n",
       "      <td>18</td>\n",
       "      <td>25</td>\n",
       "    </tr>\n",
       "    <tr>\n",
       "      <th>1</th>\n",
       "      <td>3</td>\n",
       "      <td>38</td>\n",
       "    </tr>\n",
       "  </tbody>\n",
       "</table>\n",
       "</div>"
      ],
      "text/plain": [
       "    0   1\n",
       "0  18  25\n",
       "1   3  38"
      ]
     },
     "metadata": {},
     "output_type": "display_data"
    },
    {
     "name": "stdout",
     "output_type": "stream",
     "text": [
      "Classification Report:\n",
      "              precision    recall  f1-score   support\n",
      "\n",
      "           0       0.86      0.42      0.56        43\n",
      "           1       0.60      0.93      0.73        41\n",
      "\n",
      "    accuracy                           0.67        84\n",
      "   macro avg       0.73      0.67      0.65        84\n",
      "weighted avg       0.73      0.67      0.64        84\n",
      "\n"
     ]
    }
   ],
   "source": [
    "# Преобразование категориальных переменных в числовые\n",
    "df['Age_Group'] = df['Age_Group'].astype('category').cat.codes\n",
    "df['Test'] = df['Test'].astype('category').cat.codes\n",
    "df['Status'] = df['Status'].astype('category').cat.codes\n",
    "\n",
    "X = df[[\"Age_Group\", \"Test\"]]\n",
    "y = df[\"Status\"]\n",
    "X_train, X_test, y_train, y_test = train_test_split(X, y, test_size=0.3, random_state=42)\n",
    "\n",
    "# Обучение модели Наивного Байеса\n",
    "model = GaussianNB()\n",
    "model.fit(X_train, y_train)\n",
    "\n",
    "y_pred = model.predict(X_test)\n",
    "\n",
    "accuracy = accuracy_score(y_test, y_pred)\n",
    "print(f\"Accuracy: {accuracy:.2f}\\n\")\n",
    "\n",
    "print(\"Матрица ошибок:\")\n",
    "display(pd.DataFrame(confusion_matrix(y_test, y_pred)))\n",
    "\n",
    "# классификационные метрики: precision, recall, f1-score\n",
    "print(\"Classification Report:\")\n",
    "print(classification_report(y_test, y_pred))"
   ]
  },
  {
   "cell_type": "markdown",
   "metadata": {},
   "source": [
    "Задание 5"
   ]
  },
  {
   "cell_type": "code",
   "execution_count": 24,
   "metadata": {},
   "outputs": [
    {
     "name": "stdout",
     "output_type": "stream",
     "text": [
      "Точка минимума: 1.31013560314906\n",
      "Значение функции в точке минимума: -3.73392797551511\n"
     ]
    }
   ],
   "source": [
    "# Определяем символьную переменную и функцию\n",
    "x = sp.symbols('x')\n",
    "f = x**4 + 3*x**3 - 12*x**2 + 7*x - 2\n",
    "\n",
    "# Вычисляем первую и вторую производные\n",
    "f_prime = sp.diff(f, x)\n",
    "f_double_prime = sp.diff(f_prime, x)\n",
    "\n",
    "# Определяем начальную точку и точность\n",
    "x0 = 10\n",
    "tolerance = 0.0001\n",
    "\n",
    "# Метод Ньютона\n",
    "def newton_method(f, f_prime, f_double_prime, x0, tolerance):\n",
    "    x_n = x0\n",
    "    while True:\n",
    "        f_prime_val = f_prime.subs(x, x_n)\n",
    "        f_double_prime_val = f_double_prime.subs(x, x_n)\n",
    "        x_n1 = x_n - f_prime_val / f_double_prime_val\n",
    "        if abs(x_n1 - x_n) < tolerance:\n",
    "            return x_n1\n",
    "        x_n = x_n1\n",
    "\n",
    "# Находим точку минимума\n",
    "min_point = newton_method(f, f_prime, f_double_prime, x0, tolerance)\n",
    "min_value = f.subs(x, min_point)\n",
    "\n",
    "# Выводим результат\n",
    "print(f\"Точка минимума: {min_point.evalf()}\")\n",
    "print(f\"Значение функции в точке минимума: {min_value.evalf()}\")"
   ]
  },
  {
   "cell_type": "markdown",
   "metadata": {},
   "source": [
    "Задание 6\n"
   ]
  },
  {
   "cell_type": "code",
   "execution_count": 25,
   "metadata": {},
   "outputs": [
    {
     "data": {
      "text/plain": [
       "0.04999999999999993"
      ]
     },
     "execution_count": 25,
     "metadata": {},
     "output_type": "execute_result"
    }
   ],
   "source": [
    "#Найдите вероятность получения 7 спам-писем.\n",
    "\n",
    "probabilities = {\n",
    "    0: 0.1,\n",
    "    1: 0.3,\n",
    "    2: 0.1,\n",
    "    3: 0.25,\n",
    "    4: 0.05,\n",
    "    5: 0.05,\n",
    "    6: 0.1,\n",
    "    7: None \n",
    "}\n",
    "sum_p = sum(probabilities[i] for i in probabilities if probabilities[i] is not None)\n",
    "\n",
    "probabilities[7] = 1 - sum_p\n",
    "\n",
    "probabilities[7]"
   ]
  },
  {
   "cell_type": "code",
   "execution_count": 26,
   "metadata": {},
   "outputs": [
    {
     "name": "stdout",
     "output_type": "stream",
     "text": [
      "Математическое ожидание: 2.6499999999999995\n"
     ]
    }
   ],
   "source": [
    "#Найдите математическое ожидание для количества полученных писем.\n",
    "\n",
    "expected_value = sum(x * probabilities[x] for x in probabilities)\n",
    "print(f\"Математическое ожидание: {expected_value}\")"
   ]
  },
  {
   "cell_type": "code",
   "execution_count": 27,
   "metadata": {},
   "outputs": [
    {
     "name": "stdout",
     "output_type": "stream",
     "text": [
      "Дисперсия: 4.03\n"
     ]
    }
   ],
   "source": [
    "#Найдите дисперсию для количества полученных писем. Ответ округлите до сотых.\n",
    "\n",
    "expected_value_squared = sum(x**2 * probabilities[x] for x in probabilities)\n",
    "variance = expected_value_squared - expected_value**2\n",
    "\n",
    "print(f\"Дисперсия: {round(variance, 2)}\")"
   ]
  },
  {
   "cell_type": "markdown",
   "metadata": {},
   "source": [
    "Задание 7"
   ]
  },
  {
   "cell_type": "code",
   "execution_count": 30,
   "metadata": {},
   "outputs": [
    {
     "name": "stdout",
     "output_type": "stream",
     "text": [
      "Ответ:\n"
     ]
    },
    {
     "data": {
      "text/plain": [
       "0.541"
      ]
     },
     "execution_count": 30,
     "metadata": {},
     "output_type": "execute_result"
    }
   ],
   "source": [
    "lambda_avg = 2\n",
    "\n",
    "prob_2 = (lambda_avg**2 * math.exp(-lambda_avg)) / math.factorial(2)\n",
    "prob_3 = (lambda_avg**3 * math.exp(-lambda_avg)) / math.factorial(3)\n",
    "prob_4 = (lambda_avg**4 * math.exp(-lambda_avg)) / math.factorial(4)\n",
    "\n",
    "total_probability = round(prob_2 + prob_3 + prob_4, 3)\n",
    "\n",
    "\n",
    "print('Ответ:')\n",
    "total_probability"
   ]
  }
 ],
 "metadata": {
  "kernelspec": {
   "display_name": "Python 3",
   "language": "python",
   "name": "python3"
  },
  "language_info": {
   "codemirror_mode": {
    "name": "ipython",
    "version": 3
   },
   "file_extension": ".py",
   "mimetype": "text/x-python",
   "name": "python",
   "nbconvert_exporter": "python",
   "pygments_lexer": "ipython3",
   "version": "3.11.10"
  }
 },
 "nbformat": 4,
 "nbformat_minor": 2
}
