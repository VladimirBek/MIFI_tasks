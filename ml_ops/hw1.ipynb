{
 "cells": [
  {
   "cell_type": "markdown",
   "metadata": {},
   "source": [
    "Испортируем библиотеки"
   ]
  },
  {
   "cell_type": "code",
   "execution_count": 21,
   "metadata": {},
   "outputs": [],
   "source": [
    "import pandas as pd\n",
    "import numpy as np\n",
    "from scipy import stats\n",
    "from math import sqrt"
   ]
  },
  {
   "cell_type": "markdown",
   "metadata": {},
   "source": [
    "Загружаем датасет и смотрим на первые строчки в данных"
   ]
  },
  {
   "cell_type": "code",
   "execution_count": 22,
   "metadata": {},
   "outputs": [
    {
     "data": {
      "text/html": [
       "<div>\n",
       "<style scoped>\n",
       "    .dataframe tbody tr th:only-of-type {\n",
       "        vertical-align: middle;\n",
       "    }\n",
       "\n",
       "    .dataframe tbody tr th {\n",
       "        vertical-align: top;\n",
       "    }\n",
       "\n",
       "    .dataframe thead th {\n",
       "        text-align: right;\n",
       "    }\n",
       "</style>\n",
       "<table border=\"1\" class=\"dataframe\">\n",
       "  <thead>\n",
       "    <tr style=\"text-align: right;\">\n",
       "      <th></th>\n",
       "      <th>user id</th>\n",
       "      <th>test group</th>\n",
       "      <th>converted</th>\n",
       "      <th>total ads</th>\n",
       "      <th>most ads day</th>\n",
       "      <th>most ads hour</th>\n",
       "    </tr>\n",
       "  </thead>\n",
       "  <tbody>\n",
       "    <tr>\n",
       "      <th>0</th>\n",
       "      <td>1069124</td>\n",
       "      <td>ad</td>\n",
       "      <td>False</td>\n",
       "      <td>130</td>\n",
       "      <td>Monday</td>\n",
       "      <td>20</td>\n",
       "    </tr>\n",
       "    <tr>\n",
       "      <th>1</th>\n",
       "      <td>1119715</td>\n",
       "      <td>ad</td>\n",
       "      <td>False</td>\n",
       "      <td>93</td>\n",
       "      <td>Tuesday</td>\n",
       "      <td>22</td>\n",
       "    </tr>\n",
       "    <tr>\n",
       "      <th>2</th>\n",
       "      <td>1144181</td>\n",
       "      <td>ad</td>\n",
       "      <td>False</td>\n",
       "      <td>21</td>\n",
       "      <td>Tuesday</td>\n",
       "      <td>18</td>\n",
       "    </tr>\n",
       "    <tr>\n",
       "      <th>3</th>\n",
       "      <td>1435133</td>\n",
       "      <td>ad</td>\n",
       "      <td>False</td>\n",
       "      <td>355</td>\n",
       "      <td>Tuesday</td>\n",
       "      <td>10</td>\n",
       "    </tr>\n",
       "    <tr>\n",
       "      <th>4</th>\n",
       "      <td>1015700</td>\n",
       "      <td>ad</td>\n",
       "      <td>False</td>\n",
       "      <td>276</td>\n",
       "      <td>Friday</td>\n",
       "      <td>14</td>\n",
       "    </tr>\n",
       "  </tbody>\n",
       "</table>\n",
       "</div>"
      ],
      "text/plain": [
       "   user id test group  converted  total ads most ads day  most ads hour\n",
       "0  1069124         ad      False        130       Monday             20\n",
       "1  1119715         ad      False         93      Tuesday             22\n",
       "2  1144181         ad      False         21      Tuesday             18\n",
       "3  1435133         ad      False        355      Tuesday             10\n",
       "4  1015700         ad      False        276       Friday             14"
      ]
     },
     "execution_count": 22,
     "metadata": {},
     "output_type": "execute_result"
    }
   ],
   "source": [
    "df = pd.read_csv('data/marketing_AB.csv', index_col=0)\n",
    "df.head()"
   ]
  },
  {
   "cell_type": "markdown",
   "metadata": {},
   "source": [
    "Смотрим структуру датасета, наличие пропусков"
   ]
  },
  {
   "cell_type": "code",
   "execution_count": 23,
   "metadata": {},
   "outputs": [
    {
     "name": "stdout",
     "output_type": "stream",
     "text": [
      "<class 'pandas.core.frame.DataFrame'>\n",
      "Index: 588101 entries, 0 to 588100\n",
      "Data columns (total 6 columns):\n",
      " #   Column         Non-Null Count   Dtype \n",
      "---  ------         --------------   ----- \n",
      " 0   user id        588101 non-null  int64 \n",
      " 1   test group     588101 non-null  object\n",
      " 2   converted      588101 non-null  bool  \n",
      " 3   total ads      588101 non-null  int64 \n",
      " 4   most ads day   588101 non-null  object\n",
      " 5   most ads hour  588101 non-null  int64 \n",
      "dtypes: bool(1), int64(3), object(2)\n",
      "memory usage: 27.5+ MB\n"
     ]
    },
    {
     "data": {
      "text/plain": [
       "None"
      ]
     },
     "metadata": {},
     "output_type": "display_data"
    },
    {
     "data": {
      "text/html": [
       "<div>\n",
       "<style scoped>\n",
       "    .dataframe tbody tr th:only-of-type {\n",
       "        vertical-align: middle;\n",
       "    }\n",
       "\n",
       "    .dataframe tbody tr th {\n",
       "        vertical-align: top;\n",
       "    }\n",
       "\n",
       "    .dataframe thead th {\n",
       "        text-align: right;\n",
       "    }\n",
       "</style>\n",
       "<table border=\"1\" class=\"dataframe\">\n",
       "  <thead>\n",
       "    <tr style=\"text-align: right;\">\n",
       "      <th></th>\n",
       "      <th>user id</th>\n",
       "      <th>total ads</th>\n",
       "      <th>most ads hour</th>\n",
       "    </tr>\n",
       "  </thead>\n",
       "  <tbody>\n",
       "    <tr>\n",
       "      <th>count</th>\n",
       "      <td>5.881010e+05</td>\n",
       "      <td>588101.000000</td>\n",
       "      <td>588101.000000</td>\n",
       "    </tr>\n",
       "    <tr>\n",
       "      <th>mean</th>\n",
       "      <td>1.310692e+06</td>\n",
       "      <td>24.820876</td>\n",
       "      <td>14.469061</td>\n",
       "    </tr>\n",
       "    <tr>\n",
       "      <th>std</th>\n",
       "      <td>2.022260e+05</td>\n",
       "      <td>43.715181</td>\n",
       "      <td>4.834634</td>\n",
       "    </tr>\n",
       "    <tr>\n",
       "      <th>min</th>\n",
       "      <td>9.000000e+05</td>\n",
       "      <td>1.000000</td>\n",
       "      <td>0.000000</td>\n",
       "    </tr>\n",
       "    <tr>\n",
       "      <th>25%</th>\n",
       "      <td>1.143190e+06</td>\n",
       "      <td>4.000000</td>\n",
       "      <td>11.000000</td>\n",
       "    </tr>\n",
       "    <tr>\n",
       "      <th>50%</th>\n",
       "      <td>1.313725e+06</td>\n",
       "      <td>13.000000</td>\n",
       "      <td>14.000000</td>\n",
       "    </tr>\n",
       "    <tr>\n",
       "      <th>75%</th>\n",
       "      <td>1.484088e+06</td>\n",
       "      <td>27.000000</td>\n",
       "      <td>18.000000</td>\n",
       "    </tr>\n",
       "    <tr>\n",
       "      <th>max</th>\n",
       "      <td>1.654483e+06</td>\n",
       "      <td>2065.000000</td>\n",
       "      <td>23.000000</td>\n",
       "    </tr>\n",
       "  </tbody>\n",
       "</table>\n",
       "</div>"
      ],
      "text/plain": [
       "            user id      total ads  most ads hour\n",
       "count  5.881010e+05  588101.000000  588101.000000\n",
       "mean   1.310692e+06      24.820876      14.469061\n",
       "std    2.022260e+05      43.715181       4.834634\n",
       "min    9.000000e+05       1.000000       0.000000\n",
       "25%    1.143190e+06       4.000000      11.000000\n",
       "50%    1.313725e+06      13.000000      14.000000\n",
       "75%    1.484088e+06      27.000000      18.000000\n",
       "max    1.654483e+06    2065.000000      23.000000"
      ]
     },
     "metadata": {},
     "output_type": "display_data"
    }
   ],
   "source": [
    "display(df.info())\n",
    "display(df.describe())"
   ]
  },
  {
   "cell_type": "markdown",
   "metadata": {},
   "source": [
    "Преобразуем столбцы object в category, для оптимизации работы"
   ]
  },
  {
   "cell_type": "code",
   "execution_count": 24,
   "metadata": {},
   "outputs": [
    {
     "name": "stdout",
     "output_type": "stream",
     "text": [
      "<class 'pandas.core.frame.DataFrame'>\n",
      "Index: 588101 entries, 0 to 588100\n",
      "Data columns (total 6 columns):\n",
      " #   Column         Non-Null Count   Dtype   \n",
      "---  ------         --------------   -----   \n",
      " 0   user id        588101 non-null  int64   \n",
      " 1   test group     588101 non-null  category\n",
      " 2   converted      588101 non-null  bool    \n",
      " 3   total ads      588101 non-null  int64   \n",
      " 4   most ads day   588101 non-null  category\n",
      " 5   most ads hour  588101 non-null  int64   \n",
      "dtypes: bool(1), category(2), int64(3)\n",
      "memory usage: 19.6 MB\n"
     ]
    }
   ],
   "source": [
    "df = df.astype({\n",
    "    'user id': 'int64',\n",
    "    'test group': 'category',\n",
    "    'converted': 'bool',\n",
    "    'total ads': 'int64',\n",
    "    'most ads day': 'category',\n",
    "    'most ads hour': 'int64'\n",
    "})\n",
    "df.info()"
   ]
  },
  {
   "cell_type": "markdown",
   "metadata": {},
   "source": [
    "Проверяем есть ли пользователи, которые в процессе A/Bтеста попали в обе группы. "
   ]
  },
  {
   "cell_type": "code",
   "execution_count": 25,
   "metadata": {},
   "outputs": [
    {
     "name": "stdout",
     "output_type": "stream",
     "text": [
      "\n",
      "Пользователи, попавшие в обе группы: []\n"
     ]
    }
   ],
   "source": [
    "group_counts = df.groupby('user id')['test group'].nunique()\n",
    "ambiguous_users = group_counts[group_counts > 1].index.tolist()\n",
    "print(\"\\nПользователи, попавшие в обе группы:\", ambiguous_users)\n"
   ]
  },
  {
   "cell_type": "markdown",
   "metadata": {},
   "source": [
    "Расчет вспомогательных показателей для контрольной и тестовой групп"
   ]
  },
  {
   "cell_type": "code",
   "execution_count": 26,
   "metadata": {},
   "outputs": [
    {
     "name": "stderr",
     "output_type": "stream",
     "text": [
      "/tmp/ipykernel_5663/936946756.py:1: FutureWarning: The default of observed=False is deprecated and will be changed to True in a future version of pandas. Pass observed=False to retain current behavior or observed=True to adopt the future default and silence this warning.\n",
      "  grouped_count = df.groupby('test group').agg(\n"
     ]
    },
    {
     "data": {
      "text/html": [
       "<div>\n",
       "<style scoped>\n",
       "    .dataframe tbody tr th:only-of-type {\n",
       "        vertical-align: middle;\n",
       "    }\n",
       "\n",
       "    .dataframe tbody tr th {\n",
       "        vertical-align: top;\n",
       "    }\n",
       "\n",
       "    .dataframe thead th {\n",
       "        text-align: right;\n",
       "    }\n",
       "</style>\n",
       "<table border=\"1\" class=\"dataframe\">\n",
       "  <thead>\n",
       "    <tr style=\"text-align: right;\">\n",
       "      <th></th>\n",
       "      <th>visits</th>\n",
       "      <th>purchases</th>\n",
       "    </tr>\n",
       "    <tr>\n",
       "      <th>test group</th>\n",
       "      <th></th>\n",
       "      <th></th>\n",
       "    </tr>\n",
       "  </thead>\n",
       "  <tbody>\n",
       "    <tr>\n",
       "      <th>ad</th>\n",
       "      <td>564577</td>\n",
       "      <td>14423</td>\n",
       "    </tr>\n",
       "    <tr>\n",
       "      <th>psa</th>\n",
       "      <td>23524</td>\n",
       "      <td>420</td>\n",
       "    </tr>\n",
       "  </tbody>\n",
       "</table>\n",
       "</div>"
      ],
      "text/plain": [
       "            visits  purchases\n",
       "test group                   \n",
       "ad          564577      14423\n",
       "psa          23524        420"
      ]
     },
     "execution_count": 26,
     "metadata": {},
     "output_type": "execute_result"
    }
   ],
   "source": [
    "grouped_count = df.groupby('test group').agg(\n",
    "    visits=('user id', 'count'),\n",
    "    purchases=('converted', 'sum'),\n",
    ")\n",
    "grouped_count"
   ]
  },
  {
   "cell_type": "markdown",
   "metadata": {},
   "source": [
    "Количество посещений.\n",
    "— Группа ad: 564 577 пользователей.\n",
    "— Группа psa: 23 524 пользователей.\n",
    "Разница в масштабах выборок очень большая (почти в 24 раза), что говорит о неравномерном распределении трафика между вариантами страницы. Выборки не сбалансированы по численности, и прямые сравнения требуют осторожности или дополнительного стратифицированного анализа.\n",
    "\n",
    "Суммарное число покупок.\n",
    "— В «ad» совершено 14 423 покупок, в «psa» — 420. Опять же численность продаж пропорциональна числу визитов.\n",
    "\n",
    "Ключевые показатели по группам:"
   ]
  },
  {
   "cell_type": "code",
   "execution_count": 27,
   "metadata": {},
   "outputs": [
    {
     "name": "stderr",
     "output_type": "stream",
     "text": [
      "/tmp/ipykernel_5663/1885145049.py:1: FutureWarning: The default of observed=False is deprecated and will be changed to True in a future version of pandas. Pass observed=False to retain current behavior or observed=True to adopt the future default and silence this warning.\n",
      "  grouped_conv = df.groupby('test group').agg(\n"
     ]
    },
    {
     "data": {
      "text/html": [
       "<div>\n",
       "<style scoped>\n",
       "    .dataframe tbody tr th:only-of-type {\n",
       "        vertical-align: middle;\n",
       "    }\n",
       "\n",
       "    .dataframe tbody tr th {\n",
       "        vertical-align: top;\n",
       "    }\n",
       "\n",
       "    .dataframe thead th {\n",
       "        text-align: right;\n",
       "    }\n",
       "</style>\n",
       "<table border=\"1\" class=\"dataframe\">\n",
       "  <thead>\n",
       "    <tr style=\"text-align: right;\">\n",
       "      <th></th>\n",
       "      <th>avg_total_ads</th>\n",
       "      <th>conversion_rate</th>\n",
       "    </tr>\n",
       "    <tr>\n",
       "      <th>test group</th>\n",
       "      <th></th>\n",
       "      <th></th>\n",
       "    </tr>\n",
       "  </thead>\n",
       "  <tbody>\n",
       "    <tr>\n",
       "      <th>ad</th>\n",
       "      <td>24.823365</td>\n",
       "      <td>0.025547</td>\n",
       "    </tr>\n",
       "    <tr>\n",
       "      <th>psa</th>\n",
       "      <td>24.761138</td>\n",
       "      <td>0.017854</td>\n",
       "    </tr>\n",
       "  </tbody>\n",
       "</table>\n",
       "</div>"
      ],
      "text/plain": [
       "            avg_total_ads  conversion_rate\n",
       "test group                                \n",
       "ad              24.823365         0.025547\n",
       "psa             24.761138         0.017854"
      ]
     },
     "execution_count": 27,
     "metadata": {},
     "output_type": "execute_result"
    }
   ],
   "source": [
    "grouped_conv = df.groupby('test group').agg(\n",
    "    avg_total_ads=('total ads', 'mean')\n",
    ")\n",
    "grouped_conv['conversion_rate'] = grouped_count['purchases'] / grouped_count['visits']\n",
    "grouped_conv\n"
   ]
  },
  {
   "cell_type": "markdown",
   "metadata": {},
   "source": [
    "Ключевые показатели по группам:\n",
    "\n",
    "Конверсия (доля совершивших покупку):\n",
    "— «ad»: 2.56 %\n",
    "— «psa»: 1.79 %\n",
    "\n",
    "Среднее число показов рекламы (total ads):\n",
    "— «ad»: 24.82 показы на пользователя.\n",
    "— «psa»: 24.76 показы (поскольку пользователи в группе «psa» технически не видели «рекламу», это может быть шум/метрики фоновых объявлений).\n",
    "\n",
    "Первичные выводы:\n",
    "\n",
    "Вариант А («ad») демонстрирует более высокую конверсию (2.56 % против 1.79 %). По показателю конверсии он выглядит эффективнее.\n",
    "\n",
    "Среднее число рекламы практически одинаково в обеих группах (≈24.8), поэтому разница в конверсии не объясняется объёмом увиденных объявлений.\n",
    "\n",
    "На первый взгляд, вариант A (ad) выгоднее по конверсии. Однако для окончательных выводов нужно учесть несбалансированность выборок, провести статистическую проверку значимости (например, z-тест пропорций) и, возможно, скорректировать анализ с помощью взвешивания или бутстрэппинга."
   ]
  },
  {
   "cell_type": "markdown",
   "metadata": {},
   "source": [
    "Формулировка гипотез и выбор тестов\n",
    "\n",
    "Нулевая гипотеза - между группами нет разницы — они работают одинаково.\n",
    "Альтернативная гипотеза - между группами есть разница — одна рекламная компания лучше другой.\n",
    "\n",
    "Z‑тест для долей подходит для проверки разницы в процентах (конверсии) на очень больших выборках.\n",
    "\n",
    "Welch’s t‑тест выбран для сравнения средних показов рекламы, так как он не требует равенства дисперсий и хорошо работает при большом объёме данных."
   ]
  },
  {
   "cell_type": "code",
   "execution_count": 28,
   "metadata": {},
   "outputs": [
    {
     "name": "stdout",
     "output_type": "stream",
     "text": [
      "z = 7.37, p-value = 1.705e-13\n"
     ]
    }
   ],
   "source": [
    "ad = df[df['test group'] == 'ad']\n",
    "psa = df[df['test group'] == 'psa']\n",
    "\n",
    "n1, x1 = len(ad), ad['converted'].sum()\n",
    "n2, x2 = len(psa), psa['converted'].sum()\n",
    "p1, p2 = x1/n1, x2/n2\n",
    "p_pool = (x1 + x2) / (n1 + n2)\n",
    "se = sqrt(p_pool*(1-p_pool)*(1/n1 + 1/n2))\n",
    "z, p_val = (p1-p2)/se, 2*(1-stats.norm.cdf(abs((p1-p2)/se)))\n",
    "print(f\"z = {z:.2f}, p-value = {p_val:.3e}\")"
   ]
  },
  {
   "cell_type": "markdown",
   "metadata": {},
   "source": [
    "p-value очень маленькое (почти 0) → разница в конверсии не случайна. «ad» лучше.\n",
    "\n",
    "Доверительный интервал для разницы конверсий"
   ]
  },
  {
   "cell_type": "code",
   "execution_count": 29,
   "metadata": {},
   "outputs": [
    {
     "name": "stdout",
     "output_type": "stream",
     "text": [
      "95% CI разницы: [0.595%, 0.943%]\n"
     ]
    }
   ],
   "source": [
    "# 95% интервал разницы\n",
    "z_crit = stats.norm.ppf(0.975)\n",
    "se_diff = sqrt(p1*(1-p1)/n1 + p2*(1-p2)/n2)\n",
    "ci_low = (p1-p2) - z_crit*se_diff\n",
    "ci_high = (p1-p2) + z_crit*se_diff\n",
    "print(f\"95% CI разницы: [{ci_low:.3%}, {ci_high:.3%}]\")"
   ]
  },
  {
   "cell_type": "markdown",
   "metadata": {},
   "source": [
    "Разница в конверсии точно лежит между ~0.6 % и ~0.9 % в пользу «ad».\n",
    "\n",
    "Проверка разницы среднего числа рекламы"
   ]
  },
  {
   "cell_type": "code",
   "execution_count": 30,
   "metadata": {},
   "outputs": [
    {
     "name": "stdout",
     "output_type": "stream",
     "text": [
      "Shapiro p-values: 1.088683823305908e-34 1.1792116930269707e-29\n",
      "t = 0.22, p-value = 8.274e-01\n"
     ]
    }
   ],
   "source": [
    "# Берём выборки объявлений\n",
    "ads1, ads2 = ad['total ads'], psa['total ads']\n",
    "# Проверка формы распределения на небольших подвыборках\n",
    "sw1 = stats.shapiro(ads1.sample(500))\n",
    "sw2 = stats.shapiro(ads2.sample(500))\n",
    "print(\"Shapiro p-values:\", sw1.pvalue, sw2.pvalue)\n",
    "# Разница средних: Welch’s t-test\n",
    "t_stat, p_t = stats.ttest_ind(ads1, ads2, equal_var=False)\n",
    "print(f\"t = {t_stat:.2f}, p-value = {p_t:.3e}\")"
   ]
  },
  {
   "cell_type": "markdown",
   "metadata": {},
   "source": [
    "Распределение не идеально «колокольное», но у нас много данных, поэтому t-тест подойдёт. p-value примерно 0.8 → разницы нет.\n",
    "\n",
    "\n",
    "Доверительный интервал для разницы средних рекламы."
   ]
  },
  {
   "cell_type": "code",
   "execution_count": 31,
   "metadata": {},
   "outputs": [
    {
     "name": "stdout",
     "output_type": "stream",
     "text": [
      "95% CI разницы средних: [-0.497, 0.622]\n"
     ]
    }
   ],
   "source": [
    "m1, m2 = ads1.mean(), ads2.mean()\n",
    "se_diff_ads = sqrt(ads1.std(ddof=1)**2/n1 + ads2.std(ddof=1)**2/n2)\n",
    "ci_low_ad = (m1-m2) - z_crit*se_diff_ads\n",
    "ci_high_ad = (m1-m2) + z_crit*se_diff_ads\n",
    "print(f\"95% CI разницы средних: [{ci_low_ad:.3f}, {ci_high_ad:.3f}]\")"
   ]
  },
  {
   "cell_type": "markdown",
   "metadata": {},
   "source": [
    "Среднее число объявлений почти не отличается. Диапазон разницы включает 0."
   ]
  },
  {
   "cell_type": "markdown",
   "metadata": {},
   "source": [
    "Выводы, которые мы можем сделать на основе статистических тестов\n",
    "\n",
    "Реклама повышает конверсию. Группа «ad» показывает на 0.6–0.94 п.п. более высокую конверсию, и эта разница статистически надёжна.\n",
    "\n",
    "Эффект не обусловлен количеством показов. Среднее число показов в обеих группах практически одинаково, и разница незначима.\n",
    "\n",
    "Инвестировать в рекламный вариант («ad»), поскольку он повышает долю покупателей без увеличения числа показов — следовательно, дополнительная вовлечённость и доход от рекламы очевидны.\n",
    "\n"
   ]
  }
 ],
 "metadata": {
  "kernelspec": {
   "display_name": "Python 3",
   "language": "python",
   "name": "python3"
  },
  "language_info": {
   "codemirror_mode": {
    "name": "ipython",
    "version": 3
   },
   "file_extension": ".py",
   "mimetype": "text/x-python",
   "name": "python",
   "nbconvert_exporter": "python",
   "pygments_lexer": "ipython3",
   "version": "3.11.10"
  }
 },
 "nbformat": 4,
 "nbformat_minor": 2
}
