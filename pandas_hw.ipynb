{
 "cells": [
  {
   "metadata": {},
   "cell_type": "markdown",
   "source": [
    "Импортируем необходимые библиотеки"
   ],
   "id": "d45313368b39dda"
  },
  {
   "metadata": {
    "ExecuteTime": {
     "end_time": "2024-11-20T18:26:01.174408242Z",
     "start_time": "2024-11-20T18:26:00.922394096Z"
    }
   },
   "cell_type": "code",
   "source": [
    "import pandas as pd"
   ],
   "id": "d586732b16771a82",
   "outputs": [],
   "execution_count": 34
  },
  {
   "metadata": {},
   "cell_type": "markdown",
   "source": [
    "Загружаем данные из папки data"
   ],
   "id": "b28bd00b016472aa"
  },
  {
   "metadata": {
    "ExecuteTime": {
     "end_time": "2024-11-20T18:26:01.634068588Z",
     "start_time": "2024-11-20T18:26:00.948588475Z"
    }
   },
   "cell_type": "code",
   "source": [
    "train_data = pd.read_csv('data/train.csv')\n",
    "lectures_data = pd.read_csv('data/lectures.csv')\n",
    "question_data = pd.read_csv('data/questions.csv')"
   ],
   "id": "dcef508aac7fd47e",
   "outputs": [],
   "execution_count": 35
  },
  {
   "metadata": {},
   "cell_type": "markdown",
   "source": [
    "Выводим первые 5 строк каждого датафрейма"
   ],
   "id": "fddef7ce06270e2e"
  },
  {
   "metadata": {
    "collapsed": true,
    "ExecuteTime": {
     "end_time": "2024-11-20T18:26:01.673899642Z",
     "start_time": "2024-11-20T18:26:01.660671068Z"
    }
   },
   "cell_type": "code",
   "source": [
    "display(train_data.head())\n",
    "display(lectures_data.head())\n",
    "display(question_data.head())"
   ],
   "id": "e329085a49cb4386",
   "outputs": [
    {
     "data": {
      "text/plain": "   row_id  timestamp  user_id  content_id  content_type_id  task_container_id  \\\n0       0          0      115        5692                0                  1   \n1       1      56943      115        5716                0                  2   \n2       2     118363      115         128                0                  0   \n3       3     131167      115        7860                0                  3   \n4       4     137965      115        7922                0                  4   \n\n   user_answer  answered_correctly  prior_question_elapsed_time  \\\n0            3                   1                          NaN   \n1            2                   1                      37000.0   \n2            0                   1                      55000.0   \n3            0                   1                      19000.0   \n4            1                   1                      11000.0   \n\n  prior_question_had_explanation  \n0                            NaN  \n1                          False  \n2                          False  \n3                          False  \n4                          False  ",
      "text/html": "<div>\n<style scoped>\n    .dataframe tbody tr th:only-of-type {\n        vertical-align: middle;\n    }\n\n    .dataframe tbody tr th {\n        vertical-align: top;\n    }\n\n    .dataframe thead th {\n        text-align: right;\n    }\n</style>\n<table border=\"1\" class=\"dataframe\">\n  <thead>\n    <tr style=\"text-align: right;\">\n      <th></th>\n      <th>row_id</th>\n      <th>timestamp</th>\n      <th>user_id</th>\n      <th>content_id</th>\n      <th>content_type_id</th>\n      <th>task_container_id</th>\n      <th>user_answer</th>\n      <th>answered_correctly</th>\n      <th>prior_question_elapsed_time</th>\n      <th>prior_question_had_explanation</th>\n    </tr>\n  </thead>\n  <tbody>\n    <tr>\n      <th>0</th>\n      <td>0</td>\n      <td>0</td>\n      <td>115</td>\n      <td>5692</td>\n      <td>0</td>\n      <td>1</td>\n      <td>3</td>\n      <td>1</td>\n      <td>NaN</td>\n      <td>NaN</td>\n    </tr>\n    <tr>\n      <th>1</th>\n      <td>1</td>\n      <td>56943</td>\n      <td>115</td>\n      <td>5716</td>\n      <td>0</td>\n      <td>2</td>\n      <td>2</td>\n      <td>1</td>\n      <td>37000.0</td>\n      <td>False</td>\n    </tr>\n    <tr>\n      <th>2</th>\n      <td>2</td>\n      <td>118363</td>\n      <td>115</td>\n      <td>128</td>\n      <td>0</td>\n      <td>0</td>\n      <td>0</td>\n      <td>1</td>\n      <td>55000.0</td>\n      <td>False</td>\n    </tr>\n    <tr>\n      <th>3</th>\n      <td>3</td>\n      <td>131167</td>\n      <td>115</td>\n      <td>7860</td>\n      <td>0</td>\n      <td>3</td>\n      <td>0</td>\n      <td>1</td>\n      <td>19000.0</td>\n      <td>False</td>\n    </tr>\n    <tr>\n      <th>4</th>\n      <td>4</td>\n      <td>137965</td>\n      <td>115</td>\n      <td>7922</td>\n      <td>0</td>\n      <td>4</td>\n      <td>1</td>\n      <td>1</td>\n      <td>11000.0</td>\n      <td>False</td>\n    </tr>\n  </tbody>\n</table>\n</div>"
     },
     "metadata": {},
     "output_type": "display_data"
    },
    {
     "data": {
      "text/plain": "   lecture_id  tag  part           type_of\n0          89  159     5           concept\n1         100   70     1           concept\n2         185   45     6           concept\n3         192   79     5  solving question\n4         317  156     5  solving question",
      "text/html": "<div>\n<style scoped>\n    .dataframe tbody tr th:only-of-type {\n        vertical-align: middle;\n    }\n\n    .dataframe tbody tr th {\n        vertical-align: top;\n    }\n\n    .dataframe thead th {\n        text-align: right;\n    }\n</style>\n<table border=\"1\" class=\"dataframe\">\n  <thead>\n    <tr style=\"text-align: right;\">\n      <th></th>\n      <th>lecture_id</th>\n      <th>tag</th>\n      <th>part</th>\n      <th>type_of</th>\n    </tr>\n  </thead>\n  <tbody>\n    <tr>\n      <th>0</th>\n      <td>89</td>\n      <td>159</td>\n      <td>5</td>\n      <td>concept</td>\n    </tr>\n    <tr>\n      <th>1</th>\n      <td>100</td>\n      <td>70</td>\n      <td>1</td>\n      <td>concept</td>\n    </tr>\n    <tr>\n      <th>2</th>\n      <td>185</td>\n      <td>45</td>\n      <td>6</td>\n      <td>concept</td>\n    </tr>\n    <tr>\n      <th>3</th>\n      <td>192</td>\n      <td>79</td>\n      <td>5</td>\n      <td>solving question</td>\n    </tr>\n    <tr>\n      <th>4</th>\n      <td>317</td>\n      <td>156</td>\n      <td>5</td>\n      <td>solving question</td>\n    </tr>\n  </tbody>\n</table>\n</div>"
     },
     "metadata": {},
     "output_type": "display_data"
    },
    {
     "data": {
      "text/plain": "   question_id  bundle_id  correct_answer  part            tags\n0            0          0               0     1   51 131 162 38\n1            1          1               1     1       131 36 81\n2            2          2               0     1  131 101 162 92\n3            3          3               0     1  131 149 162 29\n4            4          4               3     1    131 5 162 38",
      "text/html": "<div>\n<style scoped>\n    .dataframe tbody tr th:only-of-type {\n        vertical-align: middle;\n    }\n\n    .dataframe tbody tr th {\n        vertical-align: top;\n    }\n\n    .dataframe thead th {\n        text-align: right;\n    }\n</style>\n<table border=\"1\" class=\"dataframe\">\n  <thead>\n    <tr style=\"text-align: right;\">\n      <th></th>\n      <th>question_id</th>\n      <th>bundle_id</th>\n      <th>correct_answer</th>\n      <th>part</th>\n      <th>tags</th>\n    </tr>\n  </thead>\n  <tbody>\n    <tr>\n      <th>0</th>\n      <td>0</td>\n      <td>0</td>\n      <td>0</td>\n      <td>1</td>\n      <td>51 131 162 38</td>\n    </tr>\n    <tr>\n      <th>1</th>\n      <td>1</td>\n      <td>1</td>\n      <td>1</td>\n      <td>1</td>\n      <td>131 36 81</td>\n    </tr>\n    <tr>\n      <th>2</th>\n      <td>2</td>\n      <td>2</td>\n      <td>0</td>\n      <td>1</td>\n      <td>131 101 162 92</td>\n    </tr>\n    <tr>\n      <th>3</th>\n      <td>3</td>\n      <td>3</td>\n      <td>0</td>\n      <td>1</td>\n      <td>131 149 162 29</td>\n    </tr>\n    <tr>\n      <th>4</th>\n      <td>4</td>\n      <td>4</td>\n      <td>3</td>\n      <td>1</td>\n      <td>131 5 162 38</td>\n    </tr>\n  </tbody>\n</table>\n</div>"
     },
     "metadata": {},
     "output_type": "display_data"
    }
   ],
   "execution_count": 36
  },
  {
   "metadata": {},
   "cell_type": "markdown",
   "source": [
    "Выводим общую информацию о датафреймах "
   ],
   "id": "a2b3725a9afeeace"
  },
  {
   "metadata": {
    "ExecuteTime": {
     "end_time": "2024-11-20T18:26:01.675099838Z",
     "start_time": "2024-11-20T18:26:01.661218908Z"
    }
   },
   "cell_type": "code",
   "source": [
    "\n",
    "lectures_data.info()"
   ],
   "id": "16dc5e7974074710",
   "outputs": [
    {
     "name": "stdout",
     "output_type": "stream",
     "text": [
      "<class 'pandas.core.frame.DataFrame'>\n",
      "RangeIndex: 418 entries, 0 to 417\n",
      "Data columns (total 4 columns):\n",
      " #   Column      Non-Null Count  Dtype \n",
      "---  ------      --------------  ----- \n",
      " 0   lecture_id  418 non-null    int64 \n",
      " 1   tag         418 non-null    int64 \n",
      " 2   part        418 non-null    int64 \n",
      " 3   type_of     418 non-null    object\n",
      "dtypes: int64(3), object(1)\n",
      "memory usage: 13.2+ KB\n"
     ]
    }
   ],
   "execution_count": 37
  },
  {
   "metadata": {
    "ExecuteTime": {
     "end_time": "2024-11-20T18:26:01.931143301Z",
     "start_time": "2024-11-20T18:26:01.661505462Z"
    }
   },
   "cell_type": "code",
   "source": [
    "train_data.info()"
   ],
   "id": "36fa3992ad3448ab",
   "outputs": [
    {
     "name": "stdout",
     "output_type": "stream",
     "text": [
      "<class 'pandas.core.frame.DataFrame'>\n",
      "RangeIndex: 999999 entries, 0 to 999998\n",
      "Data columns (total 10 columns):\n",
      " #   Column                          Non-Null Count   Dtype  \n",
      "---  ------                          --------------   -----  \n",
      " 0   row_id                          999999 non-null  int64  \n",
      " 1   timestamp                       999999 non-null  int64  \n",
      " 2   user_id                         999999 non-null  int64  \n",
      " 3   content_id                      999999 non-null  int64  \n",
      " 4   content_type_id                 999999 non-null  int64  \n",
      " 5   task_container_id               999999 non-null  int64  \n",
      " 6   user_answer                     999999 non-null  int64  \n",
      " 7   answered_correctly              999999 non-null  int64  \n",
      " 8   prior_question_elapsed_time     976276 non-null  float64\n",
      " 9   prior_question_had_explanation  996183 non-null  object \n",
      "dtypes: float64(1), int64(8), object(1)\n",
      "memory usage: 76.3+ MB\n"
     ]
    }
   ],
   "execution_count": 38
  },
  {
   "metadata": {
    "ExecuteTime": {
     "end_time": "2024-11-20T18:26:01.933300079Z",
     "start_time": "2024-11-20T18:26:01.724908611Z"
    }
   },
   "cell_type": "code",
   "source": [
    "question_data.info()"
   ],
   "id": "2d74e989ba5a989b",
   "outputs": [
    {
     "name": "stdout",
     "output_type": "stream",
     "text": [
      "<class 'pandas.core.frame.DataFrame'>\n",
      "RangeIndex: 13523 entries, 0 to 13522\n",
      "Data columns (total 5 columns):\n",
      " #   Column          Non-Null Count  Dtype \n",
      "---  ------          --------------  ----- \n",
      " 0   question_id     13523 non-null  int64 \n",
      " 1   bundle_id       13523 non-null  int64 \n",
      " 2   correct_answer  13523 non-null  int64 \n",
      " 3   part            13523 non-null  int64 \n",
      " 4   tags            13522 non-null  object\n",
      "dtypes: int64(4), object(1)\n",
      "memory usage: 528.4+ KB\n"
     ]
    }
   ],
   "execution_count": 39
  },
  {
   "metadata": {},
   "cell_type": "markdown",
   "source": [
    "Получим несколько интересных для исследования метрик\n",
    "\n",
    "Процент правильно отвеченных вопросов:"
   ],
   "id": "1ad24424ed8f29cd"
  },
  {
   "metadata": {
    "ExecuteTime": {
     "end_time": "2024-11-20T18:26:01.934482261Z",
     "start_time": "2024-11-20T18:26:01.734882432Z"
    }
   },
   "cell_type": "code",
   "source": [
    "correct_answers_count = (train_data['answered_correctly'] == 1).sum()\n",
    "correct_answers_count / train_data.shape[0] * 100"
   ],
   "id": "76d91c99ea2646d1",
   "outputs": [
    {
     "data": {
      "text/plain": "63.741163741163746"
     },
     "execution_count": 40,
     "metadata": {},
     "output_type": "execute_result"
    }
   ],
   "execution_count": 40
  },
  {
   "metadata": {},
   "cell_type": "markdown",
   "source": [
    "Среднее время, затраченное на ответ"
   ],
   "id": "6036fd636f08e6a7"
  },
  {
   "metadata": {
    "ExecuteTime": {
     "end_time": "2024-11-20T18:26:01.935454693Z",
     "start_time": "2024-11-20T18:26:01.750383971Z"
    }
   },
   "cell_type": "code",
   "source": [
    "train_data['prior_question_elapsed_time'].mean()"
   ],
   "id": "1f0dc2c6007a6e88",
   "outputs": [
    {
     "data": {
      "text/plain": "25302.941492979444"
     },
     "execution_count": 41,
     "metadata": {},
     "output_type": "execute_result"
    }
   ],
   "execution_count": 41
  },
  {
   "metadata": {},
   "cell_type": "markdown",
   "source": [
    "Влияние объяснений на результат"
   ],
   "id": "6ac91b20c1cdb989"
  },
  {
   "metadata": {
    "ExecuteTime": {
     "end_time": "2024-11-20T18:26:02.379556364Z",
     "start_time": "2024-11-20T18:26:01.763784085Z"
    }
   },
   "cell_type": "code",
   "source": [
    "# Разделение данных на две группы\n",
    "group_with_explanation = train_data[train_data['prior_question_had_explanation'] == True]\n",
    "group_without_explanation = train_data[train_data['prior_question_had_explanation'] == False]\n",
    "\n",
    "# Подсчет процента правильных ответов в каждой группе\n",
    "percentage_correct_with_explanation = (group_with_explanation['answered_correctly'] == 1).sum() / group_with_explanation.shape[0] * 100\n",
    "percentage_correct_without_explanation = (group_without_explanation['answered_correctly'] == 1).sum() / group_without_explanation.shape[0] * 100\n",
    "display(percentage_correct_with_explanation)\n",
    "display(percentage_correct_without_explanation)"
   ],
   "id": "bbad203cd6bfa4ef",
   "outputs": [
    {
     "data": {
      "text/plain": "66.59133866585158"
     },
     "metadata": {},
     "output_type": "display_data"
    },
    {
     "data": {
      "text/plain": "39.725486137896645"
     },
     "metadata": {},
     "output_type": "display_data"
    }
   ],
   "execution_count": 42
  },
  {
   "cell_type": "markdown",
   "source": [
    "Исследуем также файл с вопросами\n",
    "Например, проанализируем как тэги влияют на правильность ответов\n"
   ],
   "metadata": {
    "collapsed": false
   },
   "id": "e646f4b62bd055c2"
  },
  {
   "cell_type": "code",
   "execution_count": 43,
   "outputs": [
    {
     "data": {
      "text/plain": "    tags  answered_correctly  count\n0     68            0.873532   1107\n1    187            0.850349   2292\n2    149            0.836061   3666\n3    130            0.829202   2219\n4     70            0.799559   2724\n..   ...                 ...    ...\n183  151            0.482405   5172\n184  186            0.473684     76\n185   23            0.447502   4543\n186   19            0.434585   3088\n187   24            0.383900   2472\n\n[188 rows x 3 columns]",
      "text/html": "<div>\n<style scoped>\n    .dataframe tbody tr th:only-of-type {\n        vertical-align: middle;\n    }\n\n    .dataframe tbody tr th {\n        vertical-align: top;\n    }\n\n    .dataframe thead th {\n        text-align: right;\n    }\n</style>\n<table border=\"1\" class=\"dataframe\">\n  <thead>\n    <tr style=\"text-align: right;\">\n      <th></th>\n      <th>tags</th>\n      <th>answered_correctly</th>\n      <th>count</th>\n    </tr>\n  </thead>\n  <tbody>\n    <tr>\n      <th>0</th>\n      <td>68</td>\n      <td>0.873532</td>\n      <td>1107</td>\n    </tr>\n    <tr>\n      <th>1</th>\n      <td>187</td>\n      <td>0.850349</td>\n      <td>2292</td>\n    </tr>\n    <tr>\n      <th>2</th>\n      <td>149</td>\n      <td>0.836061</td>\n      <td>3666</td>\n    </tr>\n    <tr>\n      <th>3</th>\n      <td>130</td>\n      <td>0.829202</td>\n      <td>2219</td>\n    </tr>\n    <tr>\n      <th>4</th>\n      <td>70</td>\n      <td>0.799559</td>\n      <td>2724</td>\n    </tr>\n    <tr>\n      <th>...</th>\n      <td>...</td>\n      <td>...</td>\n      <td>...</td>\n    </tr>\n    <tr>\n      <th>183</th>\n      <td>151</td>\n      <td>0.482405</td>\n      <td>5172</td>\n    </tr>\n    <tr>\n      <th>184</th>\n      <td>186</td>\n      <td>0.473684</td>\n      <td>76</td>\n    </tr>\n    <tr>\n      <th>185</th>\n      <td>23</td>\n      <td>0.447502</td>\n      <td>4543</td>\n    </tr>\n    <tr>\n      <th>186</th>\n      <td>19</td>\n      <td>0.434585</td>\n      <td>3088</td>\n    </tr>\n    <tr>\n      <th>187</th>\n      <td>24</td>\n      <td>0.383900</td>\n      <td>2472</td>\n    </tr>\n  </tbody>\n</table>\n<p>188 rows × 3 columns</p>\n</div>"
     },
     "execution_count": 43,
     "metadata": {},
     "output_type": "execute_result"
    }
   ],
   "source": [
    "student_questions_df = train_data[train_data['content_type_id'] == 0]\n",
    "\n",
    "# Объединить DataFrame'ы по content_id (студент) и question_id (вопросы)\n",
    "merged_df = pd.merge(student_questions_df, question_data, \n",
    "                     left_on='content_id', right_on='question_id', \n",
    "                     how='inner')\n",
    "# Проверить, является ли тип данных tags строковым с запятыми\n",
    "if merged_df['tags'].dtype == 'object':\n",
    "    # Разделить метки на списки\n",
    "    merged_df['tags'] = merged_df['tags'].str.split()\n",
    "    \n",
    "# Развернуть столбец tags, чтобы иметь одну метку на строку\n",
    "merged_df = merged_df.explode('tags')\n",
    "# Вычислить среднюю правильность ответов по каждой метке\n",
    "tag_performance = merged_df.groupby('tags')['answered_correctly'].mean().reset_index()\n",
    "\n",
    "# Отсортировать метки по правильности ответов\n",
    "tag_performance_sorted = tag_performance.sort_values(by='answered_correctly', ascending=False)\n",
    "# Вычислить количество ответов по каждой метке\n",
    "tag_counts = merged_df.groupby('tags')['answered_correctly'].count().reset_index()\n",
    "tag_counts.rename(columns={'answered_correctly': 'count'}, inplace=True)\n",
    "\n",
    "# Объединить производительность и частоту\n",
    "tag_performance_final = pd.merge(tag_performance_sorted, tag_counts, on='tags')\n",
    "\n",
    "tag_performance_final"
   ],
   "metadata": {
    "collapsed": false,
    "ExecuteTime": {
     "end_time": "2024-11-20T18:26:05.168651370Z",
     "start_time": "2024-11-20T18:26:01.996471305Z"
    }
   },
   "id": "776d806f0caf90af"
  },
  {
   "cell_type": "markdown",
   "source": [
    "Также нужно проанализировать датасет с лекциями.\n",
    "Например, можно узнать влияние категории лекции на правильность ответа на вопросе  "
   ],
   "metadata": {
    "collapsed": false
   },
   "id": "b31d875ee5455d31"
  },
  {
   "cell_type": "code",
   "execution_count": 47,
   "outputs": [
    {
     "data": {
      "text/plain": "     tag  answered_correctly\n0      0                -1.0\n94   120                -1.0\n96   124                -1.0\n97   125                -1.0\n98   126                -1.0\n..   ...                 ...\n50    64                -1.0\n51    65                -1.0\n52    66                -1.0\n53    67                -1.0\n149  187                -1.0\n\n[150 rows x 2 columns]",
      "text/html": "<div>\n<style scoped>\n    .dataframe tbody tr th:only-of-type {\n        vertical-align: middle;\n    }\n\n    .dataframe tbody tr th {\n        vertical-align: top;\n    }\n\n    .dataframe thead th {\n        text-align: right;\n    }\n</style>\n<table border=\"1\" class=\"dataframe\">\n  <thead>\n    <tr style=\"text-align: right;\">\n      <th></th>\n      <th>tag</th>\n      <th>answered_correctly</th>\n    </tr>\n  </thead>\n  <tbody>\n    <tr>\n      <th>0</th>\n      <td>0</td>\n      <td>-1.0</td>\n    </tr>\n    <tr>\n      <th>94</th>\n      <td>120</td>\n      <td>-1.0</td>\n    </tr>\n    <tr>\n      <th>96</th>\n      <td>124</td>\n      <td>-1.0</td>\n    </tr>\n    <tr>\n      <th>97</th>\n      <td>125</td>\n      <td>-1.0</td>\n    </tr>\n    <tr>\n      <th>98</th>\n      <td>126</td>\n      <td>-1.0</td>\n    </tr>\n    <tr>\n      <th>...</th>\n      <td>...</td>\n      <td>...</td>\n    </tr>\n    <tr>\n      <th>50</th>\n      <td>64</td>\n      <td>-1.0</td>\n    </tr>\n    <tr>\n      <th>51</th>\n      <td>65</td>\n      <td>-1.0</td>\n    </tr>\n    <tr>\n      <th>52</th>\n      <td>66</td>\n      <td>-1.0</td>\n    </tr>\n    <tr>\n      <th>53</th>\n      <td>67</td>\n      <td>-1.0</td>\n    </tr>\n    <tr>\n      <th>149</th>\n      <td>187</td>\n      <td>-1.0</td>\n    </tr>\n  </tbody>\n</table>\n<p>150 rows × 2 columns</p>\n</div>"
     },
     "execution_count": 47,
     "metadata": {},
     "output_type": "execute_result"
    }
   ],
   "source": [
    "student_lectures_df = train_data[train_data['content_type_id'] == 1]\n",
    "# Объединить DataFrame'ы по content_id и lecture_id\n",
    "merged_df = pd.merge(student_lectures_df, lectures_data, \n",
    "                     left_on='content_id', right_on='lecture_id', how='inner')\n",
    "\n",
    "# Группируем данные по 'tag' и вычисляем средний 'answered_correctly'\n",
    "tag_performance = merged_df.groupby('tag')['answered_correctly'].mean().reset_index()\n",
    "\n",
    "# Сортируем результаты по убыванию среднего 'answered_correctly'\n",
    "tag_performance_sorted = tag_performance.sort_values(by='answered_correctly', ascending=False)\n",
    "tag_performance_sorted\n",
    "\n"
   ],
   "metadata": {
    "collapsed": false,
    "ExecuteTime": {
     "end_time": "2024-11-20T18:33:56.066738292Z",
     "start_time": "2024-11-20T18:33:56.024297676Z"
    }
   },
   "id": "ac861cee8c3ebbfe"
  },
  {
   "cell_type": "markdown",
   "source": [],
   "metadata": {
    "collapsed": false
   },
   "id": "55ea901fcf42d71d"
  }
 ],
 "metadata": {
  "kernelspec": {
   "display_name": "Python 3",
   "language": "python",
   "name": "python3"
  },
  "language_info": {
   "codemirror_mode": {
    "name": "ipython",
    "version": 2
   },
   "file_extension": ".py",
   "mimetype": "text/x-python",
   "name": "python",
   "nbconvert_exporter": "python",
   "pygments_lexer": "ipython2",
   "version": "2.7.6"
  }
 },
 "nbformat": 4,
 "nbformat_minor": 5
}
