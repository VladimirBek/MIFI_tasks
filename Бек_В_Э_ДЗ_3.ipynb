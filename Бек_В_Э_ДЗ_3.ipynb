{
  "nbformat": 4,
  "nbformat_minor": 0,
  "metadata": {
    "colab": {
      "provenance": [],
      "include_colab_link": true
    },
    "kernelspec": {
      "name": "python3",
      "display_name": "Python 3"
    },
    "language_info": {
      "name": "python"
    }
  },
  "cells": [
    {
      "cell_type": "markdown",
      "metadata": {
        "id": "view-in-github",
        "colab_type": "text"
      },
      "source": [
        "<a href=\"https://colab.research.google.com/github/VladimirBek/MIFI_tasks/blob/main/%D0%91%D0%B5%D0%BA_%D0%92_%D0%AD_%D0%94%D0%97_3.ipynb\" target=\"_parent\"><img src=\"https://colab.research.google.com/assets/colab-badge.svg\" alt=\"Open In Colab\"/></a>"
      ]
    },
    {
      "cell_type": "code",
      "execution_count": null,
      "metadata": {
        "id": "MXXTuy_o0sjk",
        "outputId": "03736fb2-99d2-4728-ab50-3ec065049442",
        "colab": {
          "base_uri": "https://localhost:8080/"
        }
      },
      "outputs": [
        {
          "output_type": "stream",
          "name": "stdout",
          "text": [
            "\u001b[?25l     \u001b[90m━━━━━━━━━━━━━━━━━━━━━━━━━━━━━━━━━━━━━━━━\u001b[0m \u001b[32m0.0/156.5 kB\u001b[0m \u001b[31m?\u001b[0m eta \u001b[36m-:--:--\u001b[0m\r\u001b[2K     \u001b[91m━━━━━━━━━━━━━━━━━━\u001b[0m\u001b[90m╺\u001b[0m\u001b[90m━━━━━━━━━━━━━━━━━━━━━\u001b[0m \u001b[32m71.7/156.5 kB\u001b[0m \u001b[31m2.2 MB/s\u001b[0m eta \u001b[36m0:00:01\u001b[0m\r\u001b[2K     \u001b[90m━━━━━━━━━━━━━━━━━━━━━━━━━━━━━━━━━━━━━━━━\u001b[0m \u001b[32m156.5/156.5 kB\u001b[0m \u001b[31m2.3 MB/s\u001b[0m eta \u001b[36m0:00:00\u001b[0m\n",
            "\u001b[?25h  Preparing metadata (setup.py) ... \u001b[?25l\u001b[?25hdone\n",
            "\u001b[2K   \u001b[90m━━━━━━━━━━━━━━━━━━━━━━━━━━━━━━━━━━━━━━━━\u001b[0m \u001b[32m1.3/1.3 MB\u001b[0m \u001b[31m11.2 MB/s\u001b[0m eta \u001b[36m0:00:00\u001b[0m\n",
            "\u001b[2K   \u001b[90m━━━━━━━━━━━━━━━━━━━━━━━━━━━━━━━━━━━━━━━━\u001b[0m \u001b[32m953.8/953.8 kB\u001b[0m \u001b[31m28.7 MB/s\u001b[0m eta \u001b[36m0:00:00\u001b[0m\n",
            "\u001b[2K   \u001b[90m━━━━━━━━━━━━━━━━━━━━━━━━━━━━━━━━━━━━━━━━\u001b[0m \u001b[32m840.2/840.2 kB\u001b[0m \u001b[31m26.0 MB/s\u001b[0m eta \u001b[36m0:00:00\u001b[0m\n",
            "\u001b[2K   \u001b[90m━━━━━━━━━━━━━━━━━━━━━━━━━━━━━━━━━━━━━━━━\u001b[0m \u001b[32m178.7/178.7 kB\u001b[0m \u001b[31m8.1 MB/s\u001b[0m eta \u001b[36m0:00:00\u001b[0m\n",
            "\u001b[?25h  Building wheel for chess (setup.py) ... \u001b[?25l\u001b[?25hdone\n"
          ]
        }
      ],
      "source": [
        "!pip install -q -U kaggle_environments"
      ]
    },
    {
      "cell_type": "code",
      "source": [
        "import numpy as np\n",
        "import pandas as pd\n",
        "import random\n",
        "\n",
        "import matplotlib.pyplot as plt\n",
        "import seaborn as sns\n",
        "\n",
        "from kaggle_environments import make, evaluate"
      ],
      "metadata": {
        "id": "yz23vWHD0wcj"
      },
      "execution_count": null,
      "outputs": []
    },
    {
      "cell_type": "markdown",
      "source": [
        "Оставим агента из задания"
      ],
      "metadata": {
        "id": "et1J5hUGigeh"
      }
    },
    {
      "cell_type": "code",
      "source": [
        "%%writefile copy_opponent.py\n",
        "import random\n",
        "def copy_opponent(observation, configuration):\n",
        "    if observation.step > 0:\n",
        "        return observation.lastOpponentAction\n",
        "    else:\n",
        "        return random.randrange(0, configuration.signs)"
      ],
      "metadata": {
        "id": "7l6Ttw6qi0jk",
        "outputId": "b7324f31-71ab-45d9-aaa5-3d1895cd0ac6",
        "colab": {
          "base_uri": "https://localhost:8080/"
        }
      },
      "execution_count": null,
      "outputs": [
        {
          "output_type": "stream",
          "name": "stdout",
          "text": [
            "Overwriting copy_opponent.py\n"
          ]
        }
      ]
    },
    {
      "cell_type": "markdown",
      "source": [
        "Агент который будет выбирать то, что било оппонента на прошлом ходу"
      ],
      "metadata": {
        "id": "tK9yAyH9MkFs"
      }
    },
    {
      "cell_type": "code",
      "source": [
        "%%writefile last_opponent_weakness.py\n",
        "\n",
        "import random\n",
        "\n",
        "\n",
        "def last_opponent_weakness(observation, configuration):\n",
        "    if observation.step > 0:\n",
        "        if observation.lastOpponentAction == 0:\n",
        "          return 1\n",
        "        elif observation.lastOpponentAction == 1:\n",
        "          return 2\n",
        "        elif observation.lastOpponentAction == 2:\n",
        "          return 0\n",
        "    else:\n",
        "        return random.randrange(0, configuration.signs)"
      ],
      "metadata": {
        "colab": {
          "base_uri": "https://localhost:8080/"
        },
        "id": "8SZbz1LtM4jA",
        "outputId": "0cf50093-7e41-4b7a-e5ac-9fc77594f564"
      },
      "execution_count": null,
      "outputs": [
        {
          "output_type": "stream",
          "name": "stdout",
          "text": [
            "Writing last_opponent_weakness.py\n"
          ]
        }
      ]
    },
    {
      "cell_type": "markdown",
      "source": [
        "Агент, который будет использовать то, что проиграло оппоненту на прошлом ходу"
      ],
      "metadata": {
        "id": "_MJsWzRpSGEl"
      }
    },
    {
      "cell_type": "code",
      "source": [
        "%%writefile last_opponent_strength.py\n",
        "\n",
        "import random\n",
        "\n",
        "def last_opponent_strength(observation, configuration):\n",
        "    if observation.step > 0:\n",
        "        if observation.lastOpponentAction == 0:\n",
        "            return 2\n",
        "        elif observation.lastOpponentAction == 1:\n",
        "            return 0\n",
        "        elif observation.lastOpponentAction == 2:\n",
        "            return 1\n",
        "    else:\n",
        "        return random.randrange(0, configuration.signs)"
      ],
      "metadata": {
        "colab": {
          "base_uri": "https://localhost:8080/"
        },
        "id": "dIv9KgA9S2x3",
        "outputId": "7d36c3dc-9446-4f45-ba4b-73ff7b20076c"
      },
      "execution_count": null,
      "outputs": [
        {
          "output_type": "stream",
          "name": "stdout",
          "text": [
            "Writing last_opponent_strength.py\n"
          ]
        }
      ]
    },
    {
      "cell_type": "markdown",
      "source": [
        "  Стратегия, которая случайным образом выбирает один из трех вариантов: камень, бумага или ножницы."
      ],
      "metadata": {
        "id": "xtKmUcQiTPma"
      }
    },
    {
      "cell_type": "code",
      "source": [
        "%%writefile random_strategy.py\n",
        "\n",
        "import random\n",
        "\n",
        "def random_strategy(observation, configuration):\n",
        "    return random.randrange(0, configuration.signs)"
      ],
      "metadata": {
        "colab": {
          "base_uri": "https://localhost:8080/"
        },
        "id": "qQGHA5srThiL",
        "outputId": "a0b2634c-19c6-4b40-c255-72e61c770d99"
      },
      "execution_count": null,
      "outputs": [
        {
          "output_type": "stream",
          "name": "stdout",
          "text": [
            "Writing random_strategy.py\n"
          ]
        }
      ]
    },
    {
      "cell_type": "markdown",
      "source": [
        "Стратегия, которая циклически выбирает варианты: камень, бумага, ножницы."
      ],
      "metadata": {
        "id": "CQKo5UFSTpjz"
      }
    },
    {
      "cell_type": "code",
      "source": [
        "%%writefile cyclic_strategy.py\n",
        "\n",
        "def cyclic_strategy(observation, configuration):\n",
        "    return observation.step % configuration.signs"
      ],
      "metadata": {
        "colab": {
          "base_uri": "https://localhost:8080/"
        },
        "id": "N6pOvW0BTo75",
        "outputId": "b7171d9a-fa15-4aad-9254-5dece6b76ff2"
      },
      "execution_count": null,
      "outputs": [
        {
          "output_type": "stream",
          "name": "stdout",
          "text": [
            "Writing cyclic_strategy.py\n"
          ]
        }
      ]
    },
    {
      "cell_type": "markdown",
      "source": [
        "Стратегия, которая случайным образом выбирает варианты, но с разными весами для вероятности. Веса статичны.\n"
      ],
      "metadata": {
        "id": "bgvBN58OUBmF"
      }
    },
    {
      "cell_type": "code",
      "source": [
        "%%writefile weighted_random_strategy.py\n",
        "import random\n",
        "\n",
        "\n",
        "def weighted_random_strategy(observation, configuration):\n",
        "    weights = [0.34, 0.33, 0.33]  # Веса для камня, бумаги и ножниц\n",
        "    return random.choices([0, 1, 2], weights=weights)[0]"
      ],
      "metadata": {
        "colab": {
          "base_uri": "https://localhost:8080/"
        },
        "id": "o4A2wOXyUFLZ",
        "outputId": "e71c0494-2a00-4c01-e1e9-53d12d1e6770"
      },
      "execution_count": null,
      "outputs": [
        {
          "output_type": "stream",
          "name": "stdout",
          "text": [
            "Writing weighted_random_strategy.py\n"
          ]
        }
      ]
    },
    {
      "cell_type": "markdown",
      "source": [
        "На четных ходах вызваются ножницы, а на нечетных камень\n"
      ],
      "metadata": {
        "id": "g7ntVJPdUUYS"
      }
    },
    {
      "cell_type": "code",
      "source": [
        "%%writefile even_and_odd.py\n",
        "\n",
        "import random\n",
        "\n",
        "def even_and_odd(observation, configuration):\n",
        "    if observation.step % 2 == 0:\n",
        "        return 1\n",
        "    else:\n",
        "        return 0"
      ],
      "metadata": {
        "colab": {
          "base_uri": "https://localhost:8080/"
        },
        "id": "k93Ul3x6UbMC",
        "outputId": "d4ac785f-2bb9-4b84-dbb8-7f3cc8509239"
      },
      "execution_count": null,
      "outputs": [
        {
          "output_type": "stream",
          "name": "stdout",
          "text": [
            "Overwriting even_and_odd.py\n"
          ]
        }
      ]
    },
    {
      "cell_type": "markdown",
      "source": [
        "Стратегия, которая случайным образом выбирает варианты, но с разными весами для вероятности. Веса подбиратся динамически."
      ],
      "metadata": {
        "id": "Dvs40JJSUv7N"
      }
    },
    {
      "cell_type": "code",
      "source": [
        "%%writefile  weighted_random_strategy_dinamic.py\n",
        "\n",
        "import random\n",
        "\n",
        "def weighted_random_strategy_dinamic(observation, configuration):\n",
        "    weights = [random.uniform(0, 1), random.uniform(0, 1), random.uniform(0, 1)]  # Веса для камня, бумаги и ножниц\n",
        "    return random.choices([0, 1, 2], weights=weights)[0]"
      ],
      "metadata": {
        "colab": {
          "base_uri": "https://localhost:8080/"
        },
        "id": "MAgNMavKU4F2",
        "outputId": "dafcb7da-9787-4028-a7c0-dae2604f9262"
      },
      "execution_count": null,
      "outputs": [
        {
          "output_type": "stream",
          "name": "stdout",
          "text": [
            "Writing weighted_random_strategy_dinamic.py\n"
          ]
        }
      ]
    },
    {
      "cell_type": "markdown",
      "source": [
        "Стратегия, которая циклически выбирает варианты, но с небольшой вероятностью случайно меняет выбор."
      ],
      "metadata": {
        "id": "dtbIIKtnbotY"
      }
    },
    {
      "cell_type": "code",
      "source": [
        "%%writefile  cyclic_random_strategy.py\n",
        "import random\n",
        "\n",
        "def cyclic_random_strategy(observation, configuration):\n",
        "    if random.random() < 0.1:\n",
        "        return random.randrange(0, configuration.signs)\n",
        "    else:\n",
        "        return observation.step % configuration.signs"
      ],
      "metadata": {
        "colab": {
          "base_uri": "https://localhost:8080/"
        },
        "id": "ig6nRE3BbqKy",
        "outputId": "0cb4bc19-302d-4a3d-9595-a718e5fb2c99"
      },
      "execution_count": null,
      "outputs": [
        {
          "output_type": "stream",
          "name": "stdout",
          "text": [
            "Overwriting cyclic_random_strategy.py\n"
          ]
        }
      ]
    },
    {
      "cell_type": "markdown",
      "source": [
        " Стратегия, которая выбирает вариант, который побеждает последний ход противника, но с небольшой вероятностью случайно меняет выбор."
      ],
      "metadata": {
        "id": "xmnDbOLDfSez"
      }
    },
    {
      "cell_type": "code",
      "source": [
        "%%writefile  opposite_random_strategy.py\n",
        "import random\n",
        "\n",
        "\n",
        "def opposite_random_strategy(observation, configuration):\n",
        "\n",
        "    if observation.step > 0:\n",
        "        if random.random() < 0.1:\n",
        "            return random.randrange(0, configuration.signs)\n",
        "        else:\n",
        "            return (observation.lastOpponentAction + 1) % configuration.signs\n",
        "    else:\n",
        "        return random.randrange(0, configuration.signs)"
      ],
      "metadata": {
        "colab": {
          "base_uri": "https://localhost:8080/"
        },
        "id": "q9azv_rkfTok",
        "outputId": "742f1023-29ff-4b8d-91b8-5defb2c73516"
      },
      "execution_count": null,
      "outputs": [
        {
          "output_type": "stream",
          "name": "stdout",
          "text": [
            "Overwriting opposite_random_strategy.py\n"
          ]
        }
      ]
    },
    {
      "cell_type": "markdown",
      "source": [
        "На четных ходах вызваются камень, а на нечетных бумага и с небольшой вероятностью могут выпасть ножницы"
      ],
      "metadata": {
        "id": "QgcclYnvf16f"
      }
    },
    {
      "cell_type": "code",
      "source": [
        "%%writefile even_and_odd2.py\n",
        "\n",
        "import random\n",
        "\n",
        "def even_and_odd2(observation, configuration):\n",
        "    if random.random() < 0.1:\n",
        "        return 1\n",
        "    if observation.step % 2 == 0:\n",
        "        return 0\n",
        "    else:\n",
        "        return 2"
      ],
      "metadata": {
        "colab": {
          "base_uri": "https://localhost:8080/"
        },
        "id": "8rA8r-5rgCSN",
        "outputId": "64c91161-187e-45e0-e7f3-c80c008ceb7d"
      },
      "execution_count": null,
      "outputs": [
        {
          "output_type": "stream",
          "name": "stdout",
          "text": [
            "Overwriting even_and_odd2.py\n"
          ]
        }
      ]
    },
    {
      "cell_type": "markdown",
      "source": [
        "Запускаем турнир, перебирая всех написанных агентов, указывая их в списке"
      ],
      "metadata": {
        "id": "kqdNs6BIfn0R"
      }
    },
    {
      "cell_type": "code",
      "source": [
        "agents = [\"rock\",\n",
        "          \"paper\",\n",
        "          \"scissors\",\n",
        "          \"copy_opponent.py\",\n",
        "          'last_opponent_weakness.py',\n",
        "          \"last_opponent_strength.py\",\n",
        "          \"random_strategy.py\",\n",
        "          \"cyclic_strategy.py\",\n",
        "          \"weighted_random_strategy.py\",\n",
        "          \"even_and_odd.py\",\n",
        "          \"weighted_random_strategy_dinamic.py\",\n",
        "          \"cyclic_random_strategy.py\",\n",
        "          \"opposite_random_strategy.py\",\n",
        "          \"even_and_odd2.py\"\n",
        "          ]\n",
        "\n",
        "# Конфигурация игры\n",
        "configuration = {\"episodeSteps\": 100}\n",
        "\n",
        "# Функция для проведения турнира\n",
        "def run_tournament(agents, configuration):\n",
        "    results = []\n",
        "    for i in range(len(agents)):\n",
        "        for j in range(i + 1, len(agents)):\n",
        "            agent1 = agents[i]\n",
        "            agent2 = agents[j]\n",
        "            match_result = evaluate(\"rps\", [agent1, agent2], configuration)\n",
        "            results.append((agent1, agent2, match_result))\n",
        "    return results\n",
        "\n",
        "# Запуск турнира\n",
        "tournament_results = run_tournament(agents, configuration)\n",
        "\n",
        "# Вывод результатов\n",
        "for result in tournament_results:\n",
        "    agent1, agent2, match_result = result\n",
        "    print(f\"{agent1} vs {agent2}: {match_result}\")"
      ],
      "metadata": {
        "colab": {
          "base_uri": "https://localhost:8080/"
        },
        "id": "VhjcvX8JN-tw",
        "outputId": "71e81046-d06d-422c-a4d3-9e8c62a01a57"
      },
      "execution_count": null,
      "outputs": [
        {
          "output_type": "stream",
          "name": "stdout",
          "text": [
            "rock vs paper: [[-99.0, 99.0]]\n",
            "rock vs scissors: [[99.0, -99.0]]\n",
            "rock vs copy_opponent.py: [[0, 0]]\n",
            "rock vs last_opponent_weakness.py: [[-99.0, 99.0]]\n",
            "rock vs last_opponent_strength.py: [[99.0, -99.0]]\n",
            "rock vs random_strategy.py: [[0, 0]]\n",
            "rock vs cyclic_strategy.py: [[0, 0]]\n",
            "rock vs weighted_random_strategy.py: [[0, 0]]\n",
            "rock vs even_and_odd.py: [[-50.0, 50.0]]\n",
            "rock vs weighted_random_strategy_dinamic.py: [[0, 0]]\n",
            "rock vs cyclic_random_strategy.py: [[0, 0]]\n",
            "rock vs opposite_random_strategy.py: [[-85.0, 85.0]]\n",
            "rock vs even_and_odd2.py: [[34.0, -34.0]]\n",
            "paper vs scissors: [[-99.0, 99.0]]\n",
            "paper vs copy_opponent.py: [[0, 0]]\n",
            "paper vs last_opponent_weakness.py: [[-97.0, 97.0]]\n",
            "paper vs last_opponent_strength.py: [[97.0, -97.0]]\n",
            "paper vs random_strategy.py: [[0, 0]]\n",
            "paper vs cyclic_strategy.py: [[0, 0]]\n",
            "paper vs weighted_random_strategy.py: [[0, 0]]\n",
            "paper vs even_and_odd.py: [[49.0, -49.0]]\n",
            "paper vs weighted_random_strategy_dinamic.py: [[0, 0]]\n",
            "paper vs cyclic_random_strategy.py: [[0, 0]]\n",
            "paper vs opposite_random_strategy.py: [[-85.0, 85.0]]\n",
            "paper vs even_and_odd2.py: [[0, 0]]\n",
            "scissors vs copy_opponent.py: [[0, 0]]\n",
            "scissors vs last_opponent_weakness.py: [[-99.0, 99.0]]\n",
            "scissors vs last_opponent_strength.py: [[97.0, -97.0]]\n",
            "scissors vs random_strategy.py: [[0, 0]]\n",
            "scissors vs cyclic_strategy.py: [[0, 0]]\n",
            "scissors vs weighted_random_strategy.py: [[0, 0]]\n",
            "scissors vs even_and_odd.py: [[0, 0]]\n",
            "scissors vs weighted_random_strategy_dinamic.py: [[0, 0]]\n",
            "scissors vs cyclic_random_strategy.py: [[0, 0]]\n",
            "scissors vs opposite_random_strategy.py: [[-91.0, 91.0]]\n",
            "scissors vs even_and_odd2.py: [[-34.0, 34.0]]\n",
            "copy_opponent.py vs last_opponent_weakness.py: [[-49.0, 49.0]]\n",
            "copy_opponent.py vs last_opponent_strength.py: [[49.0, -49.0]]\n",
            "copy_opponent.py vs random_strategy.py: [[0, 0]]\n",
            "copy_opponent.py vs cyclic_strategy.py: [[-99.0, 99.0]]\n",
            "copy_opponent.py vs weighted_random_strategy.py: [[0, 0]]\n",
            "copy_opponent.py vs even_and_odd.py: [[0, 0]]\n",
            "copy_opponent.py vs weighted_random_strategy_dinamic.py: [[0, 0]]\n",
            "copy_opponent.py vs cyclic_random_strategy.py: [[-84.0, 84.0]]\n",
            "copy_opponent.py vs opposite_random_strategy.py: [[0, 0]]\n",
            "copy_opponent.py vs even_and_odd2.py: [[0, 0]]\n",
            "last_opponent_weakness.py vs last_opponent_strength.py: [[-50.0, 50.0]]\n",
            "last_opponent_weakness.py vs random_strategy.py: [[0, 0]]\n",
            "last_opponent_weakness.py vs cyclic_strategy.py: [[0, 0]]\n",
            "last_opponent_weakness.py vs weighted_random_strategy.py: [[0, 0]]\n",
            "last_opponent_weakness.py vs even_and_odd.py: [[-50.0, 50.0]]\n",
            "last_opponent_weakness.py vs weighted_random_strategy_dinamic.py: [[0, 0]]\n",
            "last_opponent_weakness.py vs cyclic_random_strategy.py: [[0, 0]]\n",
            "last_opponent_weakness.py vs opposite_random_strategy.py: [[0, 0]]\n",
            "last_opponent_weakness.py vs even_and_odd2.py: [[-49.0, 49.0]]\n",
            "last_opponent_strength.py vs random_strategy.py: [[0, 0]]\n",
            "last_opponent_strength.py vs cyclic_strategy.py: [[98.0, -98.0]]\n",
            "last_opponent_strength.py vs weighted_random_strategy.py: [[0, 0]]\n",
            "last_opponent_strength.py vs even_and_odd.py: [[50.0, -50.0]]\n",
            "last_opponent_strength.py vs weighted_random_strategy_dinamic.py: [[0, 0]]\n",
            "last_opponent_strength.py vs cyclic_random_strategy.py: [[86.0, -86.0]]\n",
            "last_opponent_strength.py vs opposite_random_strategy.py: [[0, 0]]\n",
            "last_opponent_strength.py vs even_and_odd2.py: [[43.0, -43.0]]\n",
            "random_strategy.py vs cyclic_strategy.py: [[0, 0]]\n",
            "random_strategy.py vs weighted_random_strategy.py: [[0, 0]]\n",
            "random_strategy.py vs even_and_odd.py: [[0, 0]]\n",
            "random_strategy.py vs weighted_random_strategy_dinamic.py: [[0, 0]]\n",
            "random_strategy.py vs cyclic_random_strategy.py: [[0, 0]]\n",
            "random_strategy.py vs opposite_random_strategy.py: [[0, 0]]\n",
            "random_strategy.py vs even_and_odd2.py: [[-23.0, 23.0]]\n",
            "cyclic_strategy.py vs weighted_random_strategy.py: [[0, 0]]\n",
            "cyclic_strategy.py vs even_and_odd.py: [[0, 0]]\n",
            "cyclic_strategy.py vs weighted_random_strategy_dinamic.py: [[0, 0]]\n",
            "cyclic_strategy.py vs cyclic_random_strategy.py: [[0, 0]]\n",
            "cyclic_strategy.py vs opposite_random_strategy.py: [[0, 0]]\n",
            "cyclic_strategy.py vs even_and_odd2.py: [[0, 0]]\n",
            "weighted_random_strategy.py vs even_and_odd.py: [[0, 0]]\n",
            "weighted_random_strategy.py vs weighted_random_strategy_dinamic.py: [[0, 0]]\n",
            "weighted_random_strategy.py vs cyclic_random_strategy.py: [[0, 0]]\n",
            "weighted_random_strategy.py vs opposite_random_strategy.py: [[0, 0]]\n",
            "weighted_random_strategy.py vs even_and_odd2.py: [[0, 0]]\n",
            "even_and_odd.py vs weighted_random_strategy_dinamic.py: [[0, 0]]\n",
            "even_and_odd.py vs cyclic_random_strategy.py: [[0, 0]]\n",
            "even_and_odd.py vs opposite_random_strategy.py: [[45.0, -45.0]]\n",
            "even_and_odd.py vs even_and_odd2.py: [[84.0, -84.0]]\n",
            "weighted_random_strategy_dinamic.py vs cyclic_random_strategy.py: [[0, 0]]\n",
            "weighted_random_strategy_dinamic.py vs opposite_random_strategy.py: [[0, 0]]\n",
            "weighted_random_strategy_dinamic.py vs even_and_odd2.py: [[0, 0]]\n",
            "cyclic_random_strategy.py vs opposite_random_strategy.py: [[0, 0]]\n",
            "cyclic_random_strategy.py vs even_and_odd2.py: [[0, 0]]\n",
            "opposite_random_strategy.py vs even_and_odd2.py: [[-49.0, 49.0]]\n"
          ]
        }
      ]
    }
  ]
}