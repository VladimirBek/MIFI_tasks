{
 "cells": [
  {
   "cell_type": "markdown",
   "metadata": {
    "id": "DQQFfNTLJ20S"
   },
   "source": [
    "# Задание 1"
   ]
  },
  {
   "cell_type": "code",
   "execution_count": 21,
   "metadata": {
    "id": "XqAzbM6WJyE2"
   },
   "outputs": [
    {
     "data": {
      "text/plain": [
       "'(AxB)xC'"
      ]
     },
     "execution_count": 21,
     "metadata": {},
     "output_type": "execute_result"
    }
   ],
   "source": [
    "#ваш код\n",
    "import numpy as np\n",
    "\n",
    "def multiplication_order(A, B, C):\n",
    "    A_rows, A_cols = A.shape\n",
    "    B_rows, B_cols = B.shape\n",
    "    C_rows, C_cols = C.shape\n",
    "    \n",
    "    operation_AB_C = A_rows * A_cols * B_cols + A_rows * B_cols * C_cols\n",
    "    operation_A_BC = B_rows * B_cols * C_cols + A_rows * B_cols * C_cols\n",
    "\n",
    "    if operation_AB_C <= operation_A_BC:\n",
    "        return \"(AxB)xC\"\n",
    "    else:\n",
    "        return \"Ax(BxC)\"\n",
    "    \n",
    "A = np.array([[1,2]])\n",
    "B = np.array([[2],[1]])\n",
    "C = np.array([[5]])\n",
    "multiplication_order(A,B,C)\n"
   ]
  },
  {
   "cell_type": "markdown",
   "metadata": {
    "id": "vQvUEt_KKShX"
   },
   "source": [
    "# Задание 2\n"
   ]
  },
  {
   "cell_type": "code",
   "execution_count": 22,
   "metadata": {
    "id": "TMJq9ob2KYBY"
   },
   "outputs": [
    {
     "data": {
      "text/plain": [
       "(3, 2)"
      ]
     },
     "execution_count": 22,
     "metadata": {},
     "output_type": "execute_result"
    }
   ],
   "source": [
    "#ваш код\n",
    "\n",
    "def best_worst(X, y):\n",
    "    correlations = np.array([np.corrcoef(X[:, i], y)[0, 1] for i in range(X.shape[1])])\n",
    "    \n",
    "    max_corr_idx = np.argmax(np.abs(correlations))\n",
    "    min_corr_idx = np.argmin(np.abs(correlations))\n",
    "    \n",
    "    return int(max_corr_idx), int(min_corr_idx)\n",
    "\n",
    "X = np.array([[3, 51, 3, 0, 1, 0],\n",
    "              [1, 30, 1, 0, 1, 0],\n",
    "              [2, 45, 2, 0, 1, 0],\n",
    "              [3, 55, 1, 0, 1, 0],\n",
    "              [1, 45, 3, 1, 0, 0],\n",
    "              [3, 100, 3, 1, 0, 0],\n",
    "              [2, 71, 2, 1, 0, 0],\n",
    "              [1, 31, 2, 0, 0, 1],\n",
    "              [3, 53, 5, 0, 0, 1],\n",
    "              [1, 33, 3, 0, 0, 1],\n",
    "              [2, 43, 5, 0, 0, 1]])\n",
    "y = np.array([2200, 1600, 1900, 2000, 4500, 7000, 5000, 1700, 2100, 1500, 2000])\n",
    "\n",
    "best_worst(X, y)"
   ]
  },
  {
   "cell_type": "markdown",
   "metadata": {
    "id": "hindpJMCKhB8"
   },
   "source": [
    "#Задание 3\n"
   ]
  },
  {
   "cell_type": "code",
   "execution_count": 23,
   "metadata": {
    "id": "-YLajcsEKkuQ"
   },
   "outputs": [
    {
     "data": {
      "text/plain": [
       "5"
      ]
     },
     "execution_count": 23,
     "metadata": {},
     "output_type": "execute_result"
    }
   ],
   "source": [
    "#ваш код\n",
    "\n",
    "def corr_rank(X):\n",
    "    corr_matrix = np.corrcoef(X, rowvar=False)\n",
    "    \n",
    "    \n",
    "    return np.linalg.matrix_rank(corr_matrix)\n",
    "\n",
    "corr_rank(X)"
   ]
  },
  {
   "cell_type": "markdown",
   "metadata": {
    "id": "tKweU9DCKk-f"
   },
   "source": [
    "# Задание 4"
   ]
  },
  {
   "cell_type": "code",
   "execution_count": 24,
   "metadata": {
    "id": "pi2fjbkjKmzi"
   },
   "outputs": [
    {
     "data": {
      "text/plain": [
       "array([[-0.33333333,  0.66666667],\n",
       "       [ 0.66666667, -0.33333333]])"
      ]
     },
     "execution_count": 24,
     "metadata": {},
     "output_type": "execute_result"
    }
   ],
   "source": [
    "#ваш код\n",
    "\n",
    "import numpy as np\n",
    "\n",
    "def inverse_matrix(A):\n",
    "    det = np.linalg.det(A)\n",
    "    \n",
    "    if abs(det) < 0.001:\n",
    "        return None \n",
    "    else:\n",
    "        return np.linalg.inv(A)\n",
    "\n",
    "A = np.array([[1, 2], [2, 1]])\n",
    "inverse_matrix(A)\n"
   ]
  },
  {
   "cell_type": "markdown",
   "metadata": {
    "id": "pnIqMUVsKnTq"
   },
   "source": [
    "# Задание 5"
   ]
  },
  {
   "cell_type": "code",
   "execution_count": 25,
   "metadata": {
    "id": "g34wFIBuKpmL"
   },
   "outputs": [
    {
     "data": {
      "text/plain": [
       "array([-574.12295766,   65.33255763,  141.80223878, 1566.16246224,\n",
       "         12.32450391, -315.34552489])"
      ]
     },
     "execution_count": 25,
     "metadata": {},
     "output_type": "execute_result"
    }
   ],
   "source": [
    "#ваш код\n",
    "def fit_model(X, y):\n",
    "    res = inverse_matrix(X.T @ X) @ X.T @ y\n",
    "    return res\n",
    "\n",
    "fit_model(X, y)"
   ]
  }
 ],
 "metadata": {
  "colab": {
   "provenance": []
  },
  "kernelspec": {
   "display_name": "Python 3",
   "name": "python3"
  },
  "language_info": {
   "codemirror_mode": {
    "name": "ipython",
    "version": 3
   },
   "file_extension": ".py",
   "mimetype": "text/x-python",
   "name": "python",
   "nbconvert_exporter": "python",
   "pygments_lexer": "ipython3",
   "version": "3.11.10"
  }
 },
 "nbformat": 4,
 "nbformat_minor": 0
}
